{
  "cells": [
    {
      "cell_type": "markdown",
      "metadata": {
        "id": "oqvzYeu2FnFB"
      },
      "source": [
        "# Insurance Premium Prediction"
      ]
    },
    {
      "cell_type": "code",
      "source": [
        "from google.colab import drive\n",
        "drive.mount('/content/drive')"
      ],
      "metadata": {
        "colab": {
          "base_uri": "https://localhost:8080/"
        },
        "id": "0qo4kcx690bZ",
        "outputId": "42c76635-130a-428c-e809-3eb4a31dd81c"
      },
      "execution_count": 1,
      "outputs": [
        {
          "output_type": "stream",
          "name": "stdout",
          "text": [
            "Mounted at /content/drive\n"
          ]
        }
      ]
    },
    {
      "cell_type": "markdown",
      "metadata": {
        "id": "UisR8dmcFnFK"
      },
      "source": [
        "## Problem Statement\n",
        "\n",
        "\n",
        "QUESTION**: ACME Insurance Inc. offers affordable health insurance to thousands of customer all over the United States. As the lead data scientist at ACME,you're tasked with creating an automated system to estimate the annual medical expenditure for new customers**, using information such as their age, sex, BMI, children, smoking habits and region of residence. \n",
        "\n",
        "Estimates from your system will be used to determine the annual insurance premium (amount paid every month) offered to the customer. \n",
        " \n",
        "We have given a CSV file containing verified historical data, consisting of the aforementioned information and the actual medical expenses incurred by over 1300 customers. "
      ]
    },
    {
      "cell_type": "markdown",
      "metadata": {
        "id": "NrH6rl8WFnFL"
      },
      "source": [
        "# Goal\n",
        "\n",
        "The purposes of this exercise to look into different features to observe their relationship, and plot a linear regression and random forest based on several features of individual such as age, physical/family condition and location against their existing medical expense to be used for predicting future medical expenses of individuals that help medical insurance to make decision on charging the premium."
      ]
    },
    {
      "cell_type": "markdown",
      "metadata": {
        "id": "nkzbqO2gFnFM"
      },
      "source": [
        "# Importing the Appropriate Libraries"
      ]
    },
    {
      "cell_type": "code",
      "source": [
        "pip install matplotlib --upgrade"
      ],
      "metadata": {
        "colab": {
          "base_uri": "https://localhost:8080/",
          "height": 502
        },
        "id": "ZFN1VgIOIpO_",
        "outputId": "e4dd9124-2b8c-43f9-cb82-b9e06c9a44ce"
      },
      "execution_count": 5,
      "outputs": [
        {
          "output_type": "stream",
          "name": "stdout",
          "text": [
            "Looking in indexes: https://pypi.org/simple, https://us-python.pkg.dev/colab-wheels/public/simple/\n",
            "Requirement already satisfied: matplotlib in /usr/local/lib/python3.7/dist-packages (3.2.2)\n",
            "Collecting matplotlib\n",
            "  Downloading matplotlib-3.5.3-cp37-cp37m-manylinux_2_5_x86_64.manylinux1_x86_64.whl (11.2 MB)\n",
            "\u001b[K     |████████████████████████████████| 11.2 MB 5.1 MB/s \n",
            "\u001b[?25hRequirement already satisfied: cycler>=0.10 in /usr/local/lib/python3.7/dist-packages (from matplotlib) (0.11.0)\n",
            "Collecting fonttools>=4.22.0\n",
            "  Downloading fonttools-4.37.4-py3-none-any.whl (960 kB)\n",
            "\u001b[K     |████████████████████████████████| 960 kB 58.1 MB/s \n",
            "\u001b[?25hRequirement already satisfied: pyparsing>=2.2.1 in /usr/local/lib/python3.7/dist-packages (from matplotlib) (3.0.9)\n",
            "Requirement already satisfied: kiwisolver>=1.0.1 in /usr/local/lib/python3.7/dist-packages (from matplotlib) (1.4.4)\n",
            "Requirement already satisfied: python-dateutil>=2.7 in /usr/local/lib/python3.7/dist-packages (from matplotlib) (2.8.2)\n",
            "Requirement already satisfied: packaging>=20.0 in /usr/local/lib/python3.7/dist-packages (from matplotlib) (21.3)\n",
            "Requirement already satisfied: pillow>=6.2.0 in /usr/local/lib/python3.7/dist-packages (from matplotlib) (7.1.2)\n",
            "Requirement already satisfied: numpy>=1.17 in /usr/local/lib/python3.7/dist-packages (from matplotlib) (1.21.6)\n",
            "Requirement already satisfied: typing-extensions in /usr/local/lib/python3.7/dist-packages (from kiwisolver>=1.0.1->matplotlib) (4.1.1)\n",
            "Requirement already satisfied: six>=1.5 in /usr/local/lib/python3.7/dist-packages (from python-dateutil>=2.7->matplotlib) (1.15.0)\n",
            "Installing collected packages: fonttools, matplotlib\n",
            "  Attempting uninstall: matplotlib\n",
            "    Found existing installation: matplotlib 3.2.2\n",
            "    Uninstalling matplotlib-3.2.2:\n",
            "      Successfully uninstalled matplotlib-3.2.2\n",
            "Successfully installed fonttools-4.37.4 matplotlib-3.5.3\n"
          ]
        },
        {
          "output_type": "display_data",
          "data": {
            "application/vnd.colab-display-data+json": {
              "pip_warning": {
                "packages": [
                  "matplotlib",
                  "mpl_toolkits"
                ]
              }
            }
          },
          "metadata": {}
        }
      ]
    },
    {
      "cell_type": "code",
      "execution_count": 1,
      "metadata": {
        "id": "dOvl7I610xQi"
      },
      "outputs": [],
      "source": [
        "# Importing NUMPY for Performing Mathematical Opertions on Array\n",
        "import numpy as np\n",
        "\n",
        "# Importing PANDAS for Basic DATA Operations\n",
        "import pandas as pd\n",
        "\n",
        "# Importing SEABORN & MATPLOTLIB for PLOTTING\n",
        "import seaborn as sns\n",
        "import matplotlib.pyplot as plt\n",
        "\n",
        "# Importing STYLE to set the Style\n",
        "from matplotlib import style"
      ]
    },
    {
      "cell_type": "code",
      "execution_count": 2,
      "metadata": {
        "id": "5vpKGYUTFnFP"
      },
      "outputs": [],
      "source": [
        "# Importing TTSplit for SPLITTING the Data into Training&Test\n",
        "from sklearn.model_selection import train_test_split\n",
        "\n",
        "# Importing the 1HOTENCODER to transform the data to a binary.\n",
        "# Importing the STANDARDSCALER to Standardize features by removing the mean and scaling.\n",
        "from sklearn.preprocessing import OneHotEncoder, StandardScaler\n",
        "\n",
        "# Importing the COLUMNTRANSFORMER to apply transformers to columns of an array. \n",
        "from sklearn.compose import ColumnTransformer\n",
        "\n",
        "# Importing Pipes for making the Pipe Flow\n",
        "from sklearn.pipeline import Pipeline"
      ]
    },
    {
      "cell_type": "code",
      "execution_count": 3,
      "metadata": {
        "id": "YMyXqq7QFnFQ"
      },
      "outputs": [],
      "source": [
        "# Importing LinearRegression to perform it on a Data\n",
        "from sklearn.linear_model import LinearRegression\n",
        "\n",
        "# Importing the RFR from Ensemble to build&predict \n",
        "from sklearn.ensemble import RandomForestRegressor\n",
        "\n",
        "# Importing WIDGETS to Build a WIDGETS\n",
        "import ipywidgets as widgets\n",
        "\n",
        "# Importing the DISPLAY Function to Display the widgets\n",
        "from IPython.display import display\n",
        "\n",
        "# Importing the Ignore Warnings to Suppress Warnings\n",
        "import warnings\n",
        "warnings.filterwarnings(\"ignore\")"
      ]
    },
    {
      "cell_type": "markdown",
      "metadata": {
        "id": "WrgMuqORFnFS"
      },
      "source": [
        "\n",
        "# Data Collection"
      ]
    },
    {
      "cell_type": "code",
      "execution_count": 4,
      "metadata": {
        "id": "Smk6989R2dz4"
      },
      "outputs": [],
      "source": [
        "data = pd.read_csv(\"/content/drive/MyDrive/Datasets/insurance.csv\")"
      ]
    },
    {
      "cell_type": "markdown",
      "metadata": {
        "id": "mcPiuYc6FnFT"
      },
      "source": [
        "# Exploratory Data Analysis"
      ]
    },
    {
      "cell_type": "code",
      "execution_count": 5,
      "metadata": {
        "colab": {
          "base_uri": "https://localhost:8080/",
          "height": 363
        },
        "id": "qS6rGWbt2pSx",
        "outputId": "3206d2a8-1605-4491-86a8-c38c3c90f46e"
      },
      "outputs": [
        {
          "output_type": "execute_result",
          "data": {
            "text/plain": [
              "   age     sex   bmi  children smoker     region  expenses\n",
              "0   19  female  27.9         0    yes  southwest  16884.92\n",
              "1   18    male  33.8         1     no  southeast   1725.55\n",
              "2   28    male  33.0         3     no  southeast   4449.46\n",
              "3   33    male  22.7         0     no  northwest  21984.47\n",
              "4   32    male  28.9         0     no  northwest   3866.86\n",
              "5   31  female  25.7         0     no  southeast   3756.62\n",
              "6   46  female  33.4         1     no  southeast   8240.59\n",
              "7   37  female  27.7         3     no  northwest   7281.51\n",
              "8   37    male  29.8         2     no  northeast   6406.41\n",
              "9   60  female  25.8         0     no  northwest  28923.14"
            ],
            "text/html": [
              "\n",
              "  <div id=\"df-3e9964bc-31dd-4b45-8ab9-8cbbae01b57d\">\n",
              "    <div class=\"colab-df-container\">\n",
              "      <div>\n",
              "<style scoped>\n",
              "    .dataframe tbody tr th:only-of-type {\n",
              "        vertical-align: middle;\n",
              "    }\n",
              "\n",
              "    .dataframe tbody tr th {\n",
              "        vertical-align: top;\n",
              "    }\n",
              "\n",
              "    .dataframe thead th {\n",
              "        text-align: right;\n",
              "    }\n",
              "</style>\n",
              "<table border=\"1\" class=\"dataframe\">\n",
              "  <thead>\n",
              "    <tr style=\"text-align: right;\">\n",
              "      <th></th>\n",
              "      <th>age</th>\n",
              "      <th>sex</th>\n",
              "      <th>bmi</th>\n",
              "      <th>children</th>\n",
              "      <th>smoker</th>\n",
              "      <th>region</th>\n",
              "      <th>expenses</th>\n",
              "    </tr>\n",
              "  </thead>\n",
              "  <tbody>\n",
              "    <tr>\n",
              "      <th>0</th>\n",
              "      <td>19</td>\n",
              "      <td>female</td>\n",
              "      <td>27.9</td>\n",
              "      <td>0</td>\n",
              "      <td>yes</td>\n",
              "      <td>southwest</td>\n",
              "      <td>16884.92</td>\n",
              "    </tr>\n",
              "    <tr>\n",
              "      <th>1</th>\n",
              "      <td>18</td>\n",
              "      <td>male</td>\n",
              "      <td>33.8</td>\n",
              "      <td>1</td>\n",
              "      <td>no</td>\n",
              "      <td>southeast</td>\n",
              "      <td>1725.55</td>\n",
              "    </tr>\n",
              "    <tr>\n",
              "      <th>2</th>\n",
              "      <td>28</td>\n",
              "      <td>male</td>\n",
              "      <td>33.0</td>\n",
              "      <td>3</td>\n",
              "      <td>no</td>\n",
              "      <td>southeast</td>\n",
              "      <td>4449.46</td>\n",
              "    </tr>\n",
              "    <tr>\n",
              "      <th>3</th>\n",
              "      <td>33</td>\n",
              "      <td>male</td>\n",
              "      <td>22.7</td>\n",
              "      <td>0</td>\n",
              "      <td>no</td>\n",
              "      <td>northwest</td>\n",
              "      <td>21984.47</td>\n",
              "    </tr>\n",
              "    <tr>\n",
              "      <th>4</th>\n",
              "      <td>32</td>\n",
              "      <td>male</td>\n",
              "      <td>28.9</td>\n",
              "      <td>0</td>\n",
              "      <td>no</td>\n",
              "      <td>northwest</td>\n",
              "      <td>3866.86</td>\n",
              "    </tr>\n",
              "    <tr>\n",
              "      <th>5</th>\n",
              "      <td>31</td>\n",
              "      <td>female</td>\n",
              "      <td>25.7</td>\n",
              "      <td>0</td>\n",
              "      <td>no</td>\n",
              "      <td>southeast</td>\n",
              "      <td>3756.62</td>\n",
              "    </tr>\n",
              "    <tr>\n",
              "      <th>6</th>\n",
              "      <td>46</td>\n",
              "      <td>female</td>\n",
              "      <td>33.4</td>\n",
              "      <td>1</td>\n",
              "      <td>no</td>\n",
              "      <td>southeast</td>\n",
              "      <td>8240.59</td>\n",
              "    </tr>\n",
              "    <tr>\n",
              "      <th>7</th>\n",
              "      <td>37</td>\n",
              "      <td>female</td>\n",
              "      <td>27.7</td>\n",
              "      <td>3</td>\n",
              "      <td>no</td>\n",
              "      <td>northwest</td>\n",
              "      <td>7281.51</td>\n",
              "    </tr>\n",
              "    <tr>\n",
              "      <th>8</th>\n",
              "      <td>37</td>\n",
              "      <td>male</td>\n",
              "      <td>29.8</td>\n",
              "      <td>2</td>\n",
              "      <td>no</td>\n",
              "      <td>northeast</td>\n",
              "      <td>6406.41</td>\n",
              "    </tr>\n",
              "    <tr>\n",
              "      <th>9</th>\n",
              "      <td>60</td>\n",
              "      <td>female</td>\n",
              "      <td>25.8</td>\n",
              "      <td>0</td>\n",
              "      <td>no</td>\n",
              "      <td>northwest</td>\n",
              "      <td>28923.14</td>\n",
              "    </tr>\n",
              "  </tbody>\n",
              "</table>\n",
              "</div>\n",
              "      <button class=\"colab-df-convert\" onclick=\"convertToInteractive('df-3e9964bc-31dd-4b45-8ab9-8cbbae01b57d')\"\n",
              "              title=\"Convert this dataframe to an interactive table.\"\n",
              "              style=\"display:none;\">\n",
              "        \n",
              "  <svg xmlns=\"http://www.w3.org/2000/svg\" height=\"24px\"viewBox=\"0 0 24 24\"\n",
              "       width=\"24px\">\n",
              "    <path d=\"M0 0h24v24H0V0z\" fill=\"none\"/>\n",
              "    <path d=\"M18.56 5.44l.94 2.06.94-2.06 2.06-.94-2.06-.94-.94-2.06-.94 2.06-2.06.94zm-11 1L8.5 8.5l.94-2.06 2.06-.94-2.06-.94L8.5 2.5l-.94 2.06-2.06.94zm10 10l.94 2.06.94-2.06 2.06-.94-2.06-.94-.94-2.06-.94 2.06-2.06.94z\"/><path d=\"M17.41 7.96l-1.37-1.37c-.4-.4-.92-.59-1.43-.59-.52 0-1.04.2-1.43.59L10.3 9.45l-7.72 7.72c-.78.78-.78 2.05 0 2.83L4 21.41c.39.39.9.59 1.41.59.51 0 1.02-.2 1.41-.59l7.78-7.78 2.81-2.81c.8-.78.8-2.07 0-2.86zM5.41 20L4 18.59l7.72-7.72 1.47 1.35L5.41 20z\"/>\n",
              "  </svg>\n",
              "      </button>\n",
              "      \n",
              "  <style>\n",
              "    .colab-df-container {\n",
              "      display:flex;\n",
              "      flex-wrap:wrap;\n",
              "      gap: 12px;\n",
              "    }\n",
              "\n",
              "    .colab-df-convert {\n",
              "      background-color: #E8F0FE;\n",
              "      border: none;\n",
              "      border-radius: 50%;\n",
              "      cursor: pointer;\n",
              "      display: none;\n",
              "      fill: #1967D2;\n",
              "      height: 32px;\n",
              "      padding: 0 0 0 0;\n",
              "      width: 32px;\n",
              "    }\n",
              "\n",
              "    .colab-df-convert:hover {\n",
              "      background-color: #E2EBFA;\n",
              "      box-shadow: 0px 1px 2px rgba(60, 64, 67, 0.3), 0px 1px 3px 1px rgba(60, 64, 67, 0.15);\n",
              "      fill: #174EA6;\n",
              "    }\n",
              "\n",
              "    [theme=dark] .colab-df-convert {\n",
              "      background-color: #3B4455;\n",
              "      fill: #D2E3FC;\n",
              "    }\n",
              "\n",
              "    [theme=dark] .colab-df-convert:hover {\n",
              "      background-color: #434B5C;\n",
              "      box-shadow: 0px 1px 3px 1px rgba(0, 0, 0, 0.15);\n",
              "      filter: drop-shadow(0px 1px 2px rgba(0, 0, 0, 0.3));\n",
              "      fill: #FFFFFF;\n",
              "    }\n",
              "  </style>\n",
              "\n",
              "      <script>\n",
              "        const buttonEl =\n",
              "          document.querySelector('#df-3e9964bc-31dd-4b45-8ab9-8cbbae01b57d button.colab-df-convert');\n",
              "        buttonEl.style.display =\n",
              "          google.colab.kernel.accessAllowed ? 'block' : 'none';\n",
              "\n",
              "        async function convertToInteractive(key) {\n",
              "          const element = document.querySelector('#df-3e9964bc-31dd-4b45-8ab9-8cbbae01b57d');\n",
              "          const dataTable =\n",
              "            await google.colab.kernel.invokeFunction('convertToInteractive',\n",
              "                                                     [key], {});\n",
              "          if (!dataTable) return;\n",
              "\n",
              "          const docLinkHtml = 'Like what you see? Visit the ' +\n",
              "            '<a target=\"_blank\" href=https://colab.research.google.com/notebooks/data_table.ipynb>data table notebook</a>'\n",
              "            + ' to learn more about interactive tables.';\n",
              "          element.innerHTML = '';\n",
              "          dataTable['output_type'] = 'display_data';\n",
              "          await google.colab.output.renderOutput(dataTable, element);\n",
              "          const docLink = document.createElement('div');\n",
              "          docLink.innerHTML = docLinkHtml;\n",
              "          element.appendChild(docLink);\n",
              "        }\n",
              "      </script>\n",
              "    </div>\n",
              "  </div>\n",
              "  "
            ]
          },
          "metadata": {},
          "execution_count": 5
        }
      ],
      "source": [
        "# Displaying the First 10-Records of data\n",
        "data.head(10)"
      ]
    },
    {
      "cell_type": "code",
      "execution_count": 6,
      "metadata": {
        "colab": {
          "base_uri": "https://localhost:8080/",
          "height": 363
        },
        "id": "MWylj1mTFnFV",
        "outputId": "f6df3dc0-c2fd-48c0-bcb2-ed9145b107e0"
      },
      "outputs": [
        {
          "output_type": "execute_result",
          "data": {
            "text/plain": [
              "      age     sex   bmi  children smoker     region  expenses\n",
              "1328   23  female  24.2         2     no  northeast  22395.74\n",
              "1329   52    male  38.6         2     no  southwest  10325.21\n",
              "1330   57  female  25.7         2     no  southeast  12629.17\n",
              "1331   23  female  33.4         0     no  southwest  10795.94\n",
              "1332   52  female  44.7         3     no  southwest  11411.69\n",
              "1333   50    male  31.0         3     no  northwest  10600.55\n",
              "1334   18  female  31.9         0     no  northeast   2205.98\n",
              "1335   18  female  36.9         0     no  southeast   1629.83\n",
              "1336   21  female  25.8         0     no  southwest   2007.95\n",
              "1337   61  female  29.1         0    yes  northwest  29141.36"
            ],
            "text/html": [
              "\n",
              "  <div id=\"df-880cddb8-3dac-4b55-949c-2a8ec5685adc\">\n",
              "    <div class=\"colab-df-container\">\n",
              "      <div>\n",
              "<style scoped>\n",
              "    .dataframe tbody tr th:only-of-type {\n",
              "        vertical-align: middle;\n",
              "    }\n",
              "\n",
              "    .dataframe tbody tr th {\n",
              "        vertical-align: top;\n",
              "    }\n",
              "\n",
              "    .dataframe thead th {\n",
              "        text-align: right;\n",
              "    }\n",
              "</style>\n",
              "<table border=\"1\" class=\"dataframe\">\n",
              "  <thead>\n",
              "    <tr style=\"text-align: right;\">\n",
              "      <th></th>\n",
              "      <th>age</th>\n",
              "      <th>sex</th>\n",
              "      <th>bmi</th>\n",
              "      <th>children</th>\n",
              "      <th>smoker</th>\n",
              "      <th>region</th>\n",
              "      <th>expenses</th>\n",
              "    </tr>\n",
              "  </thead>\n",
              "  <tbody>\n",
              "    <tr>\n",
              "      <th>1328</th>\n",
              "      <td>23</td>\n",
              "      <td>female</td>\n",
              "      <td>24.2</td>\n",
              "      <td>2</td>\n",
              "      <td>no</td>\n",
              "      <td>northeast</td>\n",
              "      <td>22395.74</td>\n",
              "    </tr>\n",
              "    <tr>\n",
              "      <th>1329</th>\n",
              "      <td>52</td>\n",
              "      <td>male</td>\n",
              "      <td>38.6</td>\n",
              "      <td>2</td>\n",
              "      <td>no</td>\n",
              "      <td>southwest</td>\n",
              "      <td>10325.21</td>\n",
              "    </tr>\n",
              "    <tr>\n",
              "      <th>1330</th>\n",
              "      <td>57</td>\n",
              "      <td>female</td>\n",
              "      <td>25.7</td>\n",
              "      <td>2</td>\n",
              "      <td>no</td>\n",
              "      <td>southeast</td>\n",
              "      <td>12629.17</td>\n",
              "    </tr>\n",
              "    <tr>\n",
              "      <th>1331</th>\n",
              "      <td>23</td>\n",
              "      <td>female</td>\n",
              "      <td>33.4</td>\n",
              "      <td>0</td>\n",
              "      <td>no</td>\n",
              "      <td>southwest</td>\n",
              "      <td>10795.94</td>\n",
              "    </tr>\n",
              "    <tr>\n",
              "      <th>1332</th>\n",
              "      <td>52</td>\n",
              "      <td>female</td>\n",
              "      <td>44.7</td>\n",
              "      <td>3</td>\n",
              "      <td>no</td>\n",
              "      <td>southwest</td>\n",
              "      <td>11411.69</td>\n",
              "    </tr>\n",
              "    <tr>\n",
              "      <th>1333</th>\n",
              "      <td>50</td>\n",
              "      <td>male</td>\n",
              "      <td>31.0</td>\n",
              "      <td>3</td>\n",
              "      <td>no</td>\n",
              "      <td>northwest</td>\n",
              "      <td>10600.55</td>\n",
              "    </tr>\n",
              "    <tr>\n",
              "      <th>1334</th>\n",
              "      <td>18</td>\n",
              "      <td>female</td>\n",
              "      <td>31.9</td>\n",
              "      <td>0</td>\n",
              "      <td>no</td>\n",
              "      <td>northeast</td>\n",
              "      <td>2205.98</td>\n",
              "    </tr>\n",
              "    <tr>\n",
              "      <th>1335</th>\n",
              "      <td>18</td>\n",
              "      <td>female</td>\n",
              "      <td>36.9</td>\n",
              "      <td>0</td>\n",
              "      <td>no</td>\n",
              "      <td>southeast</td>\n",
              "      <td>1629.83</td>\n",
              "    </tr>\n",
              "    <tr>\n",
              "      <th>1336</th>\n",
              "      <td>21</td>\n",
              "      <td>female</td>\n",
              "      <td>25.8</td>\n",
              "      <td>0</td>\n",
              "      <td>no</td>\n",
              "      <td>southwest</td>\n",
              "      <td>2007.95</td>\n",
              "    </tr>\n",
              "    <tr>\n",
              "      <th>1337</th>\n",
              "      <td>61</td>\n",
              "      <td>female</td>\n",
              "      <td>29.1</td>\n",
              "      <td>0</td>\n",
              "      <td>yes</td>\n",
              "      <td>northwest</td>\n",
              "      <td>29141.36</td>\n",
              "    </tr>\n",
              "  </tbody>\n",
              "</table>\n",
              "</div>\n",
              "      <button class=\"colab-df-convert\" onclick=\"convertToInteractive('df-880cddb8-3dac-4b55-949c-2a8ec5685adc')\"\n",
              "              title=\"Convert this dataframe to an interactive table.\"\n",
              "              style=\"display:none;\">\n",
              "        \n",
              "  <svg xmlns=\"http://www.w3.org/2000/svg\" height=\"24px\"viewBox=\"0 0 24 24\"\n",
              "       width=\"24px\">\n",
              "    <path d=\"M0 0h24v24H0V0z\" fill=\"none\"/>\n",
              "    <path d=\"M18.56 5.44l.94 2.06.94-2.06 2.06-.94-2.06-.94-.94-2.06-.94 2.06-2.06.94zm-11 1L8.5 8.5l.94-2.06 2.06-.94-2.06-.94L8.5 2.5l-.94 2.06-2.06.94zm10 10l.94 2.06.94-2.06 2.06-.94-2.06-.94-.94-2.06-.94 2.06-2.06.94z\"/><path d=\"M17.41 7.96l-1.37-1.37c-.4-.4-.92-.59-1.43-.59-.52 0-1.04.2-1.43.59L10.3 9.45l-7.72 7.72c-.78.78-.78 2.05 0 2.83L4 21.41c.39.39.9.59 1.41.59.51 0 1.02-.2 1.41-.59l7.78-7.78 2.81-2.81c.8-.78.8-2.07 0-2.86zM5.41 20L4 18.59l7.72-7.72 1.47 1.35L5.41 20z\"/>\n",
              "  </svg>\n",
              "      </button>\n",
              "      \n",
              "  <style>\n",
              "    .colab-df-container {\n",
              "      display:flex;\n",
              "      flex-wrap:wrap;\n",
              "      gap: 12px;\n",
              "    }\n",
              "\n",
              "    .colab-df-convert {\n",
              "      background-color: #E8F0FE;\n",
              "      border: none;\n",
              "      border-radius: 50%;\n",
              "      cursor: pointer;\n",
              "      display: none;\n",
              "      fill: #1967D2;\n",
              "      height: 32px;\n",
              "      padding: 0 0 0 0;\n",
              "      width: 32px;\n",
              "    }\n",
              "\n",
              "    .colab-df-convert:hover {\n",
              "      background-color: #E2EBFA;\n",
              "      box-shadow: 0px 1px 2px rgba(60, 64, 67, 0.3), 0px 1px 3px 1px rgba(60, 64, 67, 0.15);\n",
              "      fill: #174EA6;\n",
              "    }\n",
              "\n",
              "    [theme=dark] .colab-df-convert {\n",
              "      background-color: #3B4455;\n",
              "      fill: #D2E3FC;\n",
              "    }\n",
              "\n",
              "    [theme=dark] .colab-df-convert:hover {\n",
              "      background-color: #434B5C;\n",
              "      box-shadow: 0px 1px 3px 1px rgba(0, 0, 0, 0.15);\n",
              "      filter: drop-shadow(0px 1px 2px rgba(0, 0, 0, 0.3));\n",
              "      fill: #FFFFFF;\n",
              "    }\n",
              "  </style>\n",
              "\n",
              "      <script>\n",
              "        const buttonEl =\n",
              "          document.querySelector('#df-880cddb8-3dac-4b55-949c-2a8ec5685adc button.colab-df-convert');\n",
              "        buttonEl.style.display =\n",
              "          google.colab.kernel.accessAllowed ? 'block' : 'none';\n",
              "\n",
              "        async function convertToInteractive(key) {\n",
              "          const element = document.querySelector('#df-880cddb8-3dac-4b55-949c-2a8ec5685adc');\n",
              "          const dataTable =\n",
              "            await google.colab.kernel.invokeFunction('convertToInteractive',\n",
              "                                                     [key], {});\n",
              "          if (!dataTable) return;\n",
              "\n",
              "          const docLinkHtml = 'Like what you see? Visit the ' +\n",
              "            '<a target=\"_blank\" href=https://colab.research.google.com/notebooks/data_table.ipynb>data table notebook</a>'\n",
              "            + ' to learn more about interactive tables.';\n",
              "          element.innerHTML = '';\n",
              "          dataTable['output_type'] = 'display_data';\n",
              "          await google.colab.output.renderOutput(dataTable, element);\n",
              "          const docLink = document.createElement('div');\n",
              "          docLink.innerHTML = docLinkHtml;\n",
              "          element.appendChild(docLink);\n",
              "        }\n",
              "      </script>\n",
              "    </div>\n",
              "  </div>\n",
              "  "
            ]
          },
          "metadata": {},
          "execution_count": 6
        }
      ],
      "source": [
        "# Displaying the Last 10-Records of data\n",
        "data.tail(10)"
      ]
    },
    {
      "cell_type": "code",
      "execution_count": 7,
      "metadata": {
        "colab": {
          "base_uri": "https://localhost:8080/",
          "height": 363
        },
        "id": "3lNf3hc9FnFW",
        "outputId": "849f5b32-b2bc-4a91-a014-93e011972803"
      },
      "outputs": [
        {
          "output_type": "execute_result",
          "data": {
            "text/plain": [
              "      age     sex   bmi  children smoker     region  expenses\n",
              "843    57  female  29.8         0    yes  southeast  27533.91\n",
              "781    18    male  41.1         0     no  southeast   1146.80\n",
              "326    27  female  23.2         1     no  southeast   3561.89\n",
              "1280   48  female  33.3         0     no  southeast   8283.68\n",
              "981    34    male  21.4         0     no  northeast   4500.34\n",
              "673    41  female  31.0         0     no  southeast   6185.32\n",
              "724    50  female  27.1         1     no  northeast  10106.13\n",
              "831    36  female  25.8         0     no  northwest   5266.37\n",
              "89     55  female  27.0         0     no  northwest  11082.58\n",
              "1310   42    male  26.3         1     no  northwest   6940.91"
            ],
            "text/html": [
              "\n",
              "  <div id=\"df-a284472e-20ab-494c-930d-02542a05596b\">\n",
              "    <div class=\"colab-df-container\">\n",
              "      <div>\n",
              "<style scoped>\n",
              "    .dataframe tbody tr th:only-of-type {\n",
              "        vertical-align: middle;\n",
              "    }\n",
              "\n",
              "    .dataframe tbody tr th {\n",
              "        vertical-align: top;\n",
              "    }\n",
              "\n",
              "    .dataframe thead th {\n",
              "        text-align: right;\n",
              "    }\n",
              "</style>\n",
              "<table border=\"1\" class=\"dataframe\">\n",
              "  <thead>\n",
              "    <tr style=\"text-align: right;\">\n",
              "      <th></th>\n",
              "      <th>age</th>\n",
              "      <th>sex</th>\n",
              "      <th>bmi</th>\n",
              "      <th>children</th>\n",
              "      <th>smoker</th>\n",
              "      <th>region</th>\n",
              "      <th>expenses</th>\n",
              "    </tr>\n",
              "  </thead>\n",
              "  <tbody>\n",
              "    <tr>\n",
              "      <th>843</th>\n",
              "      <td>57</td>\n",
              "      <td>female</td>\n",
              "      <td>29.8</td>\n",
              "      <td>0</td>\n",
              "      <td>yes</td>\n",
              "      <td>southeast</td>\n",
              "      <td>27533.91</td>\n",
              "    </tr>\n",
              "    <tr>\n",
              "      <th>781</th>\n",
              "      <td>18</td>\n",
              "      <td>male</td>\n",
              "      <td>41.1</td>\n",
              "      <td>0</td>\n",
              "      <td>no</td>\n",
              "      <td>southeast</td>\n",
              "      <td>1146.80</td>\n",
              "    </tr>\n",
              "    <tr>\n",
              "      <th>326</th>\n",
              "      <td>27</td>\n",
              "      <td>female</td>\n",
              "      <td>23.2</td>\n",
              "      <td>1</td>\n",
              "      <td>no</td>\n",
              "      <td>southeast</td>\n",
              "      <td>3561.89</td>\n",
              "    </tr>\n",
              "    <tr>\n",
              "      <th>1280</th>\n",
              "      <td>48</td>\n",
              "      <td>female</td>\n",
              "      <td>33.3</td>\n",
              "      <td>0</td>\n",
              "      <td>no</td>\n",
              "      <td>southeast</td>\n",
              "      <td>8283.68</td>\n",
              "    </tr>\n",
              "    <tr>\n",
              "      <th>981</th>\n",
              "      <td>34</td>\n",
              "      <td>male</td>\n",
              "      <td>21.4</td>\n",
              "      <td>0</td>\n",
              "      <td>no</td>\n",
              "      <td>northeast</td>\n",
              "      <td>4500.34</td>\n",
              "    </tr>\n",
              "    <tr>\n",
              "      <th>673</th>\n",
              "      <td>41</td>\n",
              "      <td>female</td>\n",
              "      <td>31.0</td>\n",
              "      <td>0</td>\n",
              "      <td>no</td>\n",
              "      <td>southeast</td>\n",
              "      <td>6185.32</td>\n",
              "    </tr>\n",
              "    <tr>\n",
              "      <th>724</th>\n",
              "      <td>50</td>\n",
              "      <td>female</td>\n",
              "      <td>27.1</td>\n",
              "      <td>1</td>\n",
              "      <td>no</td>\n",
              "      <td>northeast</td>\n",
              "      <td>10106.13</td>\n",
              "    </tr>\n",
              "    <tr>\n",
              "      <th>831</th>\n",
              "      <td>36</td>\n",
              "      <td>female</td>\n",
              "      <td>25.8</td>\n",
              "      <td>0</td>\n",
              "      <td>no</td>\n",
              "      <td>northwest</td>\n",
              "      <td>5266.37</td>\n",
              "    </tr>\n",
              "    <tr>\n",
              "      <th>89</th>\n",
              "      <td>55</td>\n",
              "      <td>female</td>\n",
              "      <td>27.0</td>\n",
              "      <td>0</td>\n",
              "      <td>no</td>\n",
              "      <td>northwest</td>\n",
              "      <td>11082.58</td>\n",
              "    </tr>\n",
              "    <tr>\n",
              "      <th>1310</th>\n",
              "      <td>42</td>\n",
              "      <td>male</td>\n",
              "      <td>26.3</td>\n",
              "      <td>1</td>\n",
              "      <td>no</td>\n",
              "      <td>northwest</td>\n",
              "      <td>6940.91</td>\n",
              "    </tr>\n",
              "  </tbody>\n",
              "</table>\n",
              "</div>\n",
              "      <button class=\"colab-df-convert\" onclick=\"convertToInteractive('df-a284472e-20ab-494c-930d-02542a05596b')\"\n",
              "              title=\"Convert this dataframe to an interactive table.\"\n",
              "              style=\"display:none;\">\n",
              "        \n",
              "  <svg xmlns=\"http://www.w3.org/2000/svg\" height=\"24px\"viewBox=\"0 0 24 24\"\n",
              "       width=\"24px\">\n",
              "    <path d=\"M0 0h24v24H0V0z\" fill=\"none\"/>\n",
              "    <path d=\"M18.56 5.44l.94 2.06.94-2.06 2.06-.94-2.06-.94-.94-2.06-.94 2.06-2.06.94zm-11 1L8.5 8.5l.94-2.06 2.06-.94-2.06-.94L8.5 2.5l-.94 2.06-2.06.94zm10 10l.94 2.06.94-2.06 2.06-.94-2.06-.94-.94-2.06-.94 2.06-2.06.94z\"/><path d=\"M17.41 7.96l-1.37-1.37c-.4-.4-.92-.59-1.43-.59-.52 0-1.04.2-1.43.59L10.3 9.45l-7.72 7.72c-.78.78-.78 2.05 0 2.83L4 21.41c.39.39.9.59 1.41.59.51 0 1.02-.2 1.41-.59l7.78-7.78 2.81-2.81c.8-.78.8-2.07 0-2.86zM5.41 20L4 18.59l7.72-7.72 1.47 1.35L5.41 20z\"/>\n",
              "  </svg>\n",
              "      </button>\n",
              "      \n",
              "  <style>\n",
              "    .colab-df-container {\n",
              "      display:flex;\n",
              "      flex-wrap:wrap;\n",
              "      gap: 12px;\n",
              "    }\n",
              "\n",
              "    .colab-df-convert {\n",
              "      background-color: #E8F0FE;\n",
              "      border: none;\n",
              "      border-radius: 50%;\n",
              "      cursor: pointer;\n",
              "      display: none;\n",
              "      fill: #1967D2;\n",
              "      height: 32px;\n",
              "      padding: 0 0 0 0;\n",
              "      width: 32px;\n",
              "    }\n",
              "\n",
              "    .colab-df-convert:hover {\n",
              "      background-color: #E2EBFA;\n",
              "      box-shadow: 0px 1px 2px rgba(60, 64, 67, 0.3), 0px 1px 3px 1px rgba(60, 64, 67, 0.15);\n",
              "      fill: #174EA6;\n",
              "    }\n",
              "\n",
              "    [theme=dark] .colab-df-convert {\n",
              "      background-color: #3B4455;\n",
              "      fill: #D2E3FC;\n",
              "    }\n",
              "\n",
              "    [theme=dark] .colab-df-convert:hover {\n",
              "      background-color: #434B5C;\n",
              "      box-shadow: 0px 1px 3px 1px rgba(0, 0, 0, 0.15);\n",
              "      filter: drop-shadow(0px 1px 2px rgba(0, 0, 0, 0.3));\n",
              "      fill: #FFFFFF;\n",
              "    }\n",
              "  </style>\n",
              "\n",
              "      <script>\n",
              "        const buttonEl =\n",
              "          document.querySelector('#df-a284472e-20ab-494c-930d-02542a05596b button.colab-df-convert');\n",
              "        buttonEl.style.display =\n",
              "          google.colab.kernel.accessAllowed ? 'block' : 'none';\n",
              "\n",
              "        async function convertToInteractive(key) {\n",
              "          const element = document.querySelector('#df-a284472e-20ab-494c-930d-02542a05596b');\n",
              "          const dataTable =\n",
              "            await google.colab.kernel.invokeFunction('convertToInteractive',\n",
              "                                                     [key], {});\n",
              "          if (!dataTable) return;\n",
              "\n",
              "          const docLinkHtml = 'Like what you see? Visit the ' +\n",
              "            '<a target=\"_blank\" href=https://colab.research.google.com/notebooks/data_table.ipynb>data table notebook</a>'\n",
              "            + ' to learn more about interactive tables.';\n",
              "          element.innerHTML = '';\n",
              "          dataTable['output_type'] = 'display_data';\n",
              "          await google.colab.output.renderOutput(dataTable, element);\n",
              "          const docLink = document.createElement('div');\n",
              "          docLink.innerHTML = docLinkHtml;\n",
              "          element.appendChild(docLink);\n",
              "        }\n",
              "      </script>\n",
              "    </div>\n",
              "  </div>\n",
              "  "
            ]
          },
          "metadata": {},
          "execution_count": 7
        }
      ],
      "source": [
        "# Displaying the Random 10-Records of data\n",
        "data.sample(10)"
      ]
    },
    {
      "cell_type": "code",
      "execution_count": 8,
      "metadata": {
        "colab": {
          "base_uri": "https://localhost:8080/"
        },
        "id": "HLI37zyT2rZe",
        "outputId": "28345a5d-be02-4287-d49f-0249c763c892"
      },
      "outputs": [
        {
          "output_type": "execute_result",
          "data": {
            "text/plain": [
              "(1338, 7)"
            ]
          },
          "metadata": {},
          "execution_count": 8
        }
      ],
      "source": [
        "# Number of Rows & Columns\n",
        "data.shape"
      ]
    },
    {
      "cell_type": "markdown",
      "metadata": {
        "id": "mcziki9VFnFY"
      },
      "source": [
        "\n",
        "Number of Rows = 1338\n",
        "\n",
        "Number of Columns = 7"
      ]
    },
    {
      "cell_type": "code",
      "execution_count": 9,
      "metadata": {
        "colab": {
          "base_uri": "https://localhost:8080/"
        },
        "id": "mB3arwhf2uJf",
        "outputId": "ed865905-9df0-41ca-d4a7-845df1faa217"
      },
      "outputs": [
        {
          "output_type": "stream",
          "name": "stdout",
          "text": [
            "<class 'pandas.core.frame.DataFrame'>\n",
            "RangeIndex: 1338 entries, 0 to 1337\n",
            "Data columns (total 7 columns):\n",
            " #   Column    Non-Null Count  Dtype  \n",
            "---  ------    --------------  -----  \n",
            " 0   age       1338 non-null   int64  \n",
            " 1   sex       1338 non-null   object \n",
            " 2   bmi       1338 non-null   float64\n",
            " 3   children  1338 non-null   int64  \n",
            " 4   smoker    1338 non-null   object \n",
            " 5   region    1338 non-null   object \n",
            " 6   expenses  1338 non-null   float64\n",
            "dtypes: float64(2), int64(2), object(3)\n",
            "memory usage: 73.3+ KB\n"
          ]
        }
      ],
      "source": [
        "# Getting all the informations of Data\n",
        "data.info()"
      ]
    },
    {
      "cell_type": "code",
      "execution_count": 10,
      "metadata": {
        "colab": {
          "base_uri": "https://localhost:8080/",
          "height": 300
        },
        "id": "JKGu12c520o2",
        "outputId": "862a9794-a1ee-4530-cb92-4050d5361367"
      },
      "outputs": [
        {
          "output_type": "execute_result",
          "data": {
            "text/plain": [
              "               age          bmi     children      expenses\n",
              "count  1338.000000  1338.000000  1338.000000   1338.000000\n",
              "mean     39.207025    30.665471     1.094918  13270.422414\n",
              "std      14.049960     6.098382     1.205493  12110.011240\n",
              "min      18.000000    16.000000     0.000000   1121.870000\n",
              "25%      27.000000    26.300000     0.000000   4740.287500\n",
              "50%      39.000000    30.400000     1.000000   9382.030000\n",
              "75%      51.000000    34.700000     2.000000  16639.915000\n",
              "max      64.000000    53.100000     5.000000  63770.430000"
            ],
            "text/html": [
              "\n",
              "  <div id=\"df-6b54987f-cb6f-485d-a5e1-607b6d606842\">\n",
              "    <div class=\"colab-df-container\">\n",
              "      <div>\n",
              "<style scoped>\n",
              "    .dataframe tbody tr th:only-of-type {\n",
              "        vertical-align: middle;\n",
              "    }\n",
              "\n",
              "    .dataframe tbody tr th {\n",
              "        vertical-align: top;\n",
              "    }\n",
              "\n",
              "    .dataframe thead th {\n",
              "        text-align: right;\n",
              "    }\n",
              "</style>\n",
              "<table border=\"1\" class=\"dataframe\">\n",
              "  <thead>\n",
              "    <tr style=\"text-align: right;\">\n",
              "      <th></th>\n",
              "      <th>age</th>\n",
              "      <th>bmi</th>\n",
              "      <th>children</th>\n",
              "      <th>expenses</th>\n",
              "    </tr>\n",
              "  </thead>\n",
              "  <tbody>\n",
              "    <tr>\n",
              "      <th>count</th>\n",
              "      <td>1338.000000</td>\n",
              "      <td>1338.000000</td>\n",
              "      <td>1338.000000</td>\n",
              "      <td>1338.000000</td>\n",
              "    </tr>\n",
              "    <tr>\n",
              "      <th>mean</th>\n",
              "      <td>39.207025</td>\n",
              "      <td>30.665471</td>\n",
              "      <td>1.094918</td>\n",
              "      <td>13270.422414</td>\n",
              "    </tr>\n",
              "    <tr>\n",
              "      <th>std</th>\n",
              "      <td>14.049960</td>\n",
              "      <td>6.098382</td>\n",
              "      <td>1.205493</td>\n",
              "      <td>12110.011240</td>\n",
              "    </tr>\n",
              "    <tr>\n",
              "      <th>min</th>\n",
              "      <td>18.000000</td>\n",
              "      <td>16.000000</td>\n",
              "      <td>0.000000</td>\n",
              "      <td>1121.870000</td>\n",
              "    </tr>\n",
              "    <tr>\n",
              "      <th>25%</th>\n",
              "      <td>27.000000</td>\n",
              "      <td>26.300000</td>\n",
              "      <td>0.000000</td>\n",
              "      <td>4740.287500</td>\n",
              "    </tr>\n",
              "    <tr>\n",
              "      <th>50%</th>\n",
              "      <td>39.000000</td>\n",
              "      <td>30.400000</td>\n",
              "      <td>1.000000</td>\n",
              "      <td>9382.030000</td>\n",
              "    </tr>\n",
              "    <tr>\n",
              "      <th>75%</th>\n",
              "      <td>51.000000</td>\n",
              "      <td>34.700000</td>\n",
              "      <td>2.000000</td>\n",
              "      <td>16639.915000</td>\n",
              "    </tr>\n",
              "    <tr>\n",
              "      <th>max</th>\n",
              "      <td>64.000000</td>\n",
              "      <td>53.100000</td>\n",
              "      <td>5.000000</td>\n",
              "      <td>63770.430000</td>\n",
              "    </tr>\n",
              "  </tbody>\n",
              "</table>\n",
              "</div>\n",
              "      <button class=\"colab-df-convert\" onclick=\"convertToInteractive('df-6b54987f-cb6f-485d-a5e1-607b6d606842')\"\n",
              "              title=\"Convert this dataframe to an interactive table.\"\n",
              "              style=\"display:none;\">\n",
              "        \n",
              "  <svg xmlns=\"http://www.w3.org/2000/svg\" height=\"24px\"viewBox=\"0 0 24 24\"\n",
              "       width=\"24px\">\n",
              "    <path d=\"M0 0h24v24H0V0z\" fill=\"none\"/>\n",
              "    <path d=\"M18.56 5.44l.94 2.06.94-2.06 2.06-.94-2.06-.94-.94-2.06-.94 2.06-2.06.94zm-11 1L8.5 8.5l.94-2.06 2.06-.94-2.06-.94L8.5 2.5l-.94 2.06-2.06.94zm10 10l.94 2.06.94-2.06 2.06-.94-2.06-.94-.94-2.06-.94 2.06-2.06.94z\"/><path d=\"M17.41 7.96l-1.37-1.37c-.4-.4-.92-.59-1.43-.59-.52 0-1.04.2-1.43.59L10.3 9.45l-7.72 7.72c-.78.78-.78 2.05 0 2.83L4 21.41c.39.39.9.59 1.41.59.51 0 1.02-.2 1.41-.59l7.78-7.78 2.81-2.81c.8-.78.8-2.07 0-2.86zM5.41 20L4 18.59l7.72-7.72 1.47 1.35L5.41 20z\"/>\n",
              "  </svg>\n",
              "      </button>\n",
              "      \n",
              "  <style>\n",
              "    .colab-df-container {\n",
              "      display:flex;\n",
              "      flex-wrap:wrap;\n",
              "      gap: 12px;\n",
              "    }\n",
              "\n",
              "    .colab-df-convert {\n",
              "      background-color: #E8F0FE;\n",
              "      border: none;\n",
              "      border-radius: 50%;\n",
              "      cursor: pointer;\n",
              "      display: none;\n",
              "      fill: #1967D2;\n",
              "      height: 32px;\n",
              "      padding: 0 0 0 0;\n",
              "      width: 32px;\n",
              "    }\n",
              "\n",
              "    .colab-df-convert:hover {\n",
              "      background-color: #E2EBFA;\n",
              "      box-shadow: 0px 1px 2px rgba(60, 64, 67, 0.3), 0px 1px 3px 1px rgba(60, 64, 67, 0.15);\n",
              "      fill: #174EA6;\n",
              "    }\n",
              "\n",
              "    [theme=dark] .colab-df-convert {\n",
              "      background-color: #3B4455;\n",
              "      fill: #D2E3FC;\n",
              "    }\n",
              "\n",
              "    [theme=dark] .colab-df-convert:hover {\n",
              "      background-color: #434B5C;\n",
              "      box-shadow: 0px 1px 3px 1px rgba(0, 0, 0, 0.15);\n",
              "      filter: drop-shadow(0px 1px 2px rgba(0, 0, 0, 0.3));\n",
              "      fill: #FFFFFF;\n",
              "    }\n",
              "  </style>\n",
              "\n",
              "      <script>\n",
              "        const buttonEl =\n",
              "          document.querySelector('#df-6b54987f-cb6f-485d-a5e1-607b6d606842 button.colab-df-convert');\n",
              "        buttonEl.style.display =\n",
              "          google.colab.kernel.accessAllowed ? 'block' : 'none';\n",
              "\n",
              "        async function convertToInteractive(key) {\n",
              "          const element = document.querySelector('#df-6b54987f-cb6f-485d-a5e1-607b6d606842');\n",
              "          const dataTable =\n",
              "            await google.colab.kernel.invokeFunction('convertToInteractive',\n",
              "                                                     [key], {});\n",
              "          if (!dataTable) return;\n",
              "\n",
              "          const docLinkHtml = 'Like what you see? Visit the ' +\n",
              "            '<a target=\"_blank\" href=https://colab.research.google.com/notebooks/data_table.ipynb>data table notebook</a>'\n",
              "            + ' to learn more about interactive tables.';\n",
              "          element.innerHTML = '';\n",
              "          dataTable['output_type'] = 'display_data';\n",
              "          await google.colab.output.renderOutput(dataTable, element);\n",
              "          const docLink = document.createElement('div');\n",
              "          docLink.innerHTML = docLinkHtml;\n",
              "          element.appendChild(docLink);\n",
              "        }\n",
              "      </script>\n",
              "    </div>\n",
              "  </div>\n",
              "  "
            ]
          },
          "metadata": {},
          "execution_count": 10
        }
      ],
      "source": [
        "# Statistical Summary\n",
        "data.describe()"
      ]
    },
    {
      "cell_type": "code",
      "execution_count": 11,
      "metadata": {
        "colab": {
          "base_uri": "https://localhost:8080/"
        },
        "id": "EqBwU8Df22sM",
        "outputId": "dc46cc2f-64c1-47ba-a98d-ea84044dce7e"
      },
      "outputs": [
        {
          "output_type": "execute_result",
          "data": {
            "text/plain": [
              "age         0\n",
              "sex         0\n",
              "bmi         0\n",
              "children    0\n",
              "smoker      0\n",
              "region      0\n",
              "expenses    0\n",
              "dtype: int64"
            ]
          },
          "metadata": {},
          "execution_count": 11
        }
      ],
      "source": [
        "#Checking the null values \n",
        "data.isnull().sum()"
      ]
    },
    {
      "cell_type": "code",
      "execution_count": 12,
      "metadata": {
        "colab": {
          "base_uri": "https://localhost:8080/"
        },
        "id": "FEbJnU2x29Lf",
        "outputId": "0b8901a8-585e-4857-d5dc-a91df19c3cc0"
      },
      "outputs": [
        {
          "output_type": "execute_result",
          "data": {
            "text/plain": [
              "0"
            ]
          },
          "metadata": {},
          "execution_count": 12
        }
      ],
      "source": [
        "# Getting the total sum of null values\n",
        "data.isnull().sum().sum()"
      ]
    },
    {
      "cell_type": "code",
      "execution_count": 13,
      "metadata": {
        "colab": {
          "base_uri": "https://localhost:8080/"
        },
        "id": "CE26dmUj2-f1",
        "outputId": "85872189-1822-4fa4-bc7c-70e5aef19088"
      },
      "outputs": [
        {
          "output_type": "execute_result",
          "data": {
            "text/plain": [
              "Index(['age', 'sex', 'bmi', 'children', 'smoker', 'region', 'expenses'], dtype='object')"
            ]
          },
          "metadata": {},
          "execution_count": 13
        }
      ],
      "source": [
        "# Displaying the columns of the dataset\n",
        "data.columns"
      ]
    },
    {
      "cell_type": "code",
      "execution_count": 14,
      "metadata": {
        "colab": {
          "base_uri": "https://localhost:8080/"
        },
        "id": "MHKakiAFFnFa",
        "outputId": "0737109c-8a28-4d58-8b1b-5723e15ef28b"
      },
      "outputs": [
        {
          "output_type": "execute_result",
          "data": {
            "text/plain": [
              "age           int64\n",
              "sex          object\n",
              "bmi         float64\n",
              "children      int64\n",
              "smoker       object\n",
              "region       object\n",
              "expenses    float64\n",
              "dtype: object"
            ]
          },
          "metadata": {},
          "execution_count": 14
        }
      ],
      "source": [
        "# Listing the type of all columns \n",
        "data.dtypes"
      ]
    },
    {
      "cell_type": "markdown",
      "metadata": {
        "id": "msDH8uM0FnFb"
      },
      "source": [
        "# Detecting the outliers"
      ]
    },
    {
      "cell_type": "code",
      "execution_count": 15,
      "metadata": {
        "colab": {
          "base_uri": "https://localhost:8080/",
          "height": 485
        },
        "id": "IcGm-A4gFnFb",
        "outputId": "afa2a647-c4a3-4c51-dc73-996a7e89c4b8"
      },
      "outputs": [
        {
          "output_type": "display_data",
          "data": {
            "text/plain": [
              "<Figure size 864x576 with 1 Axes>"
            ],
            "image/png": "[encoded data removed]"
          },
          "metadata": {}
        }
      ],
      "source": [
        "sns.set_style('darkgrid') \n",
        "plt.subplots(figsize=(12, 8))\n",
        "ax=sns.boxplot(data = data[\"expenses\"])\n",
        "ax.set_xticklabels(ax.get_xticklabels(),rotation=30);\n",
        "plt.show()"
      ]
    },
    {
      "cell_type": "code",
      "execution_count": 16,
      "metadata": {
        "colab": {
          "base_uri": "https://localhost:8080/",
          "height": 491
        },
        "id": "WEfHLKkoFnFb",
        "outputId": "fa0b0ae9-79ef-4bc0-a44d-c785f354ce30"
      },
      "outputs": [
        {
          "output_type": "display_data",
          "data": {
            "text/plain": [
              "<Figure size 864x576 with 1 Axes>"
            ],
            "image/png": "[encoded data removed]"
          },
          "metadata": {}
        }
      ],
      "source": [
        "sns.set_style('darkgrid') \n",
        "plt.subplots(figsize=(12, 8))\n",
        "ax=sns.boxplot(data = data[[\"bmi\",\"age\"]])\n",
        "ax.set_xticklabels(ax.get_xticklabels(),rotation=30);\n",
        "plt.show()"
      ]
    },
    {
      "cell_type": "code",
      "execution_count": 17,
      "metadata": {
        "colab": {
          "base_uri": "https://localhost:8080/"
        },
        "id": "VH6P2UibFnFc",
        "outputId": "57f05940-4cd7-4851-8712-6e070a6f5b76"
      },
      "outputs": [
        {
          "output_type": "stream",
          "name": "stdout",
          "text": [
            "Outliers from IQR method:  [47.4, 47.5, 47.6, 47.7, 48.1, 49.1, 50.4, 52.6, 53.1]\n"
          ]
        }
      ],
      "source": [
        "outliers = []\n",
        "def detect_outliers_iqr(data):\n",
        "    data = sorted(data)\n",
        "    q1 = np.percentile(data, 25)\n",
        "    q3 = np.percentile(data, 75)\n",
        "    # print(q1, q3)\n",
        "    IQR = q3-q1\n",
        "    lr_bound = q1-(1.5*IQR)\n",
        "    upr_bound = q3+(1.5*IQR)\n",
        "# print(lwr_bound, upr_bound)\n",
        "    for i in data: \n",
        "        if (i<lr_bound or i>upr_bound):\n",
        "            outliers.append(i)\n",
        "    return outliers# Driver code\n",
        "sample_outliers = detect_outliers_iqr(data['bmi'])\n",
        "print(\"Outliers from IQR method: \", sample_outliers)"
      ]
    },
    {
      "cell_type": "markdown",
      "metadata": {
        "id": "toFHKPmjFnFc"
      },
      "source": [
        "# Getting the UNIQUE labels in Categorical variables\n",
        "And its ValueCounts"
      ]
    },
    {
      "cell_type": "code",
      "execution_count": 18,
      "metadata": {
        "colab": {
          "base_uri": "https://localhost:8080/"
        },
        "id": "qBt24kv2FnFc",
        "outputId": "9b33ea53-109f-4818-f652-026d5e68c96b"
      },
      "outputs": [
        {
          "output_type": "execute_result",
          "data": {
            "text/plain": [
              "array(['female', 'male'], dtype=object)"
            ]
          },
          "metadata": {},
          "execution_count": 18
        }
      ],
      "source": [
        "# Displaying Unique Value of 'SEX' Column\n",
        "data['sex'].unique()"
      ]
    },
    {
      "cell_type": "code",
      "execution_count": 19,
      "metadata": {
        "colab": {
          "base_uri": "https://localhost:8080/"
        },
        "id": "7PJFvWYpFnFc",
        "outputId": "7806c28d-3e67-4679-8903-598b9cc81edb"
      },
      "outputs": [
        {
          "output_type": "execute_result",
          "data": {
            "text/plain": [
              "male      676\n",
              "female    662\n",
              "Name: sex, dtype: int64"
            ]
          },
          "metadata": {},
          "execution_count": 19
        }
      ],
      "source": [
        "# Getting Unique Valuecounts of 'SEX' Column\n",
        "data['sex'].value_counts()"
      ]
    },
    {
      "cell_type": "code",
      "execution_count": 20,
      "metadata": {
        "colab": {
          "base_uri": "https://localhost:8080/"
        },
        "id": "DJUxUk9DFnFd",
        "outputId": "a4ea8011-5ca3-4535-b0d0-ecc70cab3a33"
      },
      "outputs": [
        {
          "output_type": "execute_result",
          "data": {
            "text/plain": [
              "array(['yes', 'no'], dtype=object)"
            ]
          },
          "metadata": {},
          "execution_count": 20
        }
      ],
      "source": [
        "# Displaying Unique Value of 'SMOKER' Column\n",
        "data['smoker'].unique()"
      ]
    },
    {
      "cell_type": "code",
      "execution_count": 21,
      "metadata": {
        "colab": {
          "base_uri": "https://localhost:8080/"
        },
        "id": "A5dRkRGSFnFe",
        "outputId": "5c03e345-9215-4bfa-d98b-8a6c0a085e14"
      },
      "outputs": [
        {
          "output_type": "execute_result",
          "data": {
            "text/plain": [
              "no     1064\n",
              "yes     274\n",
              "Name: smoker, dtype: int64"
            ]
          },
          "metadata": {},
          "execution_count": 21
        }
      ],
      "source": [
        "# Getting Unique Valuecounts of 'SMOKER' Column\n",
        "data['smoker'].value_counts()"
      ]
    },
    {
      "cell_type": "code",
      "execution_count": 22,
      "metadata": {
        "colab": {
          "base_uri": "https://localhost:8080/"
        },
        "id": "FcPNOhWOFnFf",
        "outputId": "5aad61c7-69ac-431d-a0fa-a64ff73e8973"
      },
      "outputs": [
        {
          "output_type": "execute_result",
          "data": {
            "text/plain": [
              "array(['southwest', 'southeast', 'northwest', 'northeast'], dtype=object)"
            ]
          },
          "metadata": {},
          "execution_count": 22
        }
      ],
      "source": [
        "# Displaying Unique Value of 'REGION' Column\n",
        "data['region'].unique()"
      ]
    },
    {
      "cell_type": "code",
      "execution_count": 23,
      "metadata": {
        "colab": {
          "base_uri": "https://localhost:8080/"
        },
        "id": "weTRILydFnFf",
        "outputId": "779664bd-3984-4b94-9787-cb336e158809"
      },
      "outputs": [
        {
          "output_type": "execute_result",
          "data": {
            "text/plain": [
              "southeast    364\n",
              "southwest    325\n",
              "northwest    325\n",
              "northeast    324\n",
              "Name: region, dtype: int64"
            ]
          },
          "metadata": {},
          "execution_count": 23
        }
      ],
      "source": [
        "# Getting Unique Valuecounts of 'REGION' Column\n",
        "data['region'].value_counts()"
      ]
    },
    {
      "cell_type": "markdown",
      "metadata": {
        "id": "eucLZPpFFnFf"
      },
      "source": [
        "# Data Cleaning"
      ]
    },
    {
      "cell_type": "code",
      "execution_count": 24,
      "metadata": {
        "colab": {
          "base_uri": "https://localhost:8080/"
        },
        "id": "qZSAoVoXFnFf",
        "outputId": "417ed9aa-44a4-4a45-bc90-811ca10cbf68"
      },
      "outputs": [
        {
          "output_type": "execute_result",
          "data": {
            "text/plain": [
              "(1338, 7)"
            ]
          },
          "metadata": {},
          "execution_count": 24
        }
      ],
      "source": [
        "# Check the shape for finding duplicates\n",
        "data.shape"
      ]
    },
    {
      "cell_type": "code",
      "execution_count": 25,
      "metadata": {
        "colab": {
          "base_uri": "https://localhost:8080/"
        },
        "id": "nZzhyOrjFnFg",
        "outputId": "1709abb2-9166-471c-85b2-496725dc19d0"
      },
      "outputs": [
        {
          "output_type": "execute_result",
          "data": {
            "text/plain": [
              "0       False\n",
              "1       False\n",
              "2       False\n",
              "3       False\n",
              "4       False\n",
              "        ...  \n",
              "1333    False\n",
              "1334    False\n",
              "1335    False\n",
              "1336    False\n",
              "1337    False\n",
              "Length: 1338, dtype: bool"
            ]
          },
          "metadata": {},
          "execution_count": 25
        }
      ],
      "source": [
        "# Checking the duplicated values\n",
        "data.duplicated()"
      ]
    },
    {
      "cell_type": "code",
      "execution_count": 26,
      "metadata": {
        "colab": {
          "base_uri": "https://localhost:8080/"
        },
        "id": "lRl9-vEaFnFg",
        "outputId": "db8cdae7-14aa-4c81-cfc0-fb35c14ce94e"
      },
      "outputs": [
        {
          "output_type": "execute_result",
          "data": {
            "text/plain": [
              "1"
            ]
          },
          "metadata": {},
          "execution_count": 26
        }
      ],
      "source": [
        "# Getting the sum of duplicated values\n",
        "data.duplicated().sum()"
      ]
    },
    {
      "cell_type": "code",
      "execution_count": 27,
      "metadata": {
        "id": "dxdganQpFnFg"
      },
      "outputs": [],
      "source": [
        "# Droping the duplicate value\n",
        "data = data.drop_duplicates()"
      ]
    },
    {
      "cell_type": "code",
      "execution_count": 28,
      "metadata": {
        "colab": {
          "base_uri": "https://localhost:8080/"
        },
        "id": "hUlhh2eJFnFg",
        "outputId": "0c902c24-6c60-4965-e93e-9b334517ce6d"
      },
      "outputs": [
        {
          "output_type": "execute_result",
          "data": {
            "text/plain": [
              "(1337, 7)"
            ]
          },
          "metadata": {},
          "execution_count": 28
        }
      ],
      "source": [
        "# Checking the shape after droping the duplicated value\n",
        "data.shape"
      ]
    },
    {
      "cell_type": "markdown",
      "metadata": {
        "id": "FwAPTUjfFnFh"
      },
      "source": [
        "# Data Visualization"
      ]
    },
    {
      "cell_type": "code",
      "execution_count": 29,
      "metadata": {
        "colab": {
          "base_uri": "https://localhost:8080/",
          "height": 410
        },
        "id": "6uoRLFvlFnFh",
        "outputId": "65864fef-e633-464d-bfaf-a65960d908ec"
      },
      "outputs": [
        {
          "output_type": "display_data",
          "data": {
            "text/plain": [
              "<Figure size 720x432 with 1 Axes>"
            ],
            "image/png": "[encoded data removed]"
          },
          "metadata": {}
        }
      ],
      "source": [
        "# Distribution of Age Value\n",
        "\n",
        "sns.set()\n",
        "plt.figure(figsize=(10,6))\n",
        "sns.distplot(data['age'])\n",
        "plt.title('Age Distribution')\n",
        "plt.show()"
      ]
    },
    {
      "cell_type": "markdown",
      "metadata": {
        "id": "cH7cOzwyFnFh"
      },
      "source": [
        "Now we See the Distribution the age value is 10 to 70 we have more density in the \n",
        "age of 20 & 21 other than that the age is distributed normally\n",
        "\n",
        "It shows more no of people in our dataset is 20 & 21 age "
      ]
    },
    {
      "cell_type": "code",
      "execution_count": 30,
      "metadata": {
        "colab": {
          "base_uri": "https://localhost:8080/",
          "height": 410
        },
        "id": "J9bRXO1WFnFi",
        "outputId": "5253a1ec-d4be-460b-d8f7-9a1726e86c59"
      },
      "outputs": [
        {
          "output_type": "display_data",
          "data": {
            "text/plain": [
              "<Figure size 576x432 with 1 Axes>"
            ],
            "image/png": "[encoded data removed]"
          },
          "metadata": {}
        }
      ],
      "source": [
        "# Gender Column (it is a categorical value so used Countplot to plot it).\n",
        "\n",
        "plt.figure(figsize=(8,6))\n",
        "ax=sns.countplot(x='sex',hue='sex',data=data);\n",
        "ax.bar_label(ax.containers[0])\n",
        "ax.bar_label(ax.containers[1])\n",
        "plt.title('Gender Distribution')\n",
        "plt.legend(loc='center',title='sex')\n",
        "plt.show()"
      ]
    },
    {
      "cell_type": "markdown",
      "metadata": {
        "id": "3_9JwPEPFnFi"
      },
      "source": [
        "It shows that count is almost equal not much difference"
      ]
    },
    {
      "cell_type": "code",
      "execution_count": 31,
      "metadata": {
        "colab": {
          "base_uri": "https://localhost:8080/"
        },
        "id": "46WwM1puFnFi",
        "outputId": "c3e1555c-7a55-4a67-e356-b86c7277628f"
      },
      "outputs": [
        {
          "output_type": "execute_result",
          "data": {
            "text/plain": [
              "male      675\n",
              "female    662\n",
              "Name: sex, dtype: int64"
            ]
          },
          "metadata": {},
          "execution_count": 31
        }
      ],
      "source": [
        "# Verifing woth value counts\n",
        "data['sex'].value_counts()"
      ]
    },
    {
      "cell_type": "code",
      "execution_count": 32,
      "metadata": {
        "colab": {
          "base_uri": "https://localhost:8080/",
          "height": 410
        },
        "id": "YOZTHA_CFnFj",
        "outputId": "85d074fa-99eb-43d2-b3ef-e6e435342ee5"
      },
      "outputs": [
        {
          "output_type": "display_data",
          "data": {
            "text/plain": [
              "<Figure size 720x432 with 1 Axes>"
            ],
            "image/png": "[encoded data removed]"
          },
          "metadata": {}
        }
      ],
      "source": [
        "# Distribution of BMI Value\n",
        "\n",
        "sns.set()\n",
        "plt.figure(figsize=(10,6))\n",
        "sns.distplot(data['bmi'])\n",
        "plt.title('BMI Distribution')\n",
        "plt.show()"
      ]
    },
    {
      "cell_type": "markdown",
      "metadata": {
        "id": "fuNE50J7FnFj"
      },
      "source": [
        "It shows that BMI is nearly normally distributed,But normal BMI range for a person is 18.5 to 24.9,it shows the lot people are over weight it can affect a insurance cost"
      ]
    },
    {
      "cell_type": "code",
      "execution_count": 33,
      "metadata": {
        "colab": {
          "base_uri": "https://localhost:8080/",
          "height": 464
        },
        "id": "V9IWlfa8FnFk",
        "outputId": "25a29b0f-1661-4896-ec18-5fd35a5a7494"
      },
      "outputs": [
        {
          "output_type": "display_data",
          "data": {
            "text/plain": [
              "<Figure size 720x504 with 1 Axes>"
            ],
            "image/png": "[encoded data removed]"
          },
          "metadata": {}
        }
      ],
      "source": [
        "# Children Column\n",
        "\n",
        "plt.figure(figsize=(10,7))\n",
        "ax = sns.countplot(x='children',data= data)\n",
        "\n",
        "ax.bar_label(ax.containers[0])\n",
        "plt.title(\"Children's_Details\")\n",
        "\n",
        "plt.show()"
      ]
    },
    {
      "cell_type": "markdown",
      "metadata": {
        "id": "SufQ3O0GFnFl"
      },
      "source": [
        "This plot shows us people with zero children is more and people have 1&2 is average compared to 1&2\n",
        "and 3,4,5 are less that this also decides the cost of a insurance"
      ]
    },
    {
      "cell_type": "code",
      "execution_count": 34,
      "metadata": {
        "colab": {
          "base_uri": "https://localhost:8080/"
        },
        "id": "bvE9qINoFnFl",
        "outputId": "a311fe60-d5bd-4bad-a94b-9410dea2987f"
      },
      "outputs": [
        {
          "output_type": "execute_result",
          "data": {
            "text/plain": [
              "0    573\n",
              "1    324\n",
              "2    240\n",
              "3    157\n",
              "4     25\n",
              "5     18\n",
              "Name: children, dtype: int64"
            ]
          },
          "metadata": {},
          "execution_count": 34
        }
      ],
      "source": [
        "# Verifying with normal count functions\n",
        "data['children'].value_counts()"
      ]
    },
    {
      "cell_type": "code",
      "execution_count": 35,
      "metadata": {
        "colab": {
          "base_uri": "https://localhost:8080/",
          "height": 464
        },
        "id": "QxYQF2bqFnFl",
        "outputId": "840629b0-fbb0-408f-98f9-a0d49d906ad0"
      },
      "outputs": [
        {
          "output_type": "display_data",
          "data": {
            "text/plain": [
              "<Figure size 720x504 with 1 Axes>"
            ],
            "image/png": "[encoded data removed]"
          },
          "metadata": {}
        }
      ],
      "source": [
        "# Smoker Column\n",
        "\n",
        "plt.figure(figsize=(10,7))\n",
        "ax = sns.countplot(x='smoker',data= data,hue='smoker')\n",
        "ax.bar_label(ax.containers[0])\n",
        "ax.bar_label(ax.containers[1])\n",
        "plt.title(\"Smoker's Details\")\n",
        "plt.legend(loc='upper left',title='Smoker')\n",
        "plt.show()"
      ]
    },
    {
      "cell_type": "markdown",
      "metadata": {
        "id": "1I-xwqADFnFm"
      },
      "source": [
        "This plot gives us the correct information of about the people that more number of people are Non-smokers"
      ]
    },
    {
      "cell_type": "code",
      "execution_count": 36,
      "metadata": {
        "colab": {
          "base_uri": "https://localhost:8080/",
          "height": 464
        },
        "id": "LwZ2LjQ5FnFm",
        "outputId": "6c908c22-3a83-46c9-d961-47dfe5a2ee92"
      },
      "outputs": [
        {
          "output_type": "display_data",
          "data": {
            "text/plain": [
              "<Figure size 720x504 with 1 Axes>"
            ],
            "image/png": "[encoded data removed]"
          },
          "metadata": {}
        }
      ],
      "source": [
        "# Region Column\n",
        "\n",
        "plt.figure(figsize=(10,7))\n",
        "ax = sns.countplot(x='region',data= data,hue='region')\n",
        "for container in ax.containers:\n",
        "    ax.bar_label(container)\n",
        "plt.title(\"Region Details\")\n",
        "plt.legend(loc='upper center',title='Region')\n",
        "plt.show()"
      ]
    },
    {
      "cell_type": "markdown",
      "metadata": {
        "id": "-Lllx2liFnFn"
      },
      "source": [
        "This shows we have four regions in that data is nearly normally distrubeted that one region is slightly high tha is SE"
      ]
    },
    {
      "cell_type": "code",
      "execution_count": 37,
      "metadata": {
        "colab": {
          "base_uri": "https://localhost:8080/",
          "height": 410
        },
        "id": "o4PmA3TSFnFn",
        "outputId": "b9daec6a-9958-4f13-d8ce-95479b541fcc"
      },
      "outputs": [
        {
          "output_type": "display_data",
          "data": {
            "text/plain": [
              "<Figure size 720x432 with 1 Axes>"
            ],
            "image/png": "[encoded data removed]"
          },
          "metadata": {}
        }
      ],
      "source": [
        "# Distribution of Expenses Value\n",
        "\n",
        "sns.set()\n",
        "plt.figure(figsize=(10,6))\n",
        "sns.distplot(data['expenses'])\n",
        "plt.title('Expense Distribution')\n",
        "plt.show()"
      ]
    },
    {
      "cell_type": "markdown",
      "metadata": {
        "id": "lrlCSlhXFnFn"
      },
      "source": [
        "This Distribution shows us that data is not normally distributed but we have more values in  lower expenses that gives cost is not so to high"
      ]
    },
    {
      "cell_type": "code",
      "execution_count": 38,
      "metadata": {
        "colab": {
          "base_uri": "https://localhost:8080/",
          "height": 355
        },
        "id": "NQNfQLhmFnFo",
        "outputId": "4e1eeaf3-a62f-4892-ca8d-b265ddfe4582"
      },
      "outputs": [
        {
          "output_type": "display_data",
          "data": {
            "text/plain": [
              "<Figure size 720x360 with 1 Axes>"
            ],
            "image/png": "[encoded data removed]"
          },
          "metadata": {}
        }
      ],
      "source": [
        "plt.figure(figsize=(10,5))\n",
        "ax = sns.barplot(x='region',y='expenses',data = data)\n",
        "ax.bar_label(ax.containers[0])\n",
        "plt.title('Region VS Expenses')\n",
        "plt.show()"
      ]
    },
    {
      "cell_type": "markdown",
      "metadata": {
        "id": "-0HpbaNfFnFo"
      },
      "source": [
        "From this we get that SE region people have highest expense than others in this case get to know about is that region can also affect the expenses."
      ]
    },
    {
      "cell_type": "code",
      "execution_count": 39,
      "metadata": {
        "colab": {
          "base_uri": "https://localhost:8080/",
          "height": 410
        },
        "id": "AcStxr3IFnFo",
        "outputId": "7d9f97f6-b74e-4f50-d665-752518546396"
      },
      "outputs": [
        {
          "output_type": "display_data",
          "data": {
            "text/plain": [
              "<Figure size 360x432 with 1 Axes>"
            ],
            "image/png": "[encoded data removed]"
          },
          "metadata": {}
        }
      ],
      "source": [
        "plt.figure(figsize=(5,6))\n",
        "ax = sns.barplot(x='smoker',y='expenses',data = data)\n",
        "ax.bar_label(ax.containers[0])\n",
        "plt.title('Smoker VS Expenses')\n",
        "plt.show()"
      ]
    },
    {
      "cell_type": "markdown",
      "metadata": {
        "id": "p2PTQGM8FnFp"
      },
      "source": [
        "This shows that person who smokes that their expense higher."
      ]
    },
    {
      "cell_type": "code",
      "execution_count": 40,
      "metadata": {
        "colab": {
          "base_uri": "https://localhost:8080/",
          "height": 410
        },
        "id": "iFtmEPs2FnFp",
        "outputId": "1927fe77-0d1d-4d10-d414-1fc83c1aad73"
      },
      "outputs": [
        {
          "output_type": "display_data",
          "data": {
            "text/plain": [
              "<Figure size 360x432 with 1 Axes>"
            ],
            "image/png": "[encoded data removed]"
          },
          "metadata": {}
        }
      ],
      "source": [
        "plt.figure(figsize=(5,6))\n",
        "ax = sns.barplot(x='sex',y='expenses',hue='smoker',data = data)\n",
        "for container in ax.containers:\n",
        "    ax.bar_label(container)\n",
        "plt.title('Smoker Expenses Gender Based')\n",
        "plt.show()"
      ]
    },
    {
      "cell_type": "markdown",
      "metadata": {
        "id": "hlhA1GPQFnFp"
      },
      "source": [
        "This plot shows that smoker male has higher expense then female but at the same time non smoker female has slightly higher expense than a non smoker male."
      ]
    },
    {
      "cell_type": "code",
      "execution_count": 41,
      "metadata": {
        "colab": {
          "base_uri": "https://localhost:8080/",
          "height": 339
        },
        "id": "C-uPSw68FnFp",
        "outputId": "1b901b47-b86a-4520-ef71-a45ddbc6a10d"
      },
      "outputs": [
        {
          "output_type": "display_data",
          "data": {
            "text/plain": [
              "<Figure size 1080x360 with 2 Axes>"
            ],
            "image/png": "[encoded data removed]"
          },
          "metadata": {}
        }
      ],
      "source": [
        "f = plt.figure(figsize=(15,5))\n",
        "ax = f.add_subplot(121)\n",
        "sns.barplot(data.region, data.expenses, hue = data.sex)\n",
        "\n",
        "ax1 = f.add_subplot(122)\n",
        "sns.barplot(data.region, data.expenses, hue = data.smoker)\n",
        "plt.show()"
      ]
    },
    {
      "cell_type": "markdown",
      "metadata": {
        "id": "COwJ6Xm3FnFq"
      },
      "source": [
        "1st Plot shows the previous visualization that SE has higher expense but male has higher expense in most categories\n",
        "\n",
        "2nd plot shows non smoker in NE has a higher expense compare to others."
      ]
    },
    {
      "cell_type": "code",
      "execution_count": 42,
      "metadata": {
        "colab": {
          "base_uri": "https://localhost:8080/",
          "height": 339
        },
        "id": "sTfVRTQNFnFq",
        "outputId": "e202ca3b-aed2-4652-b6f9-9fd9ce7eaa4e"
      },
      "outputs": [
        {
          "output_type": "display_data",
          "data": {
            "text/plain": [
              "<Figure size 1080x360 with 1 Axes>"
            ],
            "image/png": "[encoded data removed]"
          },
          "metadata": {}
        }
      ],
      "source": [
        "plt.figure(figsize=(15,5))\n",
        "sns.barplot(data.region, data.expenses, hue = data.children)\n",
        "\n",
        "plt.show()"
      ]
    },
    {
      "cell_type": "code",
      "execution_count": 43,
      "metadata": {
        "colab": {
          "base_uri": "https://localhost:8080/",
          "height": 502
        },
        "id": "1f_whD4YFnFq",
        "outputId": "0915f3c3-0da2-481c-fb61-1efb66e5b9fb"
      },
      "outputs": [
        {
          "output_type": "display_data",
          "data": {
            "text/plain": [
              "<Figure size 1080x576 with 1 Axes>"
            ],
            "image/png": "[encoded data removed]"
          },
          "metadata": {}
        }
      ],
      "source": [
        "ax1 = f.add_subplot(122)\n",
        "plt.figure(figsize=(15,8))\n",
        "sns.barplot(data.children, data.expenses, hue = data.smoker)\n",
        "for container in ax1.containers:\n",
        "    ax1.bar_label(container)\n",
        "plt.show()"
      ]
    },
    {
      "cell_type": "markdown",
      "metadata": {
        "id": "7wEyfzrqFnFr"
      },
      "source": [
        "# Preprocessing"
      ]
    },
    {
      "cell_type": "code",
      "execution_count": 44,
      "metadata": {
        "id": "-T3boRXI3FUc"
      },
      "outputs": [],
      "source": [
        "# Creating a function\n",
        "def preprocess_inputs(df):\n",
        "    df = df.copy()\n",
        "\n",
        "    # Split df into X and Y\n",
        "    y = df['expenses']\n",
        "    x = df.drop('expenses', axis=1)\n",
        "\n",
        "    # Train-test split\n",
        "    x_train, x_test, y_train, y_test = train_test_split(x, y, train_size=.7, shuffle = True, random_state=1)\n",
        "\n",
        "    return x_train, x_test, y_train, y_test"
      ]
    },
    {
      "cell_type": "code",
      "execution_count": 45,
      "metadata": {
        "id": "rRUvg_jg497n"
      },
      "outputs": [],
      "source": [
        "x_train, x_test, y_train, y_test = preprocess_inputs(data)"
      ]
    },
    {
      "cell_type": "code",
      "execution_count": 46,
      "metadata": {
        "colab": {
          "base_uri": "https://localhost:8080/",
          "height": 424
        },
        "id": "JaBbEJkC5Z8O",
        "outputId": "98203ce2-4ff9-4b16-bebf-ab808363e9ce"
      },
      "outputs": [
        {
          "output_type": "execute_result",
          "data": {
            "text/plain": [
              "      age     sex   bmi  children smoker     region\n",
              "520    50  female  27.4         0     no  northeast\n",
              "575    58  female  27.2         0     no  northwest\n",
              "770    61    male  36.1         3     no  southwest\n",
              "314    27  female  31.4         0    yes  southwest\n",
              "426    38  female  27.3         1     no  northeast\n",
              "...   ...     ...   ...       ...    ...        ...\n",
              "716    49  female  22.6         1     no  northwest\n",
              "906    27    male  32.6         3     no  northeast\n",
              "1097   22    male  33.8         0     no  southeast\n",
              "235    40  female  22.2         2    yes  southeast\n",
              "1062   59    male  41.1         1    yes  southeast\n",
              "\n",
              "[935 rows x 6 columns]"
            ],
            "text/html": [
              "\n",
              "  <div id=\"df-671a321a-70c6-402c-8f62-e06be0f1a2e9\">\n",
              "    <div class=\"colab-df-container\">\n",
              "      <div>\n",
              "<style scoped>\n",
              "    .dataframe tbody tr th:only-of-type {\n",
              "        vertical-align: middle;\n",
              "    }\n",
              "\n",
              "    .dataframe tbody tr th {\n",
              "        vertical-align: top;\n",
              "    }\n",
              "\n",
              "    .dataframe thead th {\n",
              "        text-align: right;\n",
              "    }\n",
              "</style>\n",
              "<table border=\"1\" class=\"dataframe\">\n",
              "  <thead>\n",
              "    <tr style=\"text-align: right;\">\n",
              "      <th></th>\n",
              "      <th>age</th>\n",
              "      <th>sex</th>\n",
              "      <th>bmi</th>\n",
              "      <th>children</th>\n",
              "      <th>smoker</th>\n",
              "      <th>region</th>\n",
              "    </tr>\n",
              "  </thead>\n",
              "  <tbody>\n",
              "    <tr>\n",
              "      <th>520</th>\n",
              "      <td>50</td>\n",
              "      <td>female</td>\n",
              "      <td>27.4</td>\n",
              "      <td>0</td>\n",
              "      <td>no</td>\n",
              "      <td>northeast</td>\n",
              "    </tr>\n",
              "    <tr>\n",
              "      <th>575</th>\n",
              "      <td>58</td>\n",
              "      <td>female</td>\n",
              "      <td>27.2</td>\n",
              "      <td>0</td>\n",
              "      <td>no</td>\n",
              "      <td>northwest</td>\n",
              "    </tr>\n",
              "    <tr>\n",
              "      <th>770</th>\n",
              "      <td>61</td>\n",
              "      <td>male</td>\n",
              "      <td>36.1</td>\n",
              "      <td>3</td>\n",
              "      <td>no</td>\n",
              "      <td>southwest</td>\n",
              "    </tr>\n",
              "    <tr>\n",
              "      <th>314</th>\n",
              "      <td>27</td>\n",
              "      <td>female</td>\n",
              "      <td>31.4</td>\n",
              "      <td>0</td>\n",
              "      <td>yes</td>\n",
              "      <td>southwest</td>\n",
              "    </tr>\n",
              "    <tr>\n",
              "      <th>426</th>\n",
              "      <td>38</td>\n",
              "      <td>female</td>\n",
              "      <td>27.3</td>\n",
              "      <td>1</td>\n",
              "      <td>no</td>\n",
              "      <td>northeast</td>\n",
              "    </tr>\n",
              "    <tr>\n",
              "      <th>...</th>\n",
              "      <td>...</td>\n",
              "      <td>...</td>\n",
              "      <td>...</td>\n",
              "      <td>...</td>\n",
              "      <td>...</td>\n",
              "      <td>...</td>\n",
              "    </tr>\n",
              "    <tr>\n",
              "      <th>716</th>\n",
              "      <td>49</td>\n",
              "      <td>female</td>\n",
              "      <td>22.6</td>\n",
              "      <td>1</td>\n",
              "      <td>no</td>\n",
              "      <td>northwest</td>\n",
              "    </tr>\n",
              "    <tr>\n",
              "      <th>906</th>\n",
              "      <td>27</td>\n",
              "      <td>male</td>\n",
              "      <td>32.6</td>\n",
              "      <td>3</td>\n",
              "      <td>no</td>\n",
              "      <td>northeast</td>\n",
              "    </tr>\n",
              "    <tr>\n",
              "      <th>1097</th>\n",
              "      <td>22</td>\n",
              "      <td>male</td>\n",
              "      <td>33.8</td>\n",
              "      <td>0</td>\n",
              "      <td>no</td>\n",
              "      <td>southeast</td>\n",
              "    </tr>\n",
              "    <tr>\n",
              "      <th>235</th>\n",
              "      <td>40</td>\n",
              "      <td>female</td>\n",
              "      <td>22.2</td>\n",
              "      <td>2</td>\n",
              "      <td>yes</td>\n",
              "      <td>southeast</td>\n",
              "    </tr>\n",
              "    <tr>\n",
              "      <th>1062</th>\n",
              "      <td>59</td>\n",
              "      <td>male</td>\n",
              "      <td>41.1</td>\n",
              "      <td>1</td>\n",
              "      <td>yes</td>\n",
              "      <td>southeast</td>\n",
              "    </tr>\n",
              "  </tbody>\n",
              "</table>\n",
              "<p>935 rows × 6 columns</p>\n",
              "</div>\n",
              "      <button class=\"colab-df-convert\" onclick=\"convertToInteractive('df-671a321a-70c6-402c-8f62-e06be0f1a2e9')\"\n",
              "              title=\"Convert this dataframe to an interactive table.\"\n",
              "              style=\"display:none;\">\n",
              "        \n",
              "  <svg xmlns=\"http://www.w3.org/2000/svg\" height=\"24px\"viewBox=\"0 0 24 24\"\n",
              "       width=\"24px\">\n",
              "    <path d=\"M0 0h24v24H0V0z\" fill=\"none\"/>\n",
              "    <path d=\"M18.56 5.44l.94 2.06.94-2.06 2.06-.94-2.06-.94-.94-2.06-.94 2.06-2.06.94zm-11 1L8.5 8.5l.94-2.06 2.06-.94-2.06-.94L8.5 2.5l-.94 2.06-2.06.94zm10 10l.94 2.06.94-2.06 2.06-.94-2.06-.94-.94-2.06-.94 2.06-2.06.94z\"/><path d=\"M17.41 7.96l-1.37-1.37c-.4-.4-.92-.59-1.43-.59-.52 0-1.04.2-1.43.59L10.3 9.45l-7.72 7.72c-.78.78-.78 2.05 0 2.83L4 21.41c.39.39.9.59 1.41.59.51 0 1.02-.2 1.41-.59l7.78-7.78 2.81-2.81c.8-.78.8-2.07 0-2.86zM5.41 20L4 18.59l7.72-7.72 1.47 1.35L5.41 20z\"/>\n",
              "  </svg>\n",
              "      </button>\n",
              "      \n",
              "  <style>\n",
              "    .colab-df-container {\n",
              "      display:flex;\n",
              "      flex-wrap:wrap;\n",
              "      gap: 12px;\n",
              "    }\n",
              "\n",
              "    .colab-df-convert {\n",
              "      background-color: #E8F0FE;\n",
              "      border: none;\n",
              "      border-radius: 50%;\n",
              "      cursor: pointer;\n",
              "      display: none;\n",
              "      fill: #1967D2;\n",
              "      height: 32px;\n",
              "      padding: 0 0 0 0;\n",
              "      width: 32px;\n",
              "    }\n",
              "\n",
              "    .colab-df-convert:hover {\n",
              "      background-color: #E2EBFA;\n",
              "      box-shadow: 0px 1px 2px rgba(60, 64, 67, 0.3), 0px 1px 3px 1px rgba(60, 64, 67, 0.15);\n",
              "      fill: #174EA6;\n",
              "    }\n",
              "\n",
              "    [theme=dark] .colab-df-convert {\n",
              "      background-color: #3B4455;\n",
              "      fill: #D2E3FC;\n",
              "    }\n",
              "\n",
              "    [theme=dark] .colab-df-convert:hover {\n",
              "      background-color: #434B5C;\n",
              "      box-shadow: 0px 1px 3px 1px rgba(0, 0, 0, 0.15);\n",
              "      filter: drop-shadow(0px 1px 2px rgba(0, 0, 0, 0.3));\n",
              "      fill: #FFFFFF;\n",
              "    }\n",
              "  </style>\n",
              "\n",
              "      <script>\n",
              "        const buttonEl =\n",
              "          document.querySelector('#df-671a321a-70c6-402c-8f62-e06be0f1a2e9 button.colab-df-convert');\n",
              "        buttonEl.style.display =\n",
              "          google.colab.kernel.accessAllowed ? 'block' : 'none';\n",
              "\n",
              "        async function convertToInteractive(key) {\n",
              "          const element = document.querySelector('#df-671a321a-70c6-402c-8f62-e06be0f1a2e9');\n",
              "          const dataTable =\n",
              "            await google.colab.kernel.invokeFunction('convertToInteractive',\n",
              "                                                     [key], {});\n",
              "          if (!dataTable) return;\n",
              "\n",
              "          const docLinkHtml = 'Like what you see? Visit the ' +\n",
              "            '<a target=\"_blank\" href=https://colab.research.google.com/notebooks/data_table.ipynb>data table notebook</a>'\n",
              "            + ' to learn more about interactive tables.';\n",
              "          element.innerHTML = '';\n",
              "          dataTable['output_type'] = 'display_data';\n",
              "          await google.colab.output.renderOutput(dataTable, element);\n",
              "          const docLink = document.createElement('div');\n",
              "          docLink.innerHTML = docLinkHtml;\n",
              "          element.appendChild(docLink);\n",
              "        }\n",
              "      </script>\n",
              "    </div>\n",
              "  </div>\n",
              "  "
            ]
          },
          "metadata": {},
          "execution_count": 46
        }
      ],
      "source": [
        "x_train"
      ]
    },
    {
      "cell_type": "code",
      "execution_count": 47,
      "metadata": {
        "colab": {
          "base_uri": "https://localhost:8080/"
        },
        "id": "mGLt6plC6upm",
        "outputId": "f6575f69-fd3d-44eb-a9d9-a39e8c7c6c88"
      },
      "outputs": [
        {
          "output_type": "execute_result",
          "data": {
            "text/plain": [
              "520     25656.58\n",
              "575     12222.90\n",
              "770     27941.29\n",
              "314     34838.87\n",
              "426      6555.07\n",
              "          ...   \n",
              "716      9566.99\n",
              "906      4846.92\n",
              "1097     1674.63\n",
              "235     19444.27\n",
              "1062    48970.25\n",
              "Name: expenses, Length: 935, dtype: float64"
            ]
          },
          "metadata": {},
          "execution_count": 47
        }
      ],
      "source": [
        "y_train"
      ]
    },
    {
      "cell_type": "markdown",
      "metadata": {
        "id": "5CZuHyOkFnFs"
      },
      "source": [
        "# Building a Pipeline & Training"
      ]
    },
    {
      "cell_type": "code",
      "execution_count": 48,
      "metadata": {
        "id": "g3ME5KvM6v6D"
      },
      "outputs": [],
      "source": [
        "# Pipeline Concentrate in categorical columns and scale the data\n",
        "# Assigning the categorical columns\n",
        "nominal_features = ['sex', 'smoker', 'region']\n",
        "\n",
        "# It will transforms the categorical value and skip the binary values\n",
        "nominal_transformer = Pipeline(steps=[\n",
        "    ('onehot', OneHotEncoder(sparse = False, drop = 'if_binary'))\n",
        "])\n",
        "\n",
        "# Preprorcessor Tells the model which value to be target\n",
        "# Passthrough will pass a binary columns it won't drop it\n",
        "preprocessor = ColumnTransformer(transformers=[\n",
        "    ('nominal', nominal_transformer, nominal_features)\n",
        "], remainder='passthrough')\n",
        "\n",
        "# Building a model by Scaler & pipeline\n",
        "model = Pipeline(steps=[\n",
        "    ('preprocessor', preprocessor),\n",
        "    ('scaler', StandardScaler()),\n",
        "    ('regressor', LinearRegression())\n",
        "])\n",
        "\n",
        "model1 = Pipeline(steps=[\n",
        "    ('preprocessor', preprocessor),\n",
        "    ('scaler', StandardScaler()),\n",
        "    ('regressor', RandomForestRegressor())\n",
        "])"
      ]
    },
    {
      "cell_type": "code",
      "execution_count": 49,
      "metadata": {
        "colab": {
          "base_uri": "https://localhost:8080/"
        },
        "id": "C0orcwzR9kDc",
        "outputId": "c18e5cb8-2a60-4e29-ae40-f2a287b720d2"
      },
      "outputs": [
        {
          "output_type": "execute_result",
          "data": {
            "text/plain": [
              "Pipeline(steps=[('preprocessor',\n",
              "                 ColumnTransformer(remainder='passthrough',\n",
              "                                   transformers=[('nominal',\n",
              "                                                  Pipeline(steps=[('onehot',\n",
              "                                                                   OneHotEncoder(drop='if_binary',\n",
              "                                                                                 sparse=False))]),\n",
              "                                                  ['sex', 'smoker',\n",
              "                                                   'region'])])),\n",
              "                ('scaler', StandardScaler()),\n",
              "                ('regressor', LinearRegression())])"
            ]
          },
          "metadata": {},
          "execution_count": 49
        }
      ],
      "source": [
        "model.fit(x_train, y_train)"
      ]
    },
    {
      "cell_type": "code",
      "execution_count": 50,
      "metadata": {
        "id": "9D8FLJqL-Wxa"
      },
      "outputs": [],
      "source": [
        "y_pred = model.predict(x_test)"
      ]
    },
    {
      "cell_type": "code",
      "execution_count": 51,
      "metadata": {
        "colab": {
          "base_uri": "https://localhost:8080/"
        },
        "id": "FJIXfK3P-fXb",
        "outputId": "a88e2c60-95e8-4897-c51a-559700faaccb"
      },
      "outputs": [
        {
          "output_type": "execute_result",
          "data": {
            "text/plain": [
              "array([36719.16007273, 13119.16007273, 14238.48574265, 12111.16007273,\n",
              "       11503.16007273,  2319.16007273,  4943.16007273, 12557.13708248,\n",
              "       10367.16007273, 34285.13708248, 10687.16007273,  4733.13708248,\n",
              "       11071.16007273,  9341.81141257,  3167.16007273, 13823.16007273,\n",
              "        3359.16007273, 32653.13708248, 16333.81141257, 16269.13708248,\n",
              "        6463.16007273, 18639.16007273,  9311.16007273,  9997.81141257,\n",
              "        7197.81141257, 35741.81141257,  9677.13708248, 40494.48574265,\n",
              "        6206.48574265,  3887.16007273, 16205.81141257,  3967.16007273,\n",
              "        4285.81141257, 10956.4627524 ,  2527.16007273,  4606.48574265,\n",
              "       30047.16007273, 11183.16007273, 12797.81141257, 11163.78842232,\n",
              "       34413.13708248,  -753.51425735, 11069.13708248, 33215.16007273,\n",
              "       17871.16007273, 12927.16007273, 15741.13708248,  3775.16007273,\n",
              "        6767.16007273,  8959.16007273, 13231.16007273, 12509.81141257,\n",
              "       10927.16007273, 13645.13708248,  9247.16007273,   271.16007273,\n",
              "        3487.16007273, 14687.16007273,  5437.81141257, 15103.16007273,\n",
              "       13454.48574265, 16575.16007273,  2575.16007273,  4189.81141257,\n",
              "        6254.48574265,  6877.81141257,  6335.16007273, 36047.16007273,\n",
              "       12319.16007273, 10623.16007273, 33628.4627524 ,  1117.13708248,\n",
              "        1711.16007273, -1473.51425735, 13581.81141257,   783.16007273,\n",
              "       11021.13708248,  3423.16007273,  5631.16007273,  3775.16007273,\n",
              "       14382.48574265, 12735.16007273, 10510.48574265, 10845.81141257,\n",
              "       36895.16007273,  3231.16007273, 24335.16007273,  3214.48574265,\n",
              "       34879.16007273, 10462.48574265, 10334.48574265,  8110.48574265,\n",
              "        6335.16007273, 11182.48574265,  5438.48574265, 10333.81141257,\n",
              "       12175.16007273, 20269.13708248,  2046.48574265,  7357.81141257,\n",
              "       14111.16007273, 25823.16007273,  8270.48574265, 26975.16007273,\n",
              "        7886.48574265, 11915.78842232, 13100.4627524 , 16381.13708248,\n",
              "       13499.78842232,  -689.51425735, 10719.16007273,  5117.81141257,\n",
              "       35054.48574265,  3823.16007273,  2318.48574265, 12525.13708248,\n",
              "       13916.4627524 , 11967.16007273, -2256.83992727, 32078.48574265,\n",
              "        4415.16007273,  9853.81141257, 16799.16007273,  5567.16007273,\n",
              "       13037.13708248,  5263.16007273,  8430.48574265, 26734.48574265,\n",
              "        7101.81141257, 12045.81141257, 30303.16007273, 10669.13708248,\n",
              "        1742.48574265, 31646.48574265, 29677.13708248,  5631.16007273,\n",
              "         879.16007273,  5279.16007273,  7087.16007273, 13439.16007273,\n",
              "        6079.16007273, 11966.48574265, 28301.81141257,  1439.16007273,\n",
              "       15325.81141257, 10270.48574265,  9006.48574265, 10573.13708248,\n",
              "       11023.16007273,  6365.81141257,  6527.16007273,  5933.81141257,\n",
              "       19037.81141257, 31663.16007273, 13005.13708248, 12124.4627524 ,\n",
              "        1598.48574265,  6013.81141257, 11005.81141257,  4399.16007273,\n",
              "       10829.81141257, 15677.81141257, 13166.48574265,  3998.48574265,\n",
              "        9517.13708248,  3167.16007273, 32206.48574265, 10958.48574265,\n",
              "       10655.16007273,  1903.16007273,  6557.81141257,  7455.16007273,\n",
              "       31919.16007273, 11261.81141257,  1871.16007273,  5916.4627524 ,\n",
              "       35406.48574265, 11821.13708248,   639.16007273, 14605.13708248,\n",
              "       15774.48574265, 11103.16007273,  9358.48574265, 12971.78842232,\n",
              "       11039.16007273, 13421.13708248,  2239.16007273,  8575.16007273,\n",
              "        6175.16007273,  6765.81141257, 11263.16007273, 15006.48574265,\n",
              "       16478.48574265,  6397.81141257, 10366.48574265,  2831.16007273,\n",
              "         895.16007273, 11711.16007273,  7870.48574265,   655.16007273,\n",
              "       11726.48574265, 11805.81141257,  8877.13708248,  7981.13708248,\n",
              "        8445.81141257,  7007.16007273,  8447.16007273,  8206.48574265,\n",
              "        8797.81141257, 32221.81141257, 15103.16007273, 32254.48574265,\n",
              "        1775.16007273, 17279.16007273,  4847.16007273, 38941.81141257,\n",
              "        6702.48574265, 16301.13708248, 38399.16007273,  3293.81141257,\n",
              "       34591.16007273, 11053.81141257, 14781.81141257,  2157.13708248,\n",
              "       17055.16007273,  6590.48574265, 10238.48574265,  8303.16007273,\n",
              "       24927.16007273, 26863.16007273,  6269.81141257, 34158.48574265,\n",
              "        -624.83992727, 15935.16007273,  8893.81141257,  8365.13708248,\n",
              "        2895.16007273,  3837.81141257, 33997.81141257, -1600.83992727,\n",
              "        6527.16007273,  5983.16007273,  9487.16007273, 11662.48574265,\n",
              "       37119.16007273, 15295.16007273, 11231.16007273,  2271.16007273,\n",
              "        -832.83992727, 15534.48574265,  5262.48574265, 12223.16007273,\n",
              "        5998.48574265,  7373.13708248,  8063.16007273, 32063.16007273,\n",
              "        3519.16007273, -1168.83992727, 13934.48574265,  7311.16007273,\n",
              "        4541.13708248, 11150.48574265, -1777.51425735,  8782.48574265,\n",
              "       16270.48574265,  3871.16007273, 40733.81141257, 10687.16007273,\n",
              "       15245.13708248, 11439.16007273, 10414.48574265, 27023.16007273,\n",
              "       26223.16007273,    47.16007273,  8541.81141257,  4398.48574265,\n",
              "        6143.16007273,  5244.4627524 , 27231.16007273, 15438.48574265,\n",
              "       11149.81141257, 17549.13708248, 28749.13708248,  7518.48574265,\n",
              "       15933.81141257, 38141.13708248, 16399.16007273, 15231.16007273,\n",
              "        7679.16007273, 12782.48574265,  5215.16007273, 10141.81141257,\n",
              "        6351.16007273, 10638.48574265, 11758.48574265, 14158.48574265,\n",
              "       40878.48574265,  7582.48574265,  2399.16007273, 12559.16007273,\n",
              "        3485.81141257,  9294.48574265,  7741.81141257,  1439.16007273,\n",
              "       33997.13708248,  2815.16007273, 15983.16007273,  3613.81141257,\n",
              "        9085.81141257,  6237.81141257, 25743.16007273, 26670.48574265,\n",
              "       10621.13708248,  7244.4627524 ,  9375.16007273, 14812.4627524 ,\n",
              "       14303.16007273, 17436.4627524 ,  2399.16007273, 22109.81141257,\n",
              "        5214.48574265, 10270.48574265,    63.16007273,  5405.13708248,\n",
              "        8638.48574265, 33118.48574265, 26429.13708248,  5503.16007273,\n",
              "        4046.48574265,  8493.13708248, 29694.48574265,  3167.16007273,\n",
              "       13597.81141257, 27007.16007273, 13519.16007273, 14159.16007273,\n",
              "        7565.13708248, 12671.16007273,  4015.16007273,  9071.16007273,\n",
              "       12639.16007273, 17854.48574265, 29133.81141257, 11181.13708248,\n",
              "        -817.51425735, 11775.16007273, 25279.16007273,  8910.48574265,\n",
              "       33069.13708248, 10333.81141257,  7327.16007273,  6879.16007273,\n",
              "       10684.4627524 , 12622.48574265, 37343.16007273,  1983.16007273,\n",
              "        3231.16007273,  5838.48574265,  5614.48574265, 18717.81141257,\n",
              "       17535.16007273,  8094.48574265, 10414.48574265, 30526.48574265,\n",
              "       31165.81141257, 16142.48574265, 30431.16007273, 33647.16007273,\n",
              "        4687.16007273,  5085.81141257, 28541.13708248,  8173.81141257,\n",
              "        6719.16007273,  7582.48574265, 17502.48574265, 11229.13708248,\n",
              "        7855.16007273,   590.48574265,  6798.48574265, 26639.16007273,\n",
              "       15004.4627524 , 16639.16007273, 15965.13708248,  3311.16007273,\n",
              "       33742.48574265, 28957.81141257, 33422.48574265, 31327.16007273,\n",
              "       33853.13708248, 11726.48574265, 10317.13708248, 26108.4627524 ,\n",
              "        4703.16007273,  8831.16007273, 17023.16007273, 12829.81141257,\n",
              "        3151.16007273,  5135.16007273,  8446.48574265,  7582.48574265,\n",
              "        1822.48574265,  2863.16007273])"
            ]
          },
          "metadata": {},
          "execution_count": 51
        }
      ],
      "source": [
        "y_pred"
      ]
    },
    {
      "cell_type": "code",
      "execution_count": 52,
      "metadata": {
        "colab": {
          "base_uri": "https://localhost:8080/"
        },
        "id": "VVKF_M0r-gZi",
        "outputId": "b78fc619-d61c-4d19-efaa-135d1e50b4e6"
      },
      "outputs": [
        {
          "output_type": "execute_result",
          "data": {
            "text/plain": [
              "629     42983.46\n",
              "1087    11353.23\n",
              "283     11879.10\n",
              "790      5662.23\n",
              "594      5709.16\n",
              "          ...   \n",
              "924      6250.44\n",
              "873      6849.03\n",
              "731     10065.41\n",
              "363      2597.78\n",
              "10       2721.32\n",
              "Name: expenses, Length: 402, dtype: float64"
            ]
          },
          "metadata": {},
          "execution_count": 52
        }
      ],
      "source": [
        "y_test"
      ]
    },
    {
      "cell_type": "code",
      "execution_count": 53,
      "metadata": {
        "colab": {
          "base_uri": "https://localhost:8080/"
        },
        "id": "LCyaBZzG-iEu",
        "outputId": "78eb063d-bd5e-45d1-83b9-a006e9dc08b2"
      },
      "outputs": [
        {
          "output_type": "execute_result",
          "data": {
            "text/plain": [
              "629     6264.299927\n",
              "1087   -1765.930073\n",
              "283    -2359.385743\n",
              "790    -6448.930073\n",
              "594    -5794.000073\n",
              "           ...     \n",
              "924     1115.279927\n",
              "873    -1597.455743\n",
              "731     2482.924257\n",
              "363      775.294257\n",
              "10      -141.840073\n",
              "Name: expenses, Length: 402, dtype: float64"
            ]
          },
          "metadata": {},
          "execution_count": 53
        }
      ],
      "source": [
        "# Calculating the error between y-test & y-pred\n",
        "y_test - y_pred"
      ]
    },
    {
      "cell_type": "code",
      "execution_count": 54,
      "metadata": {
        "colab": {
          "base_uri": "https://localhost:8080/"
        },
        "id": "R-zNdNYN-yKQ",
        "outputId": "4b6e8e40-58cf-44c3-ae3b-bda39d219338"
      },
      "outputs": [
        {
          "output_type": "execute_result",
          "data": {
            "text/plain": [
              "36527024.3756604"
            ]
          },
          "metadata": {},
          "execution_count": 54
        }
      ],
      "source": [
        "# MEAN\n",
        "np_m = np.mean((y_test - y_pred)**2)\n",
        "np_m"
      ]
    },
    {
      "cell_type": "code",
      "execution_count": 55,
      "metadata": {
        "colab": {
          "base_uri": "https://localhost:8080/"
        },
        "id": "c2w_aYUD_DLm",
        "outputId": "dabebde9-4460-4764-d984-41f24ab7a54a"
      },
      "outputs": [
        {
          "output_type": "execute_result",
          "data": {
            "text/plain": [
              "6043.759126211136"
            ]
          },
          "metadata": {},
          "execution_count": 55
        }
      ],
      "source": [
        "# RMSE\n",
        "np.sqrt(np_m)"
      ]
    },
    {
      "cell_type": "code",
      "execution_count": 56,
      "metadata": {
        "colab": {
          "base_uri": "https://localhost:8080/"
        },
        "id": "Ud3H2CLk_VD-",
        "outputId": "0cc90011-f07f-4d84-fd67-079b40705528"
      },
      "outputs": [
        {
          "output_type": "execute_result",
          "data": {
            "text/plain": [
              "count      402.000000\n",
              "mean     12419.333308\n",
              "std      11718.219109\n",
              "min       1137.470000\n",
              "25%       4435.882500\n",
              "50%       8901.615000\n",
              "75%      13829.040000\n",
              "max      62592.870000\n",
              "Name: expenses, dtype: float64"
            ]
          },
          "metadata": {},
          "execution_count": 56
        }
      ],
      "source": [
        "y_test.describe()"
      ]
    },
    {
      "cell_type": "code",
      "execution_count": 57,
      "metadata": {
        "colab": {
          "base_uri": "https://localhost:8080/"
        },
        "id": "u3TXdneH_d3K",
        "outputId": "93074bba-c9df-4717-dc79-adc90f6820bf"
      },
      "outputs": [
        {
          "output_type": "execute_result",
          "data": {
            "text/plain": [
              "Pipeline(steps=[('preprocessor',\n",
              "                 ColumnTransformer(remainder='passthrough',\n",
              "                                   transformers=[('nominal',\n",
              "                                                  Pipeline(steps=[('onehot',\n",
              "                                                                   OneHotEncoder(drop='if_binary',\n",
              "                                                                                 sparse=False))]),\n",
              "                                                  ['sex', 'smoker',\n",
              "                                                   'region'])])),\n",
              "                ('scaler', StandardScaler()),\n",
              "                ('regressor', RandomForestRegressor())])"
            ]
          },
          "metadata": {},
          "execution_count": 57
        }
      ],
      "source": [
        "# Random Forest\n",
        "model1.fit(x_train, y_train)"
      ]
    },
    {
      "cell_type": "code",
      "execution_count": 58,
      "metadata": {
        "colab": {
          "base_uri": "https://localhost:8080/"
        },
        "id": "mmEwOkRzBA-R",
        "outputId": "58228a65-6a40-4b88-9477-5c9188c06e13"
      },
      "outputs": [
        {
          "output_type": "execute_result",
          "data": {
            "text/plain": [
              "array([47345.1201, 13287.2803, 14208.6478,  8190.9826,  6164.6692,\n",
              "        8882.7539,  2664.7219, 14546.9102, 11899.7617, 24651.7196,\n",
              "       16081.4071,  8482.6881, 11611.7374,  9819.3974,  1162.311 ,\n",
              "       14112.5487,  5809.6083, 39760.0321, 15854.1111, 19401.7917,\n",
              "        4192.1502, 17258.5982, 12590.6588, 10444.6372,  7708.2783,\n",
              "       43811.8269, 10454.0166, 47178.2195,  4977.6536,  3913.9352,\n",
              "       10119.0848,  3951.6984,  9007.4027, 20359.429 ,  3000.4245,\n",
              "        1842.4649, 37953.9089, 15896.0642,  7536.5976, 11017.1897,\n",
              "       25775.8865,  2247.7337, 12280.88  , 40929.6735, 15924.4491,\n",
              "       12790.3524, 11832.2071,  5729.7662, 11320.7125, 11535.305 ,\n",
              "       15307.8025, 14455.3278, 16191.5952,  9490.1208, 14872.4201,\n",
              "        6526.0485,  3626.5232, 12084.4071,  7230.4772, 14037.3398,\n",
              "       13442.354 , 17422.2627,  6464.6504,  8414.0571, 13482.4107,\n",
              "        8168.5029,  2605.9032, 43713.9852, 10600.6776, 18505.6355,\n",
              "       39620.0023,  5767.5791,  1967.5772,  2186.0707,  9532.5852,\n",
              "        1768.1817,  7740.6188,  3518.4812,  6793.6149,  3287.7505,\n",
              "       16889.6855, 10475.9724, 14630.808 , 17660.1516, 28711.5685,\n",
              "        8045.801 , 17179.1636,  4061.0985, 43311.3228,  7166.5763,\n",
              "        7157.2814,  5078.9277,  6684.8729, 10140.7857,  2359.628 ,\n",
              "        8969.3221,  9445.8   , 19671.8614,  3678.7665, 11158.4152,\n",
              "       11853.9462, 17751.7079,  6866.2154, 36087.254 ,  7475.7518,\n",
              "       12556.7869, 13561.6957, 15446.6227, 11915.6065,  2203.5592,\n",
              "       11482.885 ,  5682.0898, 40771.0545,  6061.0925,  6736.7221,\n",
              "       11405.2513, 11507.6467,  9262.6682,  1275.475 , 21382.497 ,\n",
              "        4388.221 ,  6017.4641, 13289.1639,  8956.9527, 10234.9343,\n",
              "        2165.3713,  6531.7588, 16996.8471,  7714.4895,  9189.9526,\n",
              "       39401.436 , 11285.0609,  2392.0435, 43796.5488, 34508.8638,\n",
              "        8443.9815,  1681.6719,  9879.802 , 12072.9564,  9887.0758,\n",
              "        2883.7019,  7968.567 , 19843.9683,  3505.5923, 14374.2905,\n",
              "       14929.2693,  8944.8982,  8086.6328, 17068.3607,  7025.9667,\n",
              "        2886.8778,  6007.1402, 13556.6201, 26263.7304, 10859.3744,\n",
              "       11916.0554,  3672.5916,  8144.2931,  7335.1   ,  2456.4576,\n",
              "        9906.4456, 15160.1955, 12158.4899,  3498.4155,  6566.5192,\n",
              "       14926.8567, 40422.0082, 15100.8686, 12410.3459,  3425.62  ,\n",
              "        6362.1437,  3294.9415, 25115.407 ,  7822.626 ,  3473.2626,\n",
              "        6441.439 , 43089.7984, 13557.053 ,  5880.1496,  8622.7719,\n",
              "       14869.6287, 13859.7596, 17263.2762,  6491.0225, 12762.2335,\n",
              "       14407.379 ,  2432.6452,  8625.9972,  3051.1746,  6016.2138,\n",
              "        6024.4164, 13046.1061,  9596.427 ,  7142.4034,  8843.4256,\n",
              "        3880.3921,  4471.0762, 12390.6619,  9851.5544,  2145.6365,\n",
              "        9355.0903,  7591.535 , 11665.8749,  7027.6115,  6744.9035,\n",
              "        3789.5766, 15474.6013,  9194.9032, 13567.163 , 24255.7197,\n",
              "       15463.1375, 24709.5174,  1842.1699, 13157.7107,  1590.7242,\n",
              "       47171.7668,  5198.5893, 20315.453 , 51016.8627, 10924.476 ,\n",
              "       27087.8335,  8587.3947, 13767.099 ,  7721.7148, 13502.7858,\n",
              "        3343.0366,  5307.4201, 13154.6081, 18598.9577, 34931.4961,\n",
              "       19412.9192, 40970.5214,  1637.655 , 12639.6269, 13758.6068,\n",
              "        7565.1329,  2197.1435,  6794.662 , 40892.0417,  1763.0779,\n",
              "        3787.3167,  5175.4621, 14479.5422, 10926.5573, 44789.0789,\n",
              "       13128.7094, 13665.171 ,  2528.3756,  2384.3871, 18188.4909,\n",
              "        4698.6691, 10818.5165,  5192.9199,  7978.3086,  2955.1078,\n",
              "       40119.2555,  2160.842 ,  1586.9955, 14276.1395,  5276.4209,\n",
              "       10966.8662,  9670.8555,  2526.8148,  6759.4263, 18154.0582,\n",
              "        4235.3031, 47295.7473, 13051.2586, 17929.5867, 18125.3042,\n",
              "       14810.3161, 36087.254 , 18921.0481,  1905.34  ,  9147.4633,\n",
              "        7560.5795,  7261.6425,  6731.9877, 33824.2547, 14096.7067,\n",
              "        4931.784 , 14828.7842, 19190.0275,  6415.4549, 17893.5731,\n",
              "       44376.4757, 13874.8574, 13884.4622, 12327.3576, 14626.9918,\n",
              "        4431.6311,  7322.6555,  4220.5546,  3687.8364,  8828.3478,\n",
              "        9423.5113, 46867.2513,  7068.4806,  5832.699 , 13650.5066,\n",
              "        6614.2594,  6851.0463,  8475.1779,  4959.8035, 39555.5655,\n",
              "        1982.5548, 12576.8254,  8112.9479,  4875.4875,  8908.4943,\n",
              "       18202.2306, 24740.9246, 10692.1989,  8324.3674, 15005.7147,\n",
              "       15103.4366, 14213.1662, 16352.6197,  4902.7811, 18348.5555,\n",
              "        5311.0941,  8041.7809,  2159.3633,  4604.3747, 13683.4507,\n",
              "       28517.2938, 16200.2376,  4326.8597,  1692.736 ,  6848.6525,\n",
              "       20452.3204,  3081.9412, 10578.7124, 22274.8427, 11911.7537,\n",
              "       15174.6422,  7977.8512, 15802.7532,  3182.1392,  5311.2223,\n",
              "       15257.5651, 16270.6159, 35675.6275,  8557.56  ,  6452.885 ,\n",
              "       12603.9812, 33813.6964,  7242.2625, 25309.3155, 11126.3765,\n",
              "        6101.7086,  5671.0605, 10990.0216, 14605.6606, 28403.0051,\n",
              "        3724.8177,  4035.7506, 12715.6232,  5165.4029, 11291.6236,\n",
              "       14062.9515,  6663.6441,  8634.1036, 38378.6298, 26905.4817,\n",
              "       10505.7339, 24542.7933, 26149.6701,  2618.3055,  7926.6766,\n",
              "       34623.6567,  5083.7341,  9986.0596,  4293.7109, 15189.7709,\n",
              "       11374.4606, 11399.297 ,  5105.6764,  6902.085 , 18003.1696,\n",
              "       21380.822 , 13208.8601, 16052.7039,  6169.7553, 39249.1621,\n",
              "       35495.6807, 39207.8198, 38154.8474, 40130.1306,  8833.2103,\n",
              "        7069.3952, 17409.2177,  8083.0412,  6415.3215, 17189.6556,\n",
              "       10913.5687,  4207.863 ,  7823.5428,  8269.151 , 12874.8984,\n",
              "        2689.0551,  2783.2547])"
            ]
          },
          "metadata": {},
          "execution_count": 58
        }
      ],
      "source": [
        "y_pred1 = model1.predict(x_test)\n",
        "y_pred1"
      ]
    },
    {
      "cell_type": "code",
      "execution_count": 59,
      "metadata": {
        "colab": {
          "base_uri": "https://localhost:8080/"
        },
        "id": "GqpnFUm2BKmz",
        "outputId": "2abeb451-d455-413b-e778-6f100c07d7ba"
      },
      "outputs": [
        {
          "output_type": "execute_result",
          "data": {
            "text/plain": [
              "629    -4361.6601\n",
              "1087   -1934.0503\n",
              "283    -2329.5478\n",
              "790    -2528.7526\n",
              "594     -455.5092\n",
              "          ...    \n",
              "924    -1573.1028\n",
              "873    -1420.1210\n",
              "731    -2809.4884\n",
              "363      -91.2751\n",
              "10       -61.9347\n",
              "Name: expenses, Length: 402, dtype: float64"
            ]
          },
          "metadata": {},
          "execution_count": 59
        }
      ],
      "source": [
        "# Error between this\n",
        "y_test - y_pred1"
      ]
    },
    {
      "cell_type": "code",
      "execution_count": 60,
      "metadata": {
        "colab": {
          "base_uri": "https://localhost:8080/"
        },
        "id": "k01ZFC9QBYVc",
        "outputId": "5d892874-0214-4608-f593-280ef8617989"
      },
      "outputs": [
        {
          "output_type": "execute_result",
          "data": {
            "text/plain": [
              "23384058.50627544"
            ]
          },
          "metadata": {},
          "execution_count": 60
        }
      ],
      "source": [
        "# MEAN\n",
        "np_r = np.mean((y_test - y_pred1)**2)\n",
        "np_r"
      ]
    },
    {
      "cell_type": "code",
      "execution_count": 61,
      "metadata": {
        "colab": {
          "base_uri": "https://localhost:8080/"
        },
        "id": "3sh18nPnBmG1",
        "outputId": "487bb4b1-2383-41ac-dc34-6ff6cdea8f17"
      },
      "outputs": [
        {
          "output_type": "execute_result",
          "data": {
            "text/plain": [
              "4835.706619127699"
            ]
          },
          "metadata": {},
          "execution_count": 61
        }
      ],
      "source": [
        "# RMSE(RF)\n",
        "rmse = np.sqrt(np_r)\n",
        "rmse"
      ]
    },
    {
      "cell_type": "code",
      "execution_count": 62,
      "metadata": {
        "colab": {
          "base_uri": "https://localhost:8080/"
        },
        "id": "0_XogEcbBt4N",
        "outputId": "17f0a52a-8a39-4aee-b626-6feaf9ddcd06"
      },
      "outputs": [
        {
          "output_type": "execute_result",
          "data": {
            "text/plain": [
              "13648.78464171123"
            ]
          },
          "metadata": {},
          "execution_count": 62
        }
      ],
      "source": [
        "y_train.mean()"
      ]
    },
    {
      "cell_type": "code",
      "execution_count": 63,
      "metadata": {
        "colab": {
          "base_uri": "https://localhost:8080/"
        },
        "id": "mvmUPMeNCBqP",
        "outputId": "9934ea0d-2a13-4ba7-a19c-eff5844c999c"
      },
      "outputs": [
        {
          "output_type": "execute_result",
          "data": {
            "text/plain": [
              "12419.333308457712"
            ]
          },
          "metadata": {},
          "execution_count": 63
        }
      ],
      "source": [
        "y_test.mean()"
      ]
    },
    {
      "cell_type": "code",
      "execution_count": 64,
      "metadata": {
        "colab": {
          "base_uri": "https://localhost:8080/"
        },
        "id": "at7IgOUSCFuy",
        "outputId": "ee524026-63b4-4617-a2f2-375b266dd717"
      },
      "outputs": [
        {
          "output_type": "execute_result",
          "data": {
            "text/plain": [
              "629     9.341658e+08\n",
              "1087    1.136576e+06\n",
              "283     2.918520e+05\n",
              "790     4.565845e+07\n",
              "594     4.502643e+07\n",
              "            ...     \n",
              "924     3.805524e+07\n",
              "873     3.102828e+07\n",
              "731     5.540955e+06\n",
              "363     9.646291e+07\n",
              "10      9.405146e+07\n",
              "Name: expenses, Length: 402, dtype: float64"
            ]
          },
          "metadata": {},
          "execution_count": 64
        }
      ],
      "source": [
        "# Error between ytest & ytest mean and squaring it\n",
        "yt_m = ((y_test - y_test.mean())**2)\n",
        "yt_m"
      ]
    },
    {
      "cell_type": "code",
      "execution_count": 65,
      "metadata": {
        "colab": {
          "base_uri": "https://localhost:8080/"
        },
        "id": "mdylDvXfCU4l",
        "outputId": "3e90f8df-9643-4e91-efe2-a6fdcaf49d0a"
      },
      "outputs": [
        {
          "output_type": "execute_result",
          "data": {
            "text/plain": [
              "55063980289.4557"
            ]
          },
          "metadata": {},
          "execution_count": 65
        }
      ],
      "source": [
        "# Sum of the squared error for baseline model\n",
        "yt1 = np.sum(yt_m)\n",
        "yt1"
      ]
    },
    {
      "cell_type": "code",
      "execution_count": 66,
      "metadata": {
        "colab": {
          "base_uri": "https://localhost:8080/"
        },
        "id": "YwmMpW3PCnJF",
        "outputId": "87f84947-84bc-4958-c43c-cafc479833fc"
      },
      "outputs": [
        {
          "output_type": "execute_result",
          "data": {
            "text/plain": [
              "629     1.902408e+07\n",
              "1087    3.740551e+06\n",
              "283     5.426793e+06\n",
              "790     6.394590e+06\n",
              "594     2.074886e+05\n",
              "            ...     \n",
              "924     2.474652e+06\n",
              "873     2.016744e+06\n",
              "731     7.893225e+06\n",
              "363     8.331144e+03\n",
              "10      3.835907e+03\n",
              "Name: expenses, Length: 402, dtype: float64"
            ]
          },
          "metadata": {},
          "execution_count": 66
        }
      ],
      "source": [
        "# Error for our model\n",
        "yt_m1 = ((y_test - y_pred1)**2)\n",
        "yt_m1"
      ]
    },
    {
      "cell_type": "code",
      "execution_count": 67,
      "metadata": {
        "colab": {
          "base_uri": "https://localhost:8080/"
        },
        "id": "NuJW8oovC7zN",
        "outputId": "29e9f1bd-b8dc-4023-bc7a-3783f37d5c61"
      },
      "outputs": [
        {
          "output_type": "execute_result",
          "data": {
            "text/plain": [
              "9400391519.522728"
            ]
          },
          "metadata": {},
          "execution_count": 67
        }
      ],
      "source": [
        "# Sum of the squared error for our model\n",
        "yt2 = np.sum(yt_m1)\n",
        "yt2"
      ]
    },
    {
      "cell_type": "code",
      "execution_count": 68,
      "metadata": {
        "colab": {
          "base_uri": "https://localhost:8080/"
        },
        "id": "kfTHAR1cC-d-",
        "outputId": "e1579670-936b-49c0-d686-5c6817169b20"
      },
      "outputs": [
        {
          "output_type": "execute_result",
          "data": {
            "text/plain": [
              "0.8292823826009754"
            ]
          },
          "metadata": {},
          "execution_count": 68
        }
      ],
      "source": [
        "# R-Squared Error\n",
        "R2 = 1-(yt2/yt1)\n",
        "R2"
      ]
    },
    {
      "cell_type": "code",
      "execution_count": 69,
      "metadata": {
        "colab": {
          "base_uri": "https://localhost:8080/"
        },
        "id": "XxSbZZKjG3oj",
        "outputId": "da2dce40-a546-48ef-ffc2-66a8d751141e"
      },
      "outputs": [
        {
          "output_type": "stream",
          "name": "stdout",
          "text": [
            "ROOT MEAN SQUARED ERROR VALUE : 4835.71\n",
            "R-SQUARED VALUE : 0.82928\n"
          ]
        }
      ],
      "source": [
        "print('ROOT MEAN SQUARED ERROR VALUE : {:.2f}'.format(rmse))\n",
        "\n",
        "\n",
        "print('R-SQUARED VALUE : {:.5f}'.format(R2))"
      ]
    },
    {
      "cell_type": "markdown",
      "metadata": {
        "id": "QNghcKSUIwfQ"
      },
      "source": [
        "# INTERACTIVE WIDGETS"
      ]
    },
    {
      "cell_type": "code",
      "execution_count": 70,
      "metadata": {
        "colab": {
          "base_uri": "https://localhost:8080/",
          "height": 424
        },
        "id": "QvCnF1K1JXf7",
        "outputId": "9fbb8111-de30-4e04-9d5a-06bdb9837b60"
      },
      "outputs": [
        {
          "output_type": "execute_result",
          "data": {
            "text/plain": [
              "      age     sex   bmi  children smoker     region\n",
              "520    50  female  27.4         0     no  northeast\n",
              "575    58  female  27.2         0     no  northwest\n",
              "770    61    male  36.1         3     no  southwest\n",
              "314    27  female  31.4         0    yes  southwest\n",
              "426    38  female  27.3         1     no  northeast\n",
              "...   ...     ...   ...       ...    ...        ...\n",
              "716    49  female  22.6         1     no  northwest\n",
              "906    27    male  32.6         3     no  northeast\n",
              "1097   22    male  33.8         0     no  southeast\n",
              "235    40  female  22.2         2    yes  southeast\n",
              "1062   59    male  41.1         1    yes  southeast\n",
              "\n",
              "[935 rows x 6 columns]"
            ],
            "text/html": [
              "\n",
              "  <div id=\"df-182c5db7-226f-4dfa-9b1e-5dda669e18a8\">\n",
              "    <div class=\"colab-df-container\">\n",
              "      <div>\n",
              "<style scoped>\n",
              "    .dataframe tbody tr th:only-of-type {\n",
              "        vertical-align: middle;\n",
              "    }\n",
              "\n",
              "    .dataframe tbody tr th {\n",
              "        vertical-align: top;\n",
              "    }\n",
              "\n",
              "    .dataframe thead th {\n",
              "        text-align: right;\n",
              "    }\n",
              "</style>\n",
              "<table border=\"1\" class=\"dataframe\">\n",
              "  <thead>\n",
              "    <tr style=\"text-align: right;\">\n",
              "      <th></th>\n",
              "      <th>age</th>\n",
              "      <th>sex</th>\n",
              "      <th>bmi</th>\n",
              "      <th>children</th>\n",
              "      <th>smoker</th>\n",
              "      <th>region</th>\n",
              "    </tr>\n",
              "  </thead>\n",
              "  <tbody>\n",
              "    <tr>\n",
              "      <th>520</th>\n",
              "      <td>50</td>\n",
              "      <td>female</td>\n",
              "      <td>27.4</td>\n",
              "      <td>0</td>\n",
              "      <td>no</td>\n",
              "      <td>northeast</td>\n",
              "    </tr>\n",
              "    <tr>\n",
              "      <th>575</th>\n",
              "      <td>58</td>\n",
              "      <td>female</td>\n",
              "      <td>27.2</td>\n",
              "      <td>0</td>\n",
              "      <td>no</td>\n",
              "      <td>northwest</td>\n",
              "    </tr>\n",
              "    <tr>\n",
              "      <th>770</th>\n",
              "      <td>61</td>\n",
              "      <td>male</td>\n",
              "      <td>36.1</td>\n",
              "      <td>3</td>\n",
              "      <td>no</td>\n",
              "      <td>southwest</td>\n",
              "    </tr>\n",
              "    <tr>\n",
              "      <th>314</th>\n",
              "      <td>27</td>\n",
              "      <td>female</td>\n",
              "      <td>31.4</td>\n",
              "      <td>0</td>\n",
              "      <td>yes</td>\n",
              "      <td>southwest</td>\n",
              "    </tr>\n",
              "    <tr>\n",
              "      <th>426</th>\n",
              "      <td>38</td>\n",
              "      <td>female</td>\n",
              "      <td>27.3</td>\n",
              "      <td>1</td>\n",
              "      <td>no</td>\n",
              "      <td>northeast</td>\n",
              "    </tr>\n",
              "    <tr>\n",
              "      <th>...</th>\n",
              "      <td>...</td>\n",
              "      <td>...</td>\n",
              "      <td>...</td>\n",
              "      <td>...</td>\n",
              "      <td>...</td>\n",
              "      <td>...</td>\n",
              "    </tr>\n",
              "    <tr>\n",
              "      <th>716</th>\n",
              "      <td>49</td>\n",
              "      <td>female</td>\n",
              "      <td>22.6</td>\n",
              "      <td>1</td>\n",
              "      <td>no</td>\n",
              "      <td>northwest</td>\n",
              "    </tr>\n",
              "    <tr>\n",
              "      <th>906</th>\n",
              "      <td>27</td>\n",
              "      <td>male</td>\n",
              "      <td>32.6</td>\n",
              "      <td>3</td>\n",
              "      <td>no</td>\n",
              "      <td>northeast</td>\n",
              "    </tr>\n",
              "    <tr>\n",
              "      <th>1097</th>\n",
              "      <td>22</td>\n",
              "      <td>male</td>\n",
              "      <td>33.8</td>\n",
              "      <td>0</td>\n",
              "      <td>no</td>\n",
              "      <td>southeast</td>\n",
              "    </tr>\n",
              "    <tr>\n",
              "      <th>235</th>\n",
              "      <td>40</td>\n",
              "      <td>female</td>\n",
              "      <td>22.2</td>\n",
              "      <td>2</td>\n",
              "      <td>yes</td>\n",
              "      <td>southeast</td>\n",
              "    </tr>\n",
              "    <tr>\n",
              "      <th>1062</th>\n",
              "      <td>59</td>\n",
              "      <td>male</td>\n",
              "      <td>41.1</td>\n",
              "      <td>1</td>\n",
              "      <td>yes</td>\n",
              "      <td>southeast</td>\n",
              "    </tr>\n",
              "  </tbody>\n",
              "</table>\n",
              "<p>935 rows × 6 columns</p>\n",
              "</div>\n",
              "      <button class=\"colab-df-convert\" onclick=\"convertToInteractive('df-182c5db7-226f-4dfa-9b1e-5dda669e18a8')\"\n",
              "              title=\"Convert this dataframe to an interactive table.\"\n",
              "              style=\"display:none;\">\n",
              "        \n",
              "  <svg xmlns=\"http://www.w3.org/2000/svg\" height=\"24px\"viewBox=\"0 0 24 24\"\n",
              "       width=\"24px\">\n",
              "    <path d=\"M0 0h24v24H0V0z\" fill=\"none\"/>\n",
              "    <path d=\"M18.56 5.44l.94 2.06.94-2.06 2.06-.94-2.06-.94-.94-2.06-.94 2.06-2.06.94zm-11 1L8.5 8.5l.94-2.06 2.06-.94-2.06-.94L8.5 2.5l-.94 2.06-2.06.94zm10 10l.94 2.06.94-2.06 2.06-.94-2.06-.94-.94-2.06-.94 2.06-2.06.94z\"/><path d=\"M17.41 7.96l-1.37-1.37c-.4-.4-.92-.59-1.43-.59-.52 0-1.04.2-1.43.59L10.3 9.45l-7.72 7.72c-.78.78-.78 2.05 0 2.83L4 21.41c.39.39.9.59 1.41.59.51 0 1.02-.2 1.41-.59l7.78-7.78 2.81-2.81c.8-.78.8-2.07 0-2.86zM5.41 20L4 18.59l7.72-7.72 1.47 1.35L5.41 20z\"/>\n",
              "  </svg>\n",
              "      </button>\n",
              "      \n",
              "  <style>\n",
              "    .colab-df-container {\n",
              "      display:flex;\n",
              "      flex-wrap:wrap;\n",
              "      gap: 12px;\n",
              "    }\n",
              "\n",
              "    .colab-df-convert {\n",
              "      background-color: #E8F0FE;\n",
              "      border: none;\n",
              "      border-radius: 50%;\n",
              "      cursor: pointer;\n",
              "      display: none;\n",
              "      fill: #1967D2;\n",
              "      height: 32px;\n",
              "      padding: 0 0 0 0;\n",
              "      width: 32px;\n",
              "    }\n",
              "\n",
              "    .colab-df-convert:hover {\n",
              "      background-color: #E2EBFA;\n",
              "      box-shadow: 0px 1px 2px rgba(60, 64, 67, 0.3), 0px 1px 3px 1px rgba(60, 64, 67, 0.15);\n",
              "      fill: #174EA6;\n",
              "    }\n",
              "\n",
              "    [theme=dark] .colab-df-convert {\n",
              "      background-color: #3B4455;\n",
              "      fill: #D2E3FC;\n",
              "    }\n",
              "\n",
              "    [theme=dark] .colab-df-convert:hover {\n",
              "      background-color: #434B5C;\n",
              "      box-shadow: 0px 1px 3px 1px rgba(0, 0, 0, 0.15);\n",
              "      filter: drop-shadow(0px 1px 2px rgba(0, 0, 0, 0.3));\n",
              "      fill: #FFFFFF;\n",
              "    }\n",
              "  </style>\n",
              "\n",
              "      <script>\n",
              "        const buttonEl =\n",
              "          document.querySelector('#df-182c5db7-226f-4dfa-9b1e-5dda669e18a8 button.colab-df-convert');\n",
              "        buttonEl.style.display =\n",
              "          google.colab.kernel.accessAllowed ? 'block' : 'none';\n",
              "\n",
              "        async function convertToInteractive(key) {\n",
              "          const element = document.querySelector('#df-182c5db7-226f-4dfa-9b1e-5dda669e18a8');\n",
              "          const dataTable =\n",
              "            await google.colab.kernel.invokeFunction('convertToInteractive',\n",
              "                                                     [key], {});\n",
              "          if (!dataTable) return;\n",
              "\n",
              "          const docLinkHtml = 'Like what you see? Visit the ' +\n",
              "            '<a target=\"_blank\" href=https://colab.research.google.com/notebooks/data_table.ipynb>data table notebook</a>'\n",
              "            + ' to learn more about interactive tables.';\n",
              "          element.innerHTML = '';\n",
              "          dataTable['output_type'] = 'display_data';\n",
              "          await google.colab.output.renderOutput(dataTable, element);\n",
              "          const docLink = document.createElement('div');\n",
              "          docLink.innerHTML = docLinkHtml;\n",
              "          element.appendChild(docLink);\n",
              "        }\n",
              "      </script>\n",
              "    </div>\n",
              "  </div>\n",
              "  "
            ]
          },
          "metadata": {},
          "execution_count": 70
        }
      ],
      "source": [
        "x_train"
      ]
    },
    {
      "cell_type": "code",
      "execution_count": 71,
      "metadata": {
        "colab": {
          "base_uri": "https://localhost:8080/"
        },
        "id": "dfdZ-lAiJ2zO",
        "outputId": "b33b944e-e3c7-485c-b3cb-546c5d531639"
      },
      "outputs": [
        {
          "output_type": "execute_result",
          "data": {
            "text/plain": [
              "{'sex': ['female', 'male'],\n",
              " 'smoker': ['no', 'yes'],\n",
              " 'region': ['northeast', 'northwest', 'southwest', 'southeast']}"
            ]
          },
          "metadata": {},
          "execution_count": 71
        }
      ],
      "source": [
        "{column : list(x_train[column].unique()) for column in x_train.select_dtypes('object').columns}"
      ]
    },
    {
      "cell_type": "code",
      "execution_count": 72,
      "metadata": {
        "colab": {
          "base_uri": "https://localhost:8080/",
          "height": 300
        },
        "id": "mE_DMcARJf_b",
        "outputId": "54655361-efcb-41fc-d06e-2a6a9f242e87"
      },
      "outputs": [
        {
          "output_type": "execute_result",
          "data": {
            "text/plain": [
              "              age         bmi    children\n",
              "count  935.000000  935.000000  935.000000\n",
              "mean    39.245989   30.620642    1.094118\n",
              "std     13.985363    5.972692    1.194078\n",
              "min     18.000000   16.000000    0.000000\n",
              "25%     27.000000   26.300000    0.000000\n",
              "50%     39.000000   30.300000    1.000000\n",
              "75%     51.000000   34.600000    2.000000\n",
              "max     64.000000   53.100000    5.000000"
            ],
            "text/html": [
              "\n",
              "  <div id=\"df-cb68d6d6-ac3a-44c8-a2f5-a1dd28a63546\">\n",
              "    <div class=\"colab-df-container\">\n",
              "      <div>\n",
              "<style scoped>\n",
              "    .dataframe tbody tr th:only-of-type {\n",
              "        vertical-align: middle;\n",
              "    }\n",
              "\n",
              "    .dataframe tbody tr th {\n",
              "        vertical-align: top;\n",
              "    }\n",
              "\n",
              "    .dataframe thead th {\n",
              "        text-align: right;\n",
              "    }\n",
              "</style>\n",
              "<table border=\"1\" class=\"dataframe\">\n",
              "  <thead>\n",
              "    <tr style=\"text-align: right;\">\n",
              "      <th></th>\n",
              "      <th>age</th>\n",
              "      <th>bmi</th>\n",
              "      <th>children</th>\n",
              "    </tr>\n",
              "  </thead>\n",
              "  <tbody>\n",
              "    <tr>\n",
              "      <th>count</th>\n",
              "      <td>935.000000</td>\n",
              "      <td>935.000000</td>\n",
              "      <td>935.000000</td>\n",
              "    </tr>\n",
              "    <tr>\n",
              "      <th>mean</th>\n",
              "      <td>39.245989</td>\n",
              "      <td>30.620642</td>\n",
              "      <td>1.094118</td>\n",
              "    </tr>\n",
              "    <tr>\n",
              "      <th>std</th>\n",
              "      <td>13.985363</td>\n",
              "      <td>5.972692</td>\n",
              "      <td>1.194078</td>\n",
              "    </tr>\n",
              "    <tr>\n",
              "      <th>min</th>\n",
              "      <td>18.000000</td>\n",
              "      <td>16.000000</td>\n",
              "      <td>0.000000</td>\n",
              "    </tr>\n",
              "    <tr>\n",
              "      <th>25%</th>\n",
              "      <td>27.000000</td>\n",
              "      <td>26.300000</td>\n",
              "      <td>0.000000</td>\n",
              "    </tr>\n",
              "    <tr>\n",
              "      <th>50%</th>\n",
              "      <td>39.000000</td>\n",
              "      <td>30.300000</td>\n",
              "      <td>1.000000</td>\n",
              "    </tr>\n",
              "    <tr>\n",
              "      <th>75%</th>\n",
              "      <td>51.000000</td>\n",
              "      <td>34.600000</td>\n",
              "      <td>2.000000</td>\n",
              "    </tr>\n",
              "    <tr>\n",
              "      <th>max</th>\n",
              "      <td>64.000000</td>\n",
              "      <td>53.100000</td>\n",
              "      <td>5.000000</td>\n",
              "    </tr>\n",
              "  </tbody>\n",
              "</table>\n",
              "</div>\n",
              "      <button class=\"colab-df-convert\" onclick=\"convertToInteractive('df-cb68d6d6-ac3a-44c8-a2f5-a1dd28a63546')\"\n",
              "              title=\"Convert this dataframe to an interactive table.\"\n",
              "              style=\"display:none;\">\n",
              "        \n",
              "  <svg xmlns=\"http://www.w3.org/2000/svg\" height=\"24px\"viewBox=\"0 0 24 24\"\n",
              "       width=\"24px\">\n",
              "    <path d=\"M0 0h24v24H0V0z\" fill=\"none\"/>\n",
              "    <path d=\"M18.56 5.44l.94 2.06.94-2.06 2.06-.94-2.06-.94-.94-2.06-.94 2.06-2.06.94zm-11 1L8.5 8.5l.94-2.06 2.06-.94-2.06-.94L8.5 2.5l-.94 2.06-2.06.94zm10 10l.94 2.06.94-2.06 2.06-.94-2.06-.94-.94-2.06-.94 2.06-2.06.94z\"/><path d=\"M17.41 7.96l-1.37-1.37c-.4-.4-.92-.59-1.43-.59-.52 0-1.04.2-1.43.59L10.3 9.45l-7.72 7.72c-.78.78-.78 2.05 0 2.83L4 21.41c.39.39.9.59 1.41.59.51 0 1.02-.2 1.41-.59l7.78-7.78 2.81-2.81c.8-.78.8-2.07 0-2.86zM5.41 20L4 18.59l7.72-7.72 1.47 1.35L5.41 20z\"/>\n",
              "  </svg>\n",
              "      </button>\n",
              "      \n",
              "  <style>\n",
              "    .colab-df-container {\n",
              "      display:flex;\n",
              "      flex-wrap:wrap;\n",
              "      gap: 12px;\n",
              "    }\n",
              "\n",
              "    .colab-df-convert {\n",
              "      background-color: #E8F0FE;\n",
              "      border: none;\n",
              "      border-radius: 50%;\n",
              "      cursor: pointer;\n",
              "      display: none;\n",
              "      fill: #1967D2;\n",
              "      height: 32px;\n",
              "      padding: 0 0 0 0;\n",
              "      width: 32px;\n",
              "    }\n",
              "\n",
              "    .colab-df-convert:hover {\n",
              "      background-color: #E2EBFA;\n",
              "      box-shadow: 0px 1px 2px rgba(60, 64, 67, 0.3), 0px 1px 3px 1px rgba(60, 64, 67, 0.15);\n",
              "      fill: #174EA6;\n",
              "    }\n",
              "\n",
              "    [theme=dark] .colab-df-convert {\n",
              "      background-color: #3B4455;\n",
              "      fill: #D2E3FC;\n",
              "    }\n",
              "\n",
              "    [theme=dark] .colab-df-convert:hover {\n",
              "      background-color: #434B5C;\n",
              "      box-shadow: 0px 1px 3px 1px rgba(0, 0, 0, 0.15);\n",
              "      filter: drop-shadow(0px 1px 2px rgba(0, 0, 0, 0.3));\n",
              "      fill: #FFFFFF;\n",
              "    }\n",
              "  </style>\n",
              "\n",
              "      <script>\n",
              "        const buttonEl =\n",
              "          document.querySelector('#df-cb68d6d6-ac3a-44c8-a2f5-a1dd28a63546 button.colab-df-convert');\n",
              "        buttonEl.style.display =\n",
              "          google.colab.kernel.accessAllowed ? 'block' : 'none';\n",
              "\n",
              "        async function convertToInteractive(key) {\n",
              "          const element = document.querySelector('#df-cb68d6d6-ac3a-44c8-a2f5-a1dd28a63546');\n",
              "          const dataTable =\n",
              "            await google.colab.kernel.invokeFunction('convertToInteractive',\n",
              "                                                     [key], {});\n",
              "          if (!dataTable) return;\n",
              "\n",
              "          const docLinkHtml = 'Like what you see? Visit the ' +\n",
              "            '<a target=\"_blank\" href=https://colab.research.google.com/notebooks/data_table.ipynb>data table notebook</a>'\n",
              "            + ' to learn more about interactive tables.';\n",
              "          element.innerHTML = '';\n",
              "          dataTable['output_type'] = 'display_data';\n",
              "          await google.colab.output.renderOutput(dataTable, element);\n",
              "          const docLink = document.createElement('div');\n",
              "          docLink.innerHTML = docLinkHtml;\n",
              "          element.appendChild(docLink);\n",
              "        }\n",
              "      </script>\n",
              "    </div>\n",
              "  </div>\n",
              "  "
            ]
          },
          "metadata": {},
          "execution_count": 72
        }
      ],
      "source": [
        "x_train.describe()"
      ]
    },
    {
      "cell_type": "code",
      "execution_count": 73,
      "metadata": {
        "colab": {
          "base_uri": "https://localhost:8080/",
          "height": 49,
          "referenced_widgets": [
            "5c02de22c877477fb210c0d9bc763a4c",
            "81d24f07c8ef45a78102760634925b30",
            "832ae0d9e40c43008b824968761221a4"
          ]
        },
        "id": "f2RgGLHTH66D",
        "outputId": "13e3373e-3a2b-4e21-e6c3-2ae937a4c4bb"
      },
      "outputs": [
        {
          "output_type": "display_data",
          "data": {
            "text/plain": [
              "IntSlider(value=0)"
            ],
            "application/vnd.jupyter.widget-view+json": {
              "version_major": 2,
              "version_minor": 0,
              "model_id": "5c02de22c877477fb210c0d9bc763a4c"
            }
          },
          "metadata": {}
        }
      ],
      "source": [
        "widgets.IntSlider()"
      ]
    },
    {
      "cell_type": "code",
      "execution_count": 74,
      "metadata": {
        "colab": {
          "base_uri": "https://localhost:8080/",
          "height": 49,
          "referenced_widgets": [
            "5aa25ce14e7d4b93b366f3c3867519f0",
            "78a72912f4664fcd91c252a6ce34f213",
            "29f583cfbbd640969bc26a78609c86a9"
          ]
        },
        "id": "TKfZefVOJAgQ",
        "outputId": "93267338-3ede-45c9-c5bc-5bbf14d85821"
      },
      "outputs": [
        {
          "output_type": "display_data",
          "data": {
            "text/plain": [
              "FloatSlider(value=0.0)"
            ],
            "application/vnd.jupyter.widget-view+json": {
              "version_major": 2,
              "version_minor": 0,
              "model_id": "5aa25ce14e7d4b93b366f3c3867519f0"
            }
          },
          "metadata": {}
        }
      ],
      "source": [
        "widgets.FloatSlider()"
      ]
    },
    {
      "cell_type": "code",
      "execution_count": 75,
      "metadata": {
        "colab": {
          "base_uri": "https://localhost:8080/",
          "height": 21,
          "referenced_widgets": [
            "380d2a0835834ed99ebfdf90a82d731d",
            "cf9e1a5cffa94c5f9cf13cc155dc8edb",
            "ef05ecabf45c45acb8e74603cb4dda08"
          ]
        },
        "id": "1GzJ6gC_JMLo",
        "outputId": "497c5959-5904-46c1-b977-e53184b36df1"
      },
      "outputs": [
        {
          "output_type": "display_data",
          "data": {
            "text/plain": [
              "ToggleButtons(options=(), value=None)"
            ],
            "application/vnd.jupyter.widget-view+json": {
              "version_major": 2,
              "version_minor": 0,
              "model_id": "380d2a0835834ed99ebfdf90a82d731d"
            }
          },
          "metadata": {}
        }
      ],
      "source": [
        "widgets.ToggleButtons()"
      ]
    },
    {
      "cell_type": "code",
      "execution_count": 76,
      "metadata": {
        "colab": {
          "base_uri": "https://localhost:8080/",
          "height": 49,
          "referenced_widgets": [
            "883c3cc43a0e44ebae1bfb7ea4d5f21b",
            "31afc161c0b34bebbef2047c55ae3c89",
            "1f0d4cc55f694349a1310873509bbe50"
          ]
        },
        "id": "V3EqM1D9JT6w",
        "outputId": "558c7477-dfc0-406b-882f-4c46cb603b49"
      },
      "outputs": [
        {
          "output_type": "display_data",
          "data": {
            "text/plain": [
              "IntSlider(value=18, description='AGE:', max=60, min=10)"
            ],
            "application/vnd.jupyter.widget-view+json": {
              "version_major": 2,
              "version_minor": 0,
              "model_id": "883c3cc43a0e44ebae1bfb7ea4d5f21b"
            }
          },
          "metadata": {}
        }
      ],
      "source": [
        "widgets.IntSlider(\n",
        "    value = 18,\n",
        "    min = 10,\n",
        "    max = 60,\n",
        "    step = 1,\n",
        "    description = 'AGE:'\n",
        ")"
      ]
    },
    {
      "cell_type": "code",
      "execution_count": 77,
      "metadata": {
        "colab": {
          "base_uri": "https://localhost:8080/",
          "height": 49,
          "referenced_widgets": [
            "7a59b48b20a9428e9481edd9d52aa6b4",
            "3a2750081ace45eaa6fc88442cfacebf",
            "ff17b57d9125471a9bb3d1c02907aaf8"
          ]
        },
        "id": "BRpIlXohLkXh",
        "outputId": "e5db547f-3048-442b-8076-02775b976d92"
      },
      "outputs": [
        {
          "output_type": "display_data",
          "data": {
            "text/plain": [
              "FloatSlider(value=30.0, description='BMI: ', max=54.0, min=15.0, step=0.01)"
            ],
            "application/vnd.jupyter.widget-view+json": {
              "version_major": 2,
              "version_minor": 0,
              "model_id": "7a59b48b20a9428e9481edd9d52aa6b4"
            }
          },
          "metadata": {}
        }
      ],
      "source": [
        "widgets.FloatSlider(\n",
        "    value = 30,\n",
        "    min = 15,\n",
        "    max = 54,\n",
        "    step = 0.01,\n",
        "    description = 'BMI: ' \n",
        ")"
      ]
    },
    {
      "cell_type": "code",
      "execution_count": 78,
      "metadata": {
        "colab": {
          "base_uri": "https://localhost:8080/",
          "height": 49,
          "referenced_widgets": [
            "eed136c31f8b4d708ecfb437d5dd0e04",
            "e307f2a1f54c4bf1a238e2c990edbab9",
            "b5fc36c4fef440fd846ee9eb22a2c819"
          ]
        },
        "id": "IMoAktPuMo-v",
        "outputId": "b2deebe4-dfbd-4cd0-a755-20e507314e5b"
      },
      "outputs": [
        {
          "output_type": "display_data",
          "data": {
            "text/plain": [
              "IntSlider(value=1, description=\"CHILDREN'S:\", max=10)"
            ],
            "application/vnd.jupyter.widget-view+json": {
              "version_major": 2,
              "version_minor": 0,
              "model_id": "eed136c31f8b4d708ecfb437d5dd0e04"
            }
          },
          "metadata": {}
        }
      ],
      "source": [
        "widgets.IntSlider(\n",
        "    value = 1,\n",
        "    min = 0,\n",
        "    max = 10,\n",
        "    step = 1,\n",
        "    description =\"CHILDREN'S:\" \n",
        ")"
      ]
    },
    {
      "cell_type": "code",
      "execution_count": 79,
      "metadata": {
        "colab": {
          "base_uri": "https://localhost:8080/",
          "height": 49,
          "referenced_widgets": [
            "146ca24b2f2a45deb22014b9be63e2d6",
            "ab7202a94ede4b66a130c3e7919e9bc7",
            "4056c0693ea54e2e8defc33af62811a8"
          ]
        },
        "id": "qr0SUPupNHBs",
        "outputId": "153d0067-1445-4458-8817-460aae809895"
      },
      "outputs": [
        {
          "output_type": "display_data",
          "data": {
            "text/plain": [
              "ToggleButtons(description='SEX: ', options=('female', 'male'), value='female')"
            ],
            "application/vnd.jupyter.widget-view+json": {
              "version_major": 2,
              "version_minor": 0,
              "model_id": "146ca24b2f2a45deb22014b9be63e2d6"
            }
          },
          "metadata": {}
        }
      ],
      "source": [
        "widgets.ToggleButtons(\n",
        "    options = ['female','male'],\n",
        "    description = 'SEX: '\n",
        ")"
      ]
    },
    {
      "cell_type": "code",
      "execution_count": 80,
      "metadata": {
        "colab": {
          "base_uri": "https://localhost:8080/",
          "height": 49,
          "referenced_widgets": [
            "cd6c3e3bc3c0418b8d9539d4be1466f7",
            "9290686582de46009e632d1d60227978",
            "564ab33068604a6d9014ab3ca36ed978"
          ]
        },
        "id": "hjyyGTGoNvs8",
        "outputId": "f230d0bc-1d03-45e8-e296-9ff9a8063736"
      },
      "outputs": [
        {
          "output_type": "display_data",
          "data": {
            "text/plain": [
              "ToggleButtons(description='SMOKER: ', options=('no', 'yes'), value='no')"
            ],
            "application/vnd.jupyter.widget-view+json": {
              "version_major": 2,
              "version_minor": 0,
              "model_id": "cd6c3e3bc3c0418b8d9539d4be1466f7"
            }
          },
          "metadata": {}
        }
      ],
      "source": [
        "widgets.ToggleButtons(\n",
        "    options = ['no','yes'],\n",
        "    description = 'SMOKER: '\n",
        ")"
      ]
    },
    {
      "cell_type": "code",
      "execution_count": 81,
      "metadata": {
        "colab": {
          "base_uri": "https://localhost:8080/",
          "height": 49,
          "referenced_widgets": [
            "74f1da25e3084aa59f16ccbee519e35d",
            "1ab8d271513f401f96351d552c23a0bb",
            "1f3d1113228048f5ba3313632d615aa6"
          ]
        },
        "id": "sUPYaUxOOORz",
        "outputId": "3bc85ec0-94c4-4315-ff69-2b3f8ebe5518"
      },
      "outputs": [
        {
          "output_type": "display_data",
          "data": {
            "text/plain": [
              "Dropdown(description='REGION: ', options=('northwest', 'southwest', 'northeast', 'southeast'), value='northwes…"
            ],
            "application/vnd.jupyter.widget-view+json": {
              "version_major": 2,
              "version_minor": 0,
              "model_id": "74f1da25e3084aa59f16ccbee519e35d"
            }
          },
          "metadata": {}
        }
      ],
      "source": [
        "widgets.Dropdown(\n",
        "    options = ['northwest', 'southwest', 'northeast', 'southeast'],\n",
        "    description = 'REGION: '\n",
        ")"
      ]
    },
    {
      "cell_type": "code",
      "execution_count": 82,
      "metadata": {
        "id": "BIprXRqyOxtU"
      },
      "outputs": [],
      "source": [
        "Age_widget = widgets.IntSlider(\n",
        "    value = 18,\n",
        "    min = 10,\n",
        "    max = 60,\n",
        "    step = 1,\n",
        "    description = 'AGE:'\n",
        ")\n",
        "\n",
        "Bmi_widget = widgets.FloatSlider(\n",
        "    value = 30,\n",
        "    min = 15,\n",
        "    max = 54,\n",
        "    step = 0.01,\n",
        "    description = 'BMI: ' \n",
        ")\n",
        "\n",
        "\n",
        "Childrens_widget = widgets.IntSlider(\n",
        "    value = 1,\n",
        "    min = 0,\n",
        "    max = 10,\n",
        "    step = 1,\n",
        "    description =\"CHILDREN'S:\" \n",
        ")\n",
        "\n",
        "\n",
        "Sex_widget = widgets.ToggleButtons(\n",
        "    options = ['female','male'],\n",
        "    description = 'SEX: '\n",
        ")\n",
        "\n",
        "\n",
        "Smoker_widget = widgets.ToggleButtons(\n",
        "    options = ['no','yes'],\n",
        "    description = 'SMOKER: '\n",
        ")\n",
        "\n",
        "\n",
        "Region_widget = widgets.Dropdown(\n",
        "    options = ['northwest', 'southwest', 'northeast', 'southeast'],\n",
        "    description = 'REGION: '\n",
        ")\n",
        "\n",
        "\n",
        "\n",
        "widgets.Button(\n",
        "    description = 'Predict'\n",
        ")\n",
        "\n",
        "Button_widget = widgets.Button(\n",
        "    description = 'Predict'\n",
        ")\n",
        "\n",
        "prediction_out = widgets.Output()\n",
        "\n",
        "\n",
        "def make_prediction(btn):\n",
        "  x = pd.DataFrame({\n",
        "      'age':      Age_widget.value,\n",
        "      'sex':      Sex_widget.value,\n",
        "      'bmi':      Bmi_widget.value,\n",
        "      'children': Childrens_widget.value,\n",
        "      'smoker':   Smoker_widget.value,\n",
        "      'region':   Region_widget.value\n",
        "  },index = [0])\n",
        "\n",
        "  prediction = model1.predict(x)\n",
        "\n",
        "  with prediction_out:\n",
        "    prediction_out.clear_output()\n",
        "    print('Your Insurance Premium Per Year is Rs:',format(prediction[0]))\n",
        "\n",
        "\n",
        "\n",
        "Button_widget.on_click(make_prediction)"
      ]
    },
    {
      "cell_type": "code",
      "execution_count": 83,
      "metadata": {
        "colab": {
          "base_uri": "https://localhost:8080/",
          "height": 49,
          "referenced_widgets": [
            "5d067cc440654cca8ef87cd8fe220a34",
            "76187a9fd9f748f98e11e5713184f39e",
            "ebaed720717f4126bc384a1927459fcc"
          ]
        },
        "id": "gzqjNV37TR2p",
        "outputId": "47fd8785-9e24-4819-cbf6-ab9f460957bc"
      },
      "outputs": [
        {
          "output_type": "display_data",
          "data": {
            "text/plain": [
              "IntSlider(value=18, description='AGE:', max=60, min=10)"
            ],
            "application/vnd.jupyter.widget-view+json": {
              "version_major": 2,
              "version_minor": 0,
              "model_id": "5d067cc440654cca8ef87cd8fe220a34"
            }
          },
          "metadata": {}
        }
      ],
      "source": [
        "Age_widget"
      ]
    },
    {
      "cell_type": "code",
      "execution_count": 84,
      "metadata": {
        "colab": {
          "base_uri": "https://localhost:8080/",
          "height": 49,
          "referenced_widgets": [
            "eebdc218f15d4d3f97e1f67b90ede53f",
            "676b252feec047afa132c352377a9072",
            "4bb8245fa02b4e9b936f12f10ff5090b"
          ]
        },
        "id": "Bv1a3k07TfvX",
        "outputId": "8f1bb5a4-e022-4e4c-d9da-5d4e6ac50d24"
      },
      "outputs": [
        {
          "output_type": "display_data",
          "data": {
            "text/plain": [
              "FloatSlider(value=30.0, description='BMI: ', max=54.0, min=15.0, step=0.01)"
            ],
            "application/vnd.jupyter.widget-view+json": {
              "version_major": 2,
              "version_minor": 0,
              "model_id": "eebdc218f15d4d3f97e1f67b90ede53f"
            }
          },
          "metadata": {}
        }
      ],
      "source": [
        "Bmi_widget"
      ]
    },
    {
      "cell_type": "code",
      "execution_count": 85,
      "metadata": {
        "colab": {
          "base_uri": "https://localhost:8080/",
          "height": 49,
          "referenced_widgets": [
            "a3780146e6dd4b888c85c8b193465ed3",
            "dc8d4677e6214ea5b5daefa73d49155b",
            "db4dfe583737425d845fc21d1fda5b4f"
          ]
        },
        "id": "fxH1he9zUgVH",
        "outputId": "9f32b42a-b5ab-4513-a002-51986d5b5966"
      },
      "outputs": [
        {
          "output_type": "display_data",
          "data": {
            "text/plain": [
              "IntSlider(value=1, description=\"CHILDREN'S:\", max=10)"
            ],
            "application/vnd.jupyter.widget-view+json": {
              "version_major": 2,
              "version_minor": 0,
              "model_id": "a3780146e6dd4b888c85c8b193465ed3"
            }
          },
          "metadata": {}
        }
      ],
      "source": [
        "Childrens_widget"
      ]
    },
    {
      "cell_type": "code",
      "execution_count": 86,
      "metadata": {
        "colab": {
          "base_uri": "https://localhost:8080/",
          "referenced_widgets": [
            "7f740813129048ac9667d5dfffcf6805",
            "581cbf21a32e4f6491a74d861610ffc8",
            "ed9b92b3274e4524a751f1774213f73f"
          ],
          "height": 49
        },
        "id": "cJMcTOz1Ujzd",
        "outputId": "e0342a4f-22a2-4ab3-f418-aa913d9a9a3f"
      },
      "outputs": [
        {
          "output_type": "display_data",
          "data": {
            "text/plain": [
              "ToggleButtons(description='SEX: ', options=('female', 'male'), value='female')"
            ],
            "application/vnd.jupyter.widget-view+json": {
              "version_major": 2,
              "version_minor": 0,
              "model_id": "7f740813129048ac9667d5dfffcf6805"
            }
          },
          "metadata": {}
        }
      ],
      "source": [
        "Sex_widget"
      ]
    },
    {
      "cell_type": "code",
      "execution_count": 87,
      "metadata": {
        "colab": {
          "base_uri": "https://localhost:8080/",
          "referenced_widgets": [
            "e788bbf105fb4f60b66290f85f2910da",
            "dcf6d37dd67b4afeb8afd0946d9808bd",
            "ff9232782149495caf1af5f767faae44"
          ],
          "height": 49
        },
        "id": "zECtbxI-Um-R",
        "outputId": "1045bddc-34ba-4754-8080-90d28bb29396"
      },
      "outputs": [
        {
          "output_type": "display_data",
          "data": {
            "text/plain": [
              "ToggleButtons(description='SMOKER: ', options=('no', 'yes'), value='no')"
            ],
            "application/vnd.jupyter.widget-view+json": {
              "version_major": 2,
              "version_minor": 0,
              "model_id": "e788bbf105fb4f60b66290f85f2910da"
            }
          },
          "metadata": {}
        }
      ],
      "source": [
        "Smoker_widget"
      ]
    },
    {
      "cell_type": "code",
      "execution_count": 88,
      "metadata": {
        "colab": {
          "base_uri": "https://localhost:8080/",
          "referenced_widgets": [
            "c062cd10358448c29fcb7b723d33d051",
            "dab8a37bb95a4633873da5f52c5d6694",
            "b0b9c1beee96423fa7a8d18b2e4b69d4"
          ],
          "height": 49
        },
        "id": "1DBb5CUhUqXj",
        "outputId": "571afd69-2af2-4dd7-f7c2-26bbcf6cc76b"
      },
      "outputs": [
        {
          "output_type": "display_data",
          "data": {
            "text/plain": [
              "Dropdown(description='REGION: ', options=('northwest', 'southwest', 'northeast', 'southeast'), value='northwes…"
            ],
            "application/vnd.jupyter.widget-view+json": {
              "version_major": 2,
              "version_minor": 0,
              "model_id": "c062cd10358448c29fcb7b723d33d051"
            }
          },
          "metadata": {}
        }
      ],
      "source": [
        "Region_widget"
      ]
    },
    {
      "cell_type": "code",
      "execution_count": 89,
      "metadata": {
        "colab": {
          "base_uri": "https://localhost:8080/",
          "referenced_widgets": [
            "b299ff1110d44889ac588b45818c9600",
            "1d5330860b824f6680b616389149b465",
            "857f3b4afc684493ae819220f3f32fb3"
          ],
          "height": 49
        },
        "id": "b-0Meyn0oZVx",
        "outputId": "dff5c8d1-be4d-4de8-d822-b31acf25eb8d"
      },
      "outputs": [
        {
          "output_type": "display_data",
          "data": {
            "text/plain": [
              "Button(description='Predict', style=ButtonStyle())"
            ],
            "application/vnd.jupyter.widget-view+json": {
              "version_major": 2,
              "version_minor": 0,
              "model_id": "b299ff1110d44889ac588b45818c9600"
            }
          },
          "metadata": {}
        }
      ],
      "source": [
        "Button_widget"
      ]
    },
    {
      "cell_type": "code",
      "execution_count": 90,
      "metadata": {
        "colab": {
          "base_uri": "https://localhost:8080/",
          "height": 17,
          "referenced_widgets": [
            "605e82282650402d9dce04aceb097aa4",
            "b3fe61e5ab6b4ff2b8e6be18795d04c0"
          ]
        },
        "id": "q5Y9NJduoZGJ",
        "outputId": "6f0c971a-ea3e-428d-b7f1-a157531d38db"
      },
      "outputs": [
        {
          "output_type": "display_data",
          "data": {
            "text/plain": [
              "Output()"
            ],
            "application/vnd.jupyter.widget-view+json": {
              "version_major": 2,
              "version_minor": 0,
              "model_id": "605e82282650402d9dce04aceb097aa4"
            }
          },
          "metadata": {}
        }
      ],
      "source": [
        "prediction_out"
      ]
    },
    {
      "cell_type": "markdown",
      "metadata": {
        "id": "AOQDKeP5XVfn",
        "outputId": "4cef322e-b1c8-416b-9ecd-31a0f09c4b92"
      },
      "source": [
        "display(Age_widget)\n",
        "\n",
        "\n",
        "display(Bmi_widget)\n",
        "\n",
        "\n",
        "display(Childrens_widget)\n",
        "\n",
        "\n",
        "display(Sex_widget)\n",
        "\n",
        "\n",
        "display(Smoker_widget)\n",
        "\n",
        "\n",
        "display(Region_widget)\n",
        "\n",
        "\n",
        "display(Button_widget, prediction_out)"
      ]
    },
    {
      "cell_type": "code",
      "execution_count": 91,
      "metadata": {
        "id": "PTXqaVWAnHZ1",
        "colab": {
          "base_uri": "https://localhost:8080/",
          "height": 371,
          "referenced_widgets": [
            "5d067cc440654cca8ef87cd8fe220a34",
            "76187a9fd9f748f98e11e5713184f39e",
            "ebaed720717f4126bc384a1927459fcc",
            "eebdc218f15d4d3f97e1f67b90ede53f",
            "676b252feec047afa132c352377a9072",
            "4bb8245fa02b4e9b936f12f10ff5090b",
            "a3780146e6dd4b888c85c8b193465ed3",
            "dc8d4677e6214ea5b5daefa73d49155b",
            "db4dfe583737425d845fc21d1fda5b4f",
            "7f740813129048ac9667d5dfffcf6805",
            "581cbf21a32e4f6491a74d861610ffc8",
            "ed9b92b3274e4524a751f1774213f73f",
            "e788bbf105fb4f60b66290f85f2910da",
            "dcf6d37dd67b4afeb8afd0946d9808bd",
            "ff9232782149495caf1af5f767faae44",
            "c062cd10358448c29fcb7b723d33d051",
            "dab8a37bb95a4633873da5f52c5d6694",
            "b0b9c1beee96423fa7a8d18b2e4b69d4",
            "b299ff1110d44889ac588b45818c9600",
            "1d5330860b824f6680b616389149b465",
            "857f3b4afc684493ae819220f3f32fb3",
            "605e82282650402d9dce04aceb097aa4",
            "b3fe61e5ab6b4ff2b8e6be18795d04c0"
          ]
        },
        "outputId": "13696d25-ef11-4d4a-f718-f8b4160e35c9"
      },
      "outputs": [
        {
          "output_type": "display_data",
          "data": {
            "text/plain": [
              "IntSlider(value=18, description='AGE:', max=60, min=10)"
            ],
            "application/vnd.jupyter.widget-view+json": {
              "version_major": 2,
              "version_minor": 0,
              "model_id": "5d067cc440654cca8ef87cd8fe220a34"
            }
          },
          "metadata": {}
        },
        {
          "output_type": "display_data",
          "data": {
            "text/plain": [
              "''"
            ],
            "application/vnd.google.colaboratory.intrinsic+json": {
              "type": "string"
            }
          },
          "metadata": {}
        },
        {
          "output_type": "display_data",
          "data": {
            "text/plain": [
              "FloatSlider(value=30.0, description='BMI: ', max=54.0, min=15.0, step=0.01)"
            ],
            "application/vnd.jupyter.widget-view+json": {
              "version_major": 2,
              "version_minor": 0,
              "model_id": "eebdc218f15d4d3f97e1f67b90ede53f"
            }
          },
          "metadata": {}
        },
        {
          "output_type": "display_data",
          "data": {
            "text/plain": [
              "''"
            ],
            "application/vnd.google.colaboratory.intrinsic+json": {
              "type": "string"
            }
          },
          "metadata": {}
        },
        {
          "output_type": "display_data",
          "data": {
            "text/plain": [
              "IntSlider(value=1, description=\"CHILDREN'S:\", max=10)"
            ],
            "application/vnd.jupyter.widget-view+json": {
              "version_major": 2,
              "version_minor": 0,
              "model_id": "a3780146e6dd4b888c85c8b193465ed3"
            }
          },
          "metadata": {}
        },
        {
          "output_type": "display_data",
          "data": {
            "text/plain": [
              "''"
            ],
            "application/vnd.google.colaboratory.intrinsic+json": {
              "type": "string"
            }
          },
          "metadata": {}
        },
        {
          "output_type": "display_data",
          "data": {
            "text/plain": [
              "ToggleButtons(description='SEX: ', options=('female', 'male'), value='female')"
            ],
            "application/vnd.jupyter.widget-view+json": {
              "version_major": 2,
              "version_minor": 0,
              "model_id": "7f740813129048ac9667d5dfffcf6805"
            }
          },
          "metadata": {}
        },
        {
          "output_type": "display_data",
          "data": {
            "text/plain": [
              "''"
            ],
            "application/vnd.google.colaboratory.intrinsic+json": {
              "type": "string"
            }
          },
          "metadata": {}
        },
        {
          "output_type": "display_data",
          "data": {
            "text/plain": [
              "ToggleButtons(description='SMOKER: ', options=('no', 'yes'), value='no')"
            ],
            "application/vnd.jupyter.widget-view+json": {
              "version_major": 2,
              "version_minor": 0,
              "model_id": "e788bbf105fb4f60b66290f85f2910da"
            }
          },
          "metadata": {}
        },
        {
          "output_type": "display_data",
          "data": {
            "text/plain": [
              "''"
            ],
            "application/vnd.google.colaboratory.intrinsic+json": {
              "type": "string"
            }
          },
          "metadata": {}
        },
        {
          "output_type": "display_data",
          "data": {
            "text/plain": [
              "Dropdown(description='REGION: ', options=('northwest', 'southwest', 'northeast', 'southeast'), value='northwes…"
            ],
            "application/vnd.jupyter.widget-view+json": {
              "version_major": 2,
              "version_minor": 0,
              "model_id": "c062cd10358448c29fcb7b723d33d051"
            }
          },
          "metadata": {}
        },
        {
          "output_type": "display_data",
          "data": {
            "text/plain": [
              "''"
            ],
            "application/vnd.google.colaboratory.intrinsic+json": {
              "type": "string"
            }
          },
          "metadata": {}
        },
        {
          "output_type": "display_data",
          "data": {
            "text/plain": [
              "Button(description='Predict', style=ButtonStyle())"
            ],
            "application/vnd.jupyter.widget-view+json": {
              "version_major": 2,
              "version_minor": 0,
              "model_id": "b299ff1110d44889ac588b45818c9600"
            }
          },
          "metadata": {}
        },
        {
          "output_type": "display_data",
          "data": {
            "text/plain": [
              "''"
            ],
            "application/vnd.google.colaboratory.intrinsic+json": {
              "type": "string"
            }
          },
          "metadata": {}
        },
        {
          "output_type": "display_data",
          "data": {
            "text/plain": [
              "Output()"
            ],
            "application/vnd.jupyter.widget-view+json": {
              "version_major": 2,
              "version_minor": 0,
              "model_id": "605e82282650402d9dce04aceb097aa4"
            }
          },
          "metadata": {}
        }
      ],
      "source": [
        "display(Age_widget,'',Bmi_widget,'',Childrens_widget,'', Sex_widget,'', Smoker_widget,'', Region_widget,'', Button_widget,'', prediction_out)"
      ]
    },
    {
      "cell_type": "code",
      "execution_count": 91,
      "metadata": {
        "id": "285R0wE8FnF-"
      },
      "outputs": [],
      "source": []
    }
  ],
  "metadata": {
    "accelerator": "GPU",
    "colab": {
      "collapsed_sections": [],
      "provenance": []
    },
    "gpuClass": "standard",
    "kernelspec": {
      "display_name": "Python 3 (ipykernel)",
      "language": "python",
      "name": "python3"
    },
    "language_info": {
      "codemirror_mode": {
        "name": "ipython",
        "version": 3
      },
      "file_extension": ".py",
      "mimetype": "text/x-python",
      "name": "python",
      "nbconvert_exporter": "python",
      "pygments_lexer": "ipython3",
      "version": "3.9.12"
    },
    "widgets": {
      "application/vnd.jupyter.widget-state+json": {
        "5c02de22c877477fb210c0d9bc763a4c": {
          "model_module": "@jupyter-widgets/controls",
          "model_name": "IntSliderModel",
          "model_module_version": "1.5.0",
          "state": {
            "_dom_classes": [],
            "_model_module": "@jupyter-widgets/controls",
            "_model_module_version": "1.5.0",
            "_model_name": "IntSliderModel",
            "_view_count": null,
            "_view_module": "@jupyter-widgets/controls",
            "_view_module_version": "1.5.0",
            "_view_name": "IntSliderView",
            "continuous_update": true,
            "description": "",
            "description_tooltip": null,
            "disabled": false,
            "layout": "IPY_MODEL_81d24f07c8ef45a78102760634925b30",
            "max": 100,
            "min": 0,
            "orientation": "horizontal",
            "readout": true,
            "readout_format": "d",
            "step": 1,
            "style": "IPY_MODEL_832ae0d9e40c43008b824968761221a4",
            "value": 0
          }
        },
        "81d24f07c8ef45a78102760634925b30": {
          "model_module": "@jupyter-widgets/base",
          "model_name": "LayoutModel",
          "model_module_version": "1.2.0",
          "state": {
            "_model_module": "@jupyter-widgets/base",
            "_model_module_version": "1.2.0",
            "_model_name": "LayoutModel",
            "_view_count": null,
            "_view_module": "@jupyter-widgets/base",
            "_view_module_version": "1.2.0",
            "_view_name": "LayoutView",
            "align_content": null,
            "align_items": null,
            "align_self": null,
            "border": null,
            "bottom": null,
            "display": null,
            "flex": null,
            "flex_flow": null,
            "grid_area": null,
            "grid_auto_columns": null,
            "grid_auto_flow": null,
            "grid_auto_rows": null,
            "grid_column": null,
            "grid_gap": null,
            "grid_row": null,
            "grid_template_areas": null,
            "grid_template_columns": null,
            "grid_template_rows": null,
            "height": null,
            "justify_content": null,
            "justify_items": null,
            "left": null,
            "margin": null,
            "max_height": null,
            "max_width": null,
            "min_height": null,
            "min_width": null,
            "object_fit": null,
            "object_position": null,
            "order": null,
            "overflow": null,
            "overflow_x": null,
            "overflow_y": null,
            "padding": null,
            "right": null,
            "top": null,
            "visibility": null,
            "width": null
          }
        },
        "832ae0d9e40c43008b824968761221a4": {
          "model_module": "@jupyter-widgets/controls",
          "model_name": "SliderStyleModel",
          "model_module_version": "1.5.0",
          "state": {
            "_model_module": "@jupyter-widgets/controls",
            "_model_module_version": "1.5.0",
            "_model_name": "SliderStyleModel",
            "_view_count": null,
            "_view_module": "@jupyter-widgets/base",
            "_view_module_version": "1.2.0",
            "_view_name": "StyleView",
            "description_width": "",
            "handle_color": null
          }
        },
        "5aa25ce14e7d4b93b366f3c3867519f0": {
          "model_module": "@jupyter-widgets/controls",
          "model_name": "FloatSliderModel",
          "model_module_version": "1.5.0",
          "state": {
            "_dom_classes": [],
            "_model_module": "@jupyter-widgets/controls",
            "_model_module_version": "1.5.0",
            "_model_name": "FloatSliderModel",
            "_view_count": null,
            "_view_module": "@jupyter-widgets/controls",
            "_view_module_version": "1.5.0",
            "_view_name": "FloatSliderView",
            "continuous_update": true,
            "description": "",
            "description_tooltip": null,
            "disabled": false,
            "layout": "IPY_MODEL_78a72912f4664fcd91c252a6ce34f213",
            "max": 100,
            "min": 0,
            "orientation": "horizontal",
            "readout": true,
            "readout_format": ".2f",
            "step": 0.1,
            "style": "IPY_MODEL_29f583cfbbd640969bc26a78609c86a9",
            "value": 0
          }
        },
        "78a72912f4664fcd91c252a6ce34f213": {
          "model_module": "@jupyter-widgets/base",
          "model_name": "LayoutModel",
          "model_module_version": "1.2.0",
          "state": {
            "_model_module": "@jupyter-widgets/base",
            "_model_module_version": "1.2.0",
            "_model_name": "LayoutModel",
            "_view_count": null,
            "_view_module": "@jupyter-widgets/base",
            "_view_module_version": "1.2.0",
            "_view_name": "LayoutView",
            "align_content": null,
            "align_items": null,
            "align_self": null,
            "border": null,
            "bottom": null,
            "display": null,
            "flex": null,
            "flex_flow": null,
            "grid_area": null,
            "grid_auto_columns": null,
            "grid_auto_flow": null,
            "grid_auto_rows": null,
            "grid_column": null,
            "grid_gap": null,
            "grid_row": null,
            "grid_template_areas": null,
            "grid_template_columns": null,
            "grid_template_rows": null,
            "height": null,
            "justify_content": null,
            "justify_items": null,
            "left": null,
            "margin": null,
            "max_height": null,
            "max_width": null,
            "min_height": null,
            "min_width": null,
            "object_fit": null,
            "object_position": null,
            "order": null,
            "overflow": null,
            "overflow_x": null,
            "overflow_y": null,
            "padding": null,
            "right": null,
            "top": null,
            "visibility": null,
            "width": null
          }
        },
        "29f583cfbbd640969bc26a78609c86a9": {
          "model_module": "@jupyter-widgets/controls",
          "model_name": "SliderStyleModel",
          "model_module_version": "1.5.0",
          "state": {
            "_model_module": "@jupyter-widgets/controls",
            "_model_module_version": "1.5.0",
            "_model_name": "SliderStyleModel",
            "_view_count": null,
            "_view_module": "@jupyter-widgets/base",
            "_view_module_version": "1.2.0",
            "_view_name": "StyleView",
            "description_width": "",
            "handle_color": null
          }
        },
        "380d2a0835834ed99ebfdf90a82d731d": {
          "model_module": "@jupyter-widgets/controls",
          "model_name": "ToggleButtonsModel",
          "model_module_version": "1.5.0",
          "state": {
            "_dom_classes": [],
            "_model_module": "@jupyter-widgets/controls",
            "_model_module_version": "1.5.0",
            "_model_name": "ToggleButtonsModel",
            "_options_labels": [],
            "_view_count": null,
            "_view_module": "@jupyter-widgets/controls",
            "_view_module_version": "1.5.0",
            "_view_name": "ToggleButtonsView",
            "button_style": "",
            "description": "",
            "description_tooltip": null,
            "disabled": false,
            "icons": [],
            "index": null,
            "layout": "IPY_MODEL_cf9e1a5cffa94c5f9cf13cc155dc8edb",
            "style": "IPY_MODEL_ef05ecabf45c45acb8e74603cb4dda08",
            "tooltips": []
          }
        },
        "cf9e1a5cffa94c5f9cf13cc155dc8edb": {
          "model_module": "@jupyter-widgets/base",
          "model_name": "LayoutModel",
          "model_module_version": "1.2.0",
          "state": {
            "_model_module": "@jupyter-widgets/base",
            "_model_module_version": "1.2.0",
            "_model_name": "LayoutModel",
            "_view_count": null,
            "_view_module": "@jupyter-widgets/base",
            "_view_module_version": "1.2.0",
            "_view_name": "LayoutView",
            "align_content": null,
            "align_items": null,
            "align_self": null,
            "border": null,
            "bottom": null,
            "display": null,
            "flex": null,
            "flex_flow": null,
            "grid_area": null,
            "grid_auto_columns": null,
            "grid_auto_flow": null,
            "grid_auto_rows": null,
            "grid_column": null,
            "grid_gap": null,
            "grid_row": null,
            "grid_template_areas": null,
            "grid_template_columns": null,
            "grid_template_rows": null,
            "height": null,
            "justify_content": null,
            "justify_items": null,
            "left": null,
            "margin": null,
            "max_height": null,
            "max_width": null,
            "min_height": null,
            "min_width": null,
            "object_fit": null,
            "object_position": null,
            "order": null,
            "overflow": null,
            "overflow_x": null,
            "overflow_y": null,
            "padding": null,
            "right": null,
            "top": null,
            "visibility": null,
            "width": null
          }
        },
        "ef05ecabf45c45acb8e74603cb4dda08": {
          "model_module": "@jupyter-widgets/controls",
          "model_name": "ToggleButtonsStyleModel",
          "model_module_version": "1.5.0",
          "state": {
            "_model_module": "@jupyter-widgets/controls",
            "_model_module_version": "1.5.0",
            "_model_name": "ToggleButtonsStyleModel",
            "_view_count": null,
            "_view_module": "@jupyter-widgets/base",
            "_view_module_version": "1.2.0",
            "_view_name": "StyleView",
            "button_width": "",
            "description_width": "",
            "font_weight": ""
          }
        },
        "883c3cc43a0e44ebae1bfb7ea4d5f21b": {
          "model_module": "@jupyter-widgets/controls",
          "model_name": "IntSliderModel",
          "model_module_version": "1.5.0",
          "state": {
            "_dom_classes": [],
            "_model_module": "@jupyter-widgets/controls",
            "_model_module_version": "1.5.0",
            "_model_name": "IntSliderModel",
            "_view_count": null,
            "_view_module": "@jupyter-widgets/controls",
            "_view_module_version": "1.5.0",
            "_view_name": "IntSliderView",
            "continuous_update": true,
            "description": "AGE:",
            "description_tooltip": null,
            "disabled": false,
            "layout": "IPY_MODEL_31afc161c0b34bebbef2047c55ae3c89",
            "max": 60,
            "min": 10,
            "orientation": "horizontal",
            "readout": true,
            "readout_format": "d",
            "step": 1,
            "style": "IPY_MODEL_1f0d4cc55f694349a1310873509bbe50",
            "value": 18
          }
        },
        "31afc161c0b34bebbef2047c55ae3c89": {
          "model_module": "@jupyter-widgets/base",
          "model_name": "LayoutModel",
          "model_module_version": "1.2.0",
          "state": {
            "_model_module": "@jupyter-widgets/base",
            "_model_module_version": "1.2.0",
            "_model_name": "LayoutModel",
            "_view_count": null,
            "_view_module": "@jupyter-widgets/base",
            "_view_module_version": "1.2.0",
            "_view_name": "LayoutView",
            "align_content": null,
            "align_items": null,
            "align_self": null,
            "border": null,
            "bottom": null,
            "display": null,
            "flex": null,
            "flex_flow": null,
            "grid_area": null,
            "grid_auto_columns": null,
            "grid_auto_flow": null,
            "grid_auto_rows": null,
            "grid_column": null,
            "grid_gap": null,
            "grid_row": null,
            "grid_template_areas": null,
            "grid_template_columns": null,
            "grid_template_rows": null,
            "height": null,
            "justify_content": null,
            "justify_items": null,
            "left": null,
            "margin": null,
            "max_height": null,
            "max_width": null,
            "min_height": null,
            "min_width": null,
            "object_fit": null,
            "object_position": null,
            "order": null,
            "overflow": null,
            "overflow_x": null,
            "overflow_y": null,
            "padding": null,
            "right": null,
            "top": null,
            "visibility": null,
            "width": null
          }
        },
        "1f0d4cc55f694349a1310873509bbe50": {
          "model_module": "@jupyter-widgets/controls",
          "model_name": "SliderStyleModel",
          "model_module_version": "1.5.0",
          "state": {
            "_model_module": "@jupyter-widgets/controls",
            "_model_module_version": "1.5.0",
            "_model_name": "SliderStyleModel",
            "_view_count": null,
            "_view_module": "@jupyter-widgets/base",
            "_view_module_version": "1.2.0",
            "_view_name": "StyleView",
            "description_width": "",
            "handle_color": null
          }
        },
        "7a59b48b20a9428e9481edd9d52aa6b4": {
          "model_module": "@jupyter-widgets/controls",
          "model_name": "FloatSliderModel",
          "model_module_version": "1.5.0",
          "state": {
            "_dom_classes": [],
            "_model_module": "@jupyter-widgets/controls",
            "_model_module_version": "1.5.0",
            "_model_name": "FloatSliderModel",
            "_view_count": null,
            "_view_module": "@jupyter-widgets/controls",
            "_view_module_version": "1.5.0",
            "_view_name": "FloatSliderView",
            "continuous_update": true,
            "description": "BMI: ",
            "description_tooltip": null,
            "disabled": false,
            "layout": "IPY_MODEL_3a2750081ace45eaa6fc88442cfacebf",
            "max": 54,
            "min": 15,
            "orientation": "horizontal",
            "readout": true,
            "readout_format": ".2f",
            "step": 0.01,
            "style": "IPY_MODEL_ff17b57d9125471a9bb3d1c02907aaf8",
            "value": 30
          }
        },
        "3a2750081ace45eaa6fc88442cfacebf": {
          "model_module": "@jupyter-widgets/base",
          "model_name": "LayoutModel",
          "model_module_version": "1.2.0",
          "state": {
            "_model_module": "@jupyter-widgets/base",
            "_model_module_version": "1.2.0",
            "_model_name": "LayoutModel",
            "_view_count": null,
            "_view_module": "@jupyter-widgets/base",
            "_view_module_version": "1.2.0",
            "_view_name": "LayoutView",
            "align_content": null,
            "align_items": null,
            "align_self": null,
            "border": null,
            "bottom": null,
            "display": null,
            "flex": null,
            "flex_flow": null,
            "grid_area": null,
            "grid_auto_columns": null,
            "grid_auto_flow": null,
            "grid_auto_rows": null,
            "grid_column": null,
            "grid_gap": null,
            "grid_row": null,
            "grid_template_areas": null,
            "grid_template_columns": null,
            "grid_template_rows": null,
            "height": null,
            "justify_content": null,
            "justify_items": null,
            "left": null,
            "margin": null,
            "max_height": null,
            "max_width": null,
            "min_height": null,
            "min_width": null,
            "object_fit": null,
            "object_position": null,
            "order": null,
            "overflow": null,
            "overflow_x": null,
            "overflow_y": null,
            "padding": null,
            "right": null,
            "top": null,
            "visibility": null,
            "width": null
          }
        },
        "ff17b57d9125471a9bb3d1c02907aaf8": {
          "model_module": "@jupyter-widgets/controls",
          "model_name": "SliderStyleModel",
          "model_module_version": "1.5.0",
          "state": {
            "_model_module": "@jupyter-widgets/controls",
            "_model_module_version": "1.5.0",
            "_model_name": "SliderStyleModel",
            "_view_count": null,
            "_view_module": "@jupyter-widgets/base",
            "_view_module_version": "1.2.0",
            "_view_name": "StyleView",
            "description_width": "",
            "handle_color": null
          }
        },
        "eed136c31f8b4d708ecfb437d5dd0e04": {
          "model_module": "@jupyter-widgets/controls",
          "model_name": "IntSliderModel",
          "model_module_version": "1.5.0",
          "state": {
            "_dom_classes": [],
            "_model_module": "@jupyter-widgets/controls",
            "_model_module_version": "1.5.0",
            "_model_name": "IntSliderModel",
            "_view_count": null,
            "_view_module": "@jupyter-widgets/controls",
            "_view_module_version": "1.5.0",
            "_view_name": "IntSliderView",
            "continuous_update": true,
            "description": "CHILDREN'S:",
            "description_tooltip": null,
            "disabled": false,
            "layout": "IPY_MODEL_e307f2a1f54c4bf1a238e2c990edbab9",
            "max": 10,
            "min": 0,
            "orientation": "horizontal",
            "readout": true,
            "readout_format": "d",
            "step": 1,
            "style": "IPY_MODEL_b5fc36c4fef440fd846ee9eb22a2c819",
            "value": 1
          }
        },
        "e307f2a1f54c4bf1a238e2c990edbab9": {
          "model_module": "@jupyter-widgets/base",
          "model_name": "LayoutModel",
          "model_module_version": "1.2.0",
          "state": {
            "_model_module": "@jupyter-widgets/base",
            "_model_module_version": "1.2.0",
            "_model_name": "LayoutModel",
            "_view_count": null,
            "_view_module": "@jupyter-widgets/base",
            "_view_module_version": "1.2.0",
            "_view_name": "LayoutView",
            "align_content": null,
            "align_items": null,
            "align_self": null,
            "border": null,
            "bottom": null,
            "display": null,
            "flex": null,
            "flex_flow": null,
            "grid_area": null,
            "grid_auto_columns": null,
            "grid_auto_flow": null,
            "grid_auto_rows": null,
            "grid_column": null,
            "grid_gap": null,
            "grid_row": null,
            "grid_template_areas": null,
            "grid_template_columns": null,
            "grid_template_rows": null,
            "height": null,
            "justify_content": null,
            "justify_items": null,
            "left": null,
            "margin": null,
            "max_height": null,
            "max_width": null,
            "min_height": null,
            "min_width": null,
            "object_fit": null,
            "object_position": null,
            "order": null,
            "overflow": null,
            "overflow_x": null,
            "overflow_y": null,
            "padding": null,
            "right": null,
            "top": null,
            "visibility": null,
            "width": null
          }
        },
        "b5fc36c4fef440fd846ee9eb22a2c819": {
          "model_module": "@jupyter-widgets/controls",
          "model_name": "SliderStyleModel",
          "model_module_version": "1.5.0",
          "state": {
            "_model_module": "@jupyter-widgets/controls",
            "_model_module_version": "1.5.0",
            "_model_name": "SliderStyleModel",
            "_view_count": null,
            "_view_module": "@jupyter-widgets/base",
            "_view_module_version": "1.2.0",
            "_view_name": "StyleView",
            "description_width": "",
            "handle_color": null
          }
        },
        "146ca24b2f2a45deb22014b9be63e2d6": {
          "model_module": "@jupyter-widgets/controls",
          "model_name": "ToggleButtonsModel",
          "model_module_version": "1.5.0",
          "state": {
            "_dom_classes": [],
            "_model_module": "@jupyter-widgets/controls",
            "_model_module_version": "1.5.0",
            "_model_name": "ToggleButtonsModel",
            "_options_labels": [
              "female",
              "male"
            ],
            "_view_count": null,
            "_view_module": "@jupyter-widgets/controls",
            "_view_module_version": "1.5.0",
            "_view_name": "ToggleButtonsView",
            "button_style": "",
            "description": "SEX: ",
            "description_tooltip": null,
            "disabled": false,
            "icons": [],
            "index": 0,
            "layout": "IPY_MODEL_ab7202a94ede4b66a130c3e7919e9bc7",
            "style": "IPY_MODEL_4056c0693ea54e2e8defc33af62811a8",
            "tooltips": []
          }
        },
        "ab7202a94ede4b66a130c3e7919e9bc7": {
          "model_module": "@jupyter-widgets/base",
          "model_name": "LayoutModel",
          "model_module_version": "1.2.0",
          "state": {
            "_model_module": "@jupyter-widgets/base",
            "_model_module_version": "1.2.0",
            "_model_name": "LayoutModel",
            "_view_count": null,
            "_view_module": "@jupyter-widgets/base",
            "_view_module_version": "1.2.0",
            "_view_name": "LayoutView",
            "align_content": null,
            "align_items": null,
            "align_self": null,
            "border": null,
            "bottom": null,
            "display": null,
            "flex": null,
            "flex_flow": null,
            "grid_area": null,
            "grid_auto_columns": null,
            "grid_auto_flow": null,
            "grid_auto_rows": null,
            "grid_column": null,
            "grid_gap": null,
            "grid_row": null,
            "grid_template_areas": null,
            "grid_template_columns": null,
            "grid_template_rows": null,
            "height": null,
            "justify_content": null,
            "justify_items": null,
            "left": null,
            "margin": null,
            "max_height": null,
            "max_width": null,
            "min_height": null,
            "min_width": null,
            "object_fit": null,
            "object_position": null,
            "order": null,
            "overflow": null,
            "overflow_x": null,
            "overflow_y": null,
            "padding": null,
            "right": null,
            "top": null,
            "visibility": null,
            "width": null
          }
        },
        "4056c0693ea54e2e8defc33af62811a8": {
          "model_module": "@jupyter-widgets/controls",
          "model_name": "ToggleButtonsStyleModel",
          "model_module_version": "1.5.0",
          "state": {
            "_model_module": "@jupyter-widgets/controls",
            "_model_module_version": "1.5.0",
            "_model_name": "ToggleButtonsStyleModel",
            "_view_count": null,
            "_view_module": "@jupyter-widgets/base",
            "_view_module_version": "1.2.0",
            "_view_name": "StyleView",
            "button_width": "",
            "description_width": "",
            "font_weight": ""
          }
        },
        "cd6c3e3bc3c0418b8d9539d4be1466f7": {
          "model_module": "@jupyter-widgets/controls",
          "model_name": "ToggleButtonsModel",
          "model_module_version": "1.5.0",
          "state": {
            "_dom_classes": [],
            "_model_module": "@jupyter-widgets/controls",
            "_model_module_version": "1.5.0",
            "_model_name": "ToggleButtonsModel",
            "_options_labels": [
              "no",
              "yes"
            ],
            "_view_count": null,
            "_view_module": "@jupyter-widgets/controls",
            "_view_module_version": "1.5.0",
            "_view_name": "ToggleButtonsView",
            "button_style": "",
            "description": "SMOKER: ",
            "description_tooltip": null,
            "disabled": false,
            "icons": [],
            "index": 0,
            "layout": "IPY_MODEL_9290686582de46009e632d1d60227978",
            "style": "IPY_MODEL_564ab33068604a6d9014ab3ca36ed978",
            "tooltips": []
          }
        },
        "9290686582de46009e632d1d60227978": {
          "model_module": "@jupyter-widgets/base",
          "model_name": "LayoutModel",
          "model_module_version": "1.2.0",
          "state": {
            "_model_module": "@jupyter-widgets/base",
            "_model_module_version": "1.2.0",
            "_model_name": "LayoutModel",
            "_view_count": null,
            "_view_module": "@jupyter-widgets/base",
            "_view_module_version": "1.2.0",
            "_view_name": "LayoutView",
            "align_content": null,
            "align_items": null,
            "align_self": null,
            "border": null,
            "bottom": null,
            "display": null,
            "flex": null,
            "flex_flow": null,
            "grid_area": null,
            "grid_auto_columns": null,
            "grid_auto_flow": null,
            "grid_auto_rows": null,
            "grid_column": null,
            "grid_gap": null,
            "grid_row": null,
            "grid_template_areas": null,
            "grid_template_columns": null,
            "grid_template_rows": null,
            "height": null,
            "justify_content": null,
            "justify_items": null,
            "left": null,
            "margin": null,
            "max_height": null,
            "max_width": null,
            "min_height": null,
            "min_width": null,
            "object_fit": null,
            "object_position": null,
            "order": null,
            "overflow": null,
            "overflow_x": null,
            "overflow_y": null,
            "padding": null,
            "right": null,
            "top": null,
            "visibility": null,
            "width": null
          }
        },
        "564ab33068604a6d9014ab3ca36ed978": {
          "model_module": "@jupyter-widgets/controls",
          "model_name": "ToggleButtonsStyleModel",
          "model_module_version": "1.5.0",
          "state": {
            "_model_module": "@jupyter-widgets/controls",
            "_model_module_version": "1.5.0",
            "_model_name": "ToggleButtonsStyleModel",
            "_view_count": null,
            "_view_module": "@jupyter-widgets/base",
            "_view_module_version": "1.2.0",
            "_view_name": "StyleView",
            "button_width": "",
            "description_width": "",
            "font_weight": ""
          }
        },
        "74f1da25e3084aa59f16ccbee519e35d": {
          "model_module": "@jupyter-widgets/controls",
          "model_name": "DropdownModel",
          "model_module_version": "1.5.0",
          "state": {
            "_dom_classes": [],
            "_model_module": "@jupyter-widgets/controls",
            "_model_module_version": "1.5.0",
            "_model_name": "DropdownModel",
            "_options_labels": [
              "northwest",
              "southwest",
              "northeast",
              "southeast"
            ],
            "_view_count": null,
            "_view_module": "@jupyter-widgets/controls",
            "_view_module_version": "1.5.0",
            "_view_name": "DropdownView",
            "description": "REGION: ",
            "description_tooltip": null,
            "disabled": false,
            "index": 0,
            "layout": "IPY_MODEL_1ab8d271513f401f96351d552c23a0bb",
            "style": "IPY_MODEL_1f3d1113228048f5ba3313632d615aa6"
          }
        },
        "1ab8d271513f401f96351d552c23a0bb": {
          "model_module": "@jupyter-widgets/base",
          "model_name": "LayoutModel",
          "model_module_version": "1.2.0",
          "state": {
            "_model_module": "@jupyter-widgets/base",
            "_model_module_version": "1.2.0",
            "_model_name": "LayoutModel",
            "_view_count": null,
            "_view_module": "@jupyter-widgets/base",
            "_view_module_version": "1.2.0",
            "_view_name": "LayoutView",
            "align_content": null,
            "align_items": null,
            "align_self": null,
            "border": null,
            "bottom": null,
            "display": null,
            "flex": null,
            "flex_flow": null,
            "grid_area": null,
            "grid_auto_columns": null,
            "grid_auto_flow": null,
            "grid_auto_rows": null,
            "grid_column": null,
            "grid_gap": null,
            "grid_row": null,
            "grid_template_areas": null,
            "grid_template_columns": null,
            "grid_template_rows": null,
            "height": null,
            "justify_content": null,
            "justify_items": null,
            "left": null,
            "margin": null,
            "max_height": null,
            "max_width": null,
            "min_height": null,
            "min_width": null,
            "object_fit": null,
            "object_position": null,
            "order": null,
            "overflow": null,
            "overflow_x": null,
            "overflow_y": null,
            "padding": null,
            "right": null,
            "top": null,
            "visibility": null,
            "width": null
          }
        },
        "1f3d1113228048f5ba3313632d615aa6": {
          "model_module": "@jupyter-widgets/controls",
          "model_name": "DescriptionStyleModel",
          "model_module_version": "1.5.0",
          "state": {
            "_model_module": "@jupyter-widgets/controls",
            "_model_module_version": "1.5.0",
            "_model_name": "DescriptionStyleModel",
            "_view_count": null,
            "_view_module": "@jupyter-widgets/base",
            "_view_module_version": "1.2.0",
            "_view_name": "StyleView",
            "description_width": ""
          }
        },
        "5d067cc440654cca8ef87cd8fe220a34": {
          "model_module": "@jupyter-widgets/controls",
          "model_name": "IntSliderModel",
          "model_module_version": "1.5.0",
          "state": {
            "_dom_classes": [],
            "_model_module": "@jupyter-widgets/controls",
            "_model_module_version": "1.5.0",
            "_model_name": "IntSliderModel",
            "_view_count": null,
            "_view_module": "@jupyter-widgets/controls",
            "_view_module_version": "1.5.0",
            "_view_name": "IntSliderView",
            "continuous_update": true,
            "description": "AGE:",
            "description_tooltip": null,
            "disabled": false,
            "layout": "IPY_MODEL_76187a9fd9f748f98e11e5713184f39e",
            "max": 60,
            "min": 10,
            "orientation": "horizontal",
            "readout": true,
            "readout_format": "d",
            "step": 1,
            "style": "IPY_MODEL_ebaed720717f4126bc384a1927459fcc",
            "value": 18
          }
        },
        "76187a9fd9f748f98e11e5713184f39e": {
          "model_module": "@jupyter-widgets/base",
          "model_name": "LayoutModel",
          "model_module_version": "1.2.0",
          "state": {
            "_model_module": "@jupyter-widgets/base",
            "_model_module_version": "1.2.0",
            "_model_name": "LayoutModel",
            "_view_count": null,
            "_view_module": "@jupyter-widgets/base",
            "_view_module_version": "1.2.0",
            "_view_name": "LayoutView",
            "align_content": null,
            "align_items": null,
            "align_self": null,
            "border": null,
            "bottom": null,
            "display": null,
            "flex": null,
            "flex_flow": null,
            "grid_area": null,
            "grid_auto_columns": null,
            "grid_auto_flow": null,
            "grid_auto_rows": null,
            "grid_column": null,
            "grid_gap": null,
            "grid_row": null,
            "grid_template_areas": null,
            "grid_template_columns": null,
            "grid_template_rows": null,
            "height": null,
            "justify_content": null,
            "justify_items": null,
            "left": null,
            "margin": null,
            "max_height": null,
            "max_width": null,
            "min_height": null,
            "min_width": null,
            "object_fit": null,
            "object_position": null,
            "order": null,
            "overflow": null,
            "overflow_x": null,
            "overflow_y": null,
            "padding": null,
            "right": null,
            "top": null,
            "visibility": null,
            "width": null
          }
        },
        "ebaed720717f4126bc384a1927459fcc": {
          "model_module": "@jupyter-widgets/controls",
          "model_name": "SliderStyleModel",
          "model_module_version": "1.5.0",
          "state": {
            "_model_module": "@jupyter-widgets/controls",
            "_model_module_version": "1.5.0",
            "_model_name": "SliderStyleModel",
            "_view_count": null,
            "_view_module": "@jupyter-widgets/base",
            "_view_module_version": "1.2.0",
            "_view_name": "StyleView",
            "description_width": "",
            "handle_color": null
          }
        },
        "eebdc218f15d4d3f97e1f67b90ede53f": {
          "model_module": "@jupyter-widgets/controls",
          "model_name": "FloatSliderModel",
          "model_module_version": "1.5.0",
          "state": {
            "_dom_classes": [],
            "_model_module": "@jupyter-widgets/controls",
            "_model_module_version": "1.5.0",
            "_model_name": "FloatSliderModel",
            "_view_count": null,
            "_view_module": "@jupyter-widgets/controls",
            "_view_module_version": "1.5.0",
            "_view_name": "FloatSliderView",
            "continuous_update": true,
            "description": "BMI: ",
            "description_tooltip": null,
            "disabled": false,
            "layout": "IPY_MODEL_676b252feec047afa132c352377a9072",
            "max": 54,
            "min": 15,
            "orientation": "horizontal",
            "readout": true,
            "readout_format": ".2f",
            "step": 0.01,
            "style": "IPY_MODEL_4bb8245fa02b4e9b936f12f10ff5090b",
            "value": 30
          }
        },
        "676b252feec047afa132c352377a9072": {
          "model_module": "@jupyter-widgets/base",
          "model_name": "LayoutModel",
          "model_module_version": "1.2.0",
          "state": {
            "_model_module": "@jupyter-widgets/base",
            "_model_module_version": "1.2.0",
            "_model_name": "LayoutModel",
            "_view_count": null,
            "_view_module": "@jupyter-widgets/base",
            "_view_module_version": "1.2.0",
            "_view_name": "LayoutView",
            "align_content": null,
            "align_items": null,
            "align_self": null,
            "border": null,
            "bottom": null,
            "display": null,
            "flex": null,
            "flex_flow": null,
            "grid_area": null,
            "grid_auto_columns": null,
            "grid_auto_flow": null,
            "grid_auto_rows": null,
            "grid_column": null,
            "grid_gap": null,
            "grid_row": null,
            "grid_template_areas": null,
            "grid_template_columns": null,
            "grid_template_rows": null,
            "height": null,
            "justify_content": null,
            "justify_items": null,
            "left": null,
            "margin": null,
            "max_height": null,
            "max_width": null,
            "min_height": null,
            "min_width": null,
            "object_fit": null,
            "object_position": null,
            "order": null,
            "overflow": null,
            "overflow_x": null,
            "overflow_y": null,
            "padding": null,
            "right": null,
            "top": null,
            "visibility": null,
            "width": null
          }
        },
        "4bb8245fa02b4e9b936f12f10ff5090b": {
          "model_module": "@jupyter-widgets/controls",
          "model_name": "SliderStyleModel",
          "model_module_version": "1.5.0",
          "state": {
            "_model_module": "@jupyter-widgets/controls",
            "_model_module_version": "1.5.0",
            "_model_name": "SliderStyleModel",
            "_view_count": null,
            "_view_module": "@jupyter-widgets/base",
            "_view_module_version": "1.2.0",
            "_view_name": "StyleView",
            "description_width": "",
            "handle_color": null
          }
        },
        "a3780146e6dd4b888c85c8b193465ed3": {
          "model_module": "@jupyter-widgets/controls",
          "model_name": "IntSliderModel",
          "model_module_version": "1.5.0",
          "state": {
            "_dom_classes": [],
            "_model_module": "@jupyter-widgets/controls",
            "_model_module_version": "1.5.0",
            "_model_name": "IntSliderModel",
            "_view_count": null,
            "_view_module": "@jupyter-widgets/controls",
            "_view_module_version": "1.5.0",
            "_view_name": "IntSliderView",
            "continuous_update": true,
            "description": "CHILDREN'S:",
            "description_tooltip": null,
            "disabled": false,
            "layout": "IPY_MODEL_dc8d4677e6214ea5b5daefa73d49155b",
            "max": 10,
            "min": 0,
            "orientation": "horizontal",
            "readout": true,
            "readout_format": "d",
            "step": 1,
            "style": "IPY_MODEL_db4dfe583737425d845fc21d1fda5b4f",
            "value": 1
          }
        },
        "dc8d4677e6214ea5b5daefa73d49155b": {
          "model_module": "@jupyter-widgets/base",
          "model_name": "LayoutModel",
          "model_module_version": "1.2.0",
          "state": {
            "_model_module": "@jupyter-widgets/base",
            "_model_module_version": "1.2.0",
            "_model_name": "LayoutModel",
            "_view_count": null,
            "_view_module": "@jupyter-widgets/base",
            "_view_module_version": "1.2.0",
            "_view_name": "LayoutView",
            "align_content": null,
            "align_items": null,
            "align_self": null,
            "border": null,
            "bottom": null,
            "display": null,
            "flex": null,
            "flex_flow": null,
            "grid_area": null,
            "grid_auto_columns": null,
            "grid_auto_flow": null,
            "grid_auto_rows": null,
            "grid_column": null,
            "grid_gap": null,
            "grid_row": null,
            "grid_template_areas": null,
            "grid_template_columns": null,
            "grid_template_rows": null,
            "height": null,
            "justify_content": null,
            "justify_items": null,
            "left": null,
            "margin": null,
            "max_height": null,
            "max_width": null,
            "min_height": null,
            "min_width": null,
            "object_fit": null,
            "object_position": null,
            "order": null,
            "overflow": null,
            "overflow_x": null,
            "overflow_y": null,
            "padding": null,
            "right": null,
            "top": null,
            "visibility": null,
            "width": null
          }
        },
        "db4dfe583737425d845fc21d1fda5b4f": {
          "model_module": "@jupyter-widgets/controls",
          "model_name": "SliderStyleModel",
          "model_module_version": "1.5.0",
          "state": {
            "_model_module": "@jupyter-widgets/controls",
            "_model_module_version": "1.5.0",
            "_model_name": "SliderStyleModel",
            "_view_count": null,
            "_view_module": "@jupyter-widgets/base",
            "_view_module_version": "1.2.0",
            "_view_name": "StyleView",
            "description_width": "",
            "handle_color": null
          }
        },
        "7f740813129048ac9667d5dfffcf6805": {
          "model_module": "@jupyter-widgets/controls",
          "model_name": "ToggleButtonsModel",
          "model_module_version": "1.5.0",
          "state": {
            "_dom_classes": [],
            "_model_module": "@jupyter-widgets/controls",
            "_model_module_version": "1.5.0",
            "_model_name": "ToggleButtonsModel",
            "_options_labels": [
              "female",
              "male"
            ],
            "_view_count": null,
            "_view_module": "@jupyter-widgets/controls",
            "_view_module_version": "1.5.0",
            "_view_name": "ToggleButtonsView",
            "button_style": "",
            "description": "SEX: ",
            "description_tooltip": null,
            "disabled": false,
            "icons": [],
            "index": 0,
            "layout": "IPY_MODEL_581cbf21a32e4f6491a74d861610ffc8",
            "style": "IPY_MODEL_ed9b92b3274e4524a751f1774213f73f",
            "tooltips": []
          }
        },
        "581cbf21a32e4f6491a74d861610ffc8": {
          "model_module": "@jupyter-widgets/base",
          "model_name": "LayoutModel",
          "model_module_version": "1.2.0",
          "state": {
            "_model_module": "@jupyter-widgets/base",
            "_model_module_version": "1.2.0",
            "_model_name": "LayoutModel",
            "_view_count": null,
            "_view_module": "@jupyter-widgets/base",
            "_view_module_version": "1.2.0",
            "_view_name": "LayoutView",
            "align_content": null,
            "align_items": null,
            "align_self": null,
            "border": null,
            "bottom": null,
            "display": null,
            "flex": null,
            "flex_flow": null,
            "grid_area": null,
            "grid_auto_columns": null,
            "grid_auto_flow": null,
            "grid_auto_rows": null,
            "grid_column": null,
            "grid_gap": null,
            "grid_row": null,
            "grid_template_areas": null,
            "grid_template_columns": null,
            "grid_template_rows": null,
            "height": null,
            "justify_content": null,
            "justify_items": null,
            "left": null,
            "margin": null,
            "max_height": null,
            "max_width": null,
            "min_height": null,
            "min_width": null,
            "object_fit": null,
            "object_position": null,
            "order": null,
            "overflow": null,
            "overflow_x": null,
            "overflow_y": null,
            "padding": null,
            "right": null,
            "top": null,
            "visibility": null,
            "width": null
          }
        },
        "ed9b92b3274e4524a751f1774213f73f": {
          "model_module": "@jupyter-widgets/controls",
          "model_name": "ToggleButtonsStyleModel",
          "model_module_version": "1.5.0",
          "state": {
            "_model_module": "@jupyter-widgets/controls",
            "_model_module_version": "1.5.0",
            "_model_name": "ToggleButtonsStyleModel",
            "_view_count": null,
            "_view_module": "@jupyter-widgets/base",
            "_view_module_version": "1.2.0",
            "_view_name": "StyleView",
            "button_width": "",
            "description_width": "",
            "font_weight": ""
          }
        },
        "e788bbf105fb4f60b66290f85f2910da": {
          "model_module": "@jupyter-widgets/controls",
          "model_name": "ToggleButtonsModel",
          "model_module_version": "1.5.0",
          "state": {
            "_dom_classes": [],
            "_model_module": "@jupyter-widgets/controls",
            "_model_module_version": "1.5.0",
            "_model_name": "ToggleButtonsModel",
            "_options_labels": [
              "no",
              "yes"
            ],
            "_view_count": null,
            "_view_module": "@jupyter-widgets/controls",
            "_view_module_version": "1.5.0",
            "_view_name": "ToggleButtonsView",
            "button_style": "",
            "description": "SMOKER: ",
            "description_tooltip": null,
            "disabled": false,
            "icons": [],
            "index": 0,
            "layout": "IPY_MODEL_dcf6d37dd67b4afeb8afd0946d9808bd",
            "style": "IPY_MODEL_ff9232782149495caf1af5f767faae44",
            "tooltips": []
          }
        },
        "dcf6d37dd67b4afeb8afd0946d9808bd": {
          "model_module": "@jupyter-widgets/base",
          "model_name": "LayoutModel",
          "model_module_version": "1.2.0",
          "state": {
            "_model_module": "@jupyter-widgets/base",
            "_model_module_version": "1.2.0",
            "_model_name": "LayoutModel",
            "_view_count": null,
            "_view_module": "@jupyter-widgets/base",
            "_view_module_version": "1.2.0",
            "_view_name": "LayoutView",
            "align_content": null,
            "align_items": null,
            "align_self": null,
            "border": null,
            "bottom": null,
            "display": null,
            "flex": null,
            "flex_flow": null,
            "grid_area": null,
            "grid_auto_columns": null,
            "grid_auto_flow": null,
            "grid_auto_rows": null,
            "grid_column": null,
            "grid_gap": null,
            "grid_row": null,
            "grid_template_areas": null,
            "grid_template_columns": null,
            "grid_template_rows": null,
            "height": null,
            "justify_content": null,
            "justify_items": null,
            "left": null,
            "margin": null,
            "max_height": null,
            "max_width": null,
            "min_height": null,
            "min_width": null,
            "object_fit": null,
            "object_position": null,
            "order": null,
            "overflow": null,
            "overflow_x": null,
            "overflow_y": null,
            "padding": null,
            "right": null,
            "top": null,
            "visibility": null,
            "width": null
          }
        },
        "ff9232782149495caf1af5f767faae44": {
          "model_module": "@jupyter-widgets/controls",
          "model_name": "ToggleButtonsStyleModel",
          "model_module_version": "1.5.0",
          "state": {
            "_model_module": "@jupyter-widgets/controls",
            "_model_module_version": "1.5.0",
            "_model_name": "ToggleButtonsStyleModel",
            "_view_count": null,
            "_view_module": "@jupyter-widgets/base",
            "_view_module_version": "1.2.0",
            "_view_name": "StyleView",
            "button_width": "",
            "description_width": "",
            "font_weight": ""
          }
        },
        "c062cd10358448c29fcb7b723d33d051": {
          "model_module": "@jupyter-widgets/controls",
          "model_name": "DropdownModel",
          "model_module_version": "1.5.0",
          "state": {
            "_dom_classes": [],
            "_model_module": "@jupyter-widgets/controls",
            "_model_module_version": "1.5.0",
            "_model_name": "DropdownModel",
            "_options_labels": [
              "northwest",
              "southwest",
              "northeast",
              "southeast"
            ],
            "_view_count": null,
            "_view_module": "@jupyter-widgets/controls",
            "_view_module_version": "1.5.0",
            "_view_name": "DropdownView",
            "description": "REGION: ",
            "description_tooltip": null,
            "disabled": false,
            "index": 0,
            "layout": "IPY_MODEL_dab8a37bb95a4633873da5f52c5d6694",
            "style": "IPY_MODEL_b0b9c1beee96423fa7a8d18b2e4b69d4"
          }
        },
        "dab8a37bb95a4633873da5f52c5d6694": {
          "model_module": "@jupyter-widgets/base",
          "model_name": "LayoutModel",
          "model_module_version": "1.2.0",
          "state": {
            "_model_module": "@jupyter-widgets/base",
            "_model_module_version": "1.2.0",
            "_model_name": "LayoutModel",
            "_view_count": null,
            "_view_module": "@jupyter-widgets/base",
            "_view_module_version": "1.2.0",
            "_view_name": "LayoutView",
            "align_content": null,
            "align_items": null,
            "align_self": null,
            "border": null,
            "bottom": null,
            "display": null,
            "flex": null,
            "flex_flow": null,
            "grid_area": null,
            "grid_auto_columns": null,
            "grid_auto_flow": null,
            "grid_auto_rows": null,
            "grid_column": null,
            "grid_gap": null,
            "grid_row": null,
            "grid_template_areas": null,
            "grid_template_columns": null,
            "grid_template_rows": null,
            "height": null,
            "justify_content": null,
            "justify_items": null,
            "left": null,
            "margin": null,
            "max_height": null,
            "max_width": null,
            "min_height": null,
            "min_width": null,
            "object_fit": null,
            "object_position": null,
            "order": null,
            "overflow": null,
            "overflow_x": null,
            "overflow_y": null,
            "padding": null,
            "right": null,
            "top": null,
            "visibility": null,
            "width": null
          }
        },
        "b0b9c1beee96423fa7a8d18b2e4b69d4": {
          "model_module": "@jupyter-widgets/controls",
          "model_name": "DescriptionStyleModel",
          "model_module_version": "1.5.0",
          "state": {
            "_model_module": "@jupyter-widgets/controls",
            "_model_module_version": "1.5.0",
            "_model_name": "DescriptionStyleModel",
            "_view_count": null,
            "_view_module": "@jupyter-widgets/base",
            "_view_module_version": "1.2.0",
            "_view_name": "StyleView",
            "description_width": ""
          }
        },
        "b299ff1110d44889ac588b45818c9600": {
          "model_module": "@jupyter-widgets/controls",
          "model_name": "ButtonModel",
          "model_module_version": "1.5.0",
          "state": {
            "_dom_classes": [],
            "_model_module": "@jupyter-widgets/controls",
            "_model_module_version": "1.5.0",
            "_model_name": "ButtonModel",
            "_view_count": null,
            "_view_module": "@jupyter-widgets/controls",
            "_view_module_version": "1.5.0",
            "_view_name": "ButtonView",
            "button_style": "",
            "description": "Predict",
            "disabled": false,
            "icon": "",
            "layout": "IPY_MODEL_1d5330860b824f6680b616389149b465",
            "style": "IPY_MODEL_857f3b4afc684493ae819220f3f32fb3",
            "tooltip": ""
          }
        },
        "1d5330860b824f6680b616389149b465": {
          "model_module": "@jupyter-widgets/base",
          "model_name": "LayoutModel",
          "model_module_version": "1.2.0",
          "state": {
            "_model_module": "@jupyter-widgets/base",
            "_model_module_version": "1.2.0",
            "_model_name": "LayoutModel",
            "_view_count": null,
            "_view_module": "@jupyter-widgets/base",
            "_view_module_version": "1.2.0",
            "_view_name": "LayoutView",
            "align_content": null,
            "align_items": null,
            "align_self": null,
            "border": null,
            "bottom": null,
            "display": null,
            "flex": null,
            "flex_flow": null,
            "grid_area": null,
            "grid_auto_columns": null,
            "grid_auto_flow": null,
            "grid_auto_rows": null,
            "grid_column": null,
            "grid_gap": null,
            "grid_row": null,
            "grid_template_areas": null,
            "grid_template_columns": null,
            "grid_template_rows": null,
            "height": null,
            "justify_content": null,
            "justify_items": null,
            "left": null,
            "margin": null,
            "max_height": null,
            "max_width": null,
            "min_height": null,
            "min_width": null,
            "object_fit": null,
            "object_position": null,
            "order": null,
            "overflow": null,
            "overflow_x": null,
            "overflow_y": null,
            "padding": null,
            "right": null,
            "top": null,
            "visibility": null,
            "width": null
          }
        },
        "857f3b4afc684493ae819220f3f32fb3": {
          "model_module": "@jupyter-widgets/controls",
          "model_name": "ButtonStyleModel",
          "model_module_version": "1.5.0",
          "state": {
            "_model_module": "@jupyter-widgets/controls",
            "_model_module_version": "1.5.0",
            "_model_name": "ButtonStyleModel",
            "_view_count": null,
            "_view_module": "@jupyter-widgets/base",
            "_view_module_version": "1.2.0",
            "_view_name": "StyleView",
            "button_color": null,
            "font_weight": ""
          }
        },
        "605e82282650402d9dce04aceb097aa4": {
          "model_module": "@jupyter-widgets/output",
          "model_name": "OutputModel",
          "model_module_version": "1.0.0",
          "state": {
            "_dom_classes": [],
            "_model_module": "@jupyter-widgets/output",
            "_model_module_version": "1.0.0",
            "_model_name": "OutputModel",
            "_view_count": null,
            "_view_module": "@jupyter-widgets/output",
            "_view_module_version": "1.0.0",
            "_view_name": "OutputView",
            "layout": "IPY_MODEL_b3fe61e5ab6b4ff2b8e6be18795d04c0",
            "msg_id": "",
            "outputs": []
          }
        },
        "b3fe61e5ab6b4ff2b8e6be18795d04c0": {
          "model_module": "@jupyter-widgets/base",
          "model_name": "LayoutModel",
          "model_module_version": "1.2.0",
          "state": {
            "_model_module": "@jupyter-widgets/base",
            "_model_module_version": "1.2.0",
            "_model_name": "LayoutModel",
            "_view_count": null,
            "_view_module": "@jupyter-widgets/base",
            "_view_module_version": "1.2.0",
            "_view_name": "LayoutView",
            "align_content": null,
            "align_items": null,
            "align_self": null,
            "border": null,
            "bottom": null,
            "display": null,
            "flex": null,
            "flex_flow": null,
            "grid_area": null,
            "grid_auto_columns": null,
            "grid_auto_flow": null,
            "grid_auto_rows": null,
            "grid_column": null,
            "grid_gap": null,
            "grid_row": null,
            "grid_template_areas": null,
            "grid_template_columns": null,
            "grid_template_rows": null,
            "height": null,
            "justify_content": null,
            "justify_items": null,
            "left": null,
            "margin": null,
            "max_height": null,
            "max_width": null,
            "min_height": null,
            "min_width": null,
            "object_fit": null,
            "object_position": null,
            "order": null,
            "overflow": null,
            "overflow_x": null,
            "overflow_y": null,
            "padding": null,
            "right": null,
            "top": null,
            "visibility": null,
            "width": null
          }
        }
      }
    }
  },
  "nbformat": 4,
  "nbformat_minor": 0
}